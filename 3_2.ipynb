{
  "nbformat": 4,
  "nbformat_minor": 0,
  "metadata": {
    "colab": {
      "name": "3.2.ipynb",
      "provenance": [],
      "collapsed_sections": [],
      "toc_visible": true,
      "include_colab_link": true
    },
    "kernelspec": {
      "name": "python3",
      "display_name": "Python 3"
    }
  },
  "cells": [
    {
      "cell_type": "markdown",
      "metadata": {
        "id": "view-in-github",
        "colab_type": "text"
      },
      "source": [
        "<a href=\"https://colab.research.google.com/github/SrMouraSilva/Introducao-a-Modelagem/blob/main/3_2.ipynb\" target=\"_parent\"><img src=\"https://colab.research.google.com/assets/colab-badge.svg\" alt=\"Open In Colab\"/></a>"
      ]
    },
    {
      "cell_type": "code",
      "metadata": {
        "id": "r7FFD4Sr-IFq",
        "colab": {
          "base_uri": "https://localhost:8080/",
          "height": 17
        },
        "outputId": "b5b313de-94fe-4bc3-d184-32b21624655c"
      },
      "source": [
        "# Programação simbólica\n",
        "from sympy import *\n",
        "from sympy.plotting import plot, plot3d\n",
        " \n",
        "# Exibir símbolos nos plots\n",
        "from google.colab.output._publish import javascript\n",
        "url = \"https://cdnjs.cloudflare.com/ajax/libs/mathjax/3.1.2/latest.js?config=default\"\n",
        " \n",
        "javascript(url=url)\n",
        "from IPython.display import Math\n",
        " \n",
        "# Manipulação dos dados\n",
        "import numpy as np\n",
        "import pandas as pd\n",
        " \n",
        "# Gráficos\n",
        "import matplotlib as mpl\n",
        "import matplotlib.pyplot as plt\n",
        " \n",
        "import seaborn as sns\n",
        "sns.set_theme()\n",
        " \n",
        "mpl.rcParams['figure.figsize'] = (12,8)\n",
        "mpl.rcParams['font.size'] = 14\n",
        "mpl.rcParams['legend.fontsize'] = 14"
      ],
      "execution_count": null,
      "outputs": [
        {
          "output_type": "display_data",
          "data": {
            "text/html": [
              "<script src='https://cdnjs.cloudflare.com/ajax/libs/mathjax/3.1.2/latest.js?config=default'></script>"
            ],
            "text/plain": [
              "<IPython.core.display.HTML object>"
            ]
          },
          "metadata": {
            "tags": []
          }
        }
      ]
    },
    {
      "cell_type": "markdown",
      "metadata": {
        "id": "mnTEZuBg6OHQ"
      },
      "source": [
        "## Questão 3.2\n",
        "Reconsider the pig problem of Example 1.1, but now suppose that the weight of the pig after $t$ days is $w=\\frac{800}{1+3e^{\\frac{-t}{30}}}$ lbs.\n",
        " \n",
        "Descrição do Exemplo 1.1:\n",
        " \n",
        "> A pig weighing 200 pounds gains 5 pounds per day and costs 45 cents a day to keep. The market price for pigs is 65 cents per pound, but is falling 1 cent per day. When should the pig be sold?\n",
        " \n"
      ]
    },
    {
      "cell_type": "markdown",
      "metadata": {
        "id": "NhJl_CiBMreH"
      },
      "source": [
        "\n",
        "### a) Show that the pig is gaining about 5 lbs/day at time $t=0$. What happens as $t$ increases?\n",
        " \n",
        "Expresse a relação peso $w$ x tempo $t$  conforme abaixo\n",
        "$$w=\\frac{800}{1+3e^{\\frac{-t}{30}}} \\text{ lbs} $$\n",
        " \n",
        "Faça $t = 0$ e $w = w_0$\n",
        "    \n",
        "$$w_0 = \\frac{800}{1+3e^{0}} =  200 \\text{ lbs} $$\n",
        "    \n",
        "Faça $t = 1$ e $w = w_1$\n",
        "    \n",
        "$$w_1 = \\frac{800}{1+3e^{\\frac{-1}{30}}} \\approx 205 \\text{ lbs} $$\n",
        "    \n",
        "Expresse $\\Delta_w$ como variação de peso por dia no tempo $t = 0$ conforme abaixo\n",
        "    \n",
        "$$\\Delta_w = w_1 - w_0 $$\n",
        "    \n",
        "    \n",
        "Faça $w_0 = 200$ e $w_1 = 205$\n",
        "    \n",
        "$$\\Delta_w = w_1 - w_0 = 205 - 200 = 5 \\text{ lbs}$$  \n",
        "    \n",
        "Portanto, foi mostrado que o peso dos suínos está aumentando 5 lbs ao dia no tempo $t = 0$.\n",
        " \n",
        "Pelo gráfico abaixo, o comportamento da função peso $w$ está crescendo a medida que o tempo $t$ aumenta, e segue uma função exponencial conforme o tempo avança."
      ]
    },
    {
      "cell_type": "code",
      "metadata": {
        "id": "dnhduJDq6N6l",
        "colab": {
          "base_uri": "https://localhost:8080/",
          "height": 425
        },
        "outputId": "38d4a970-b852-4ad3-989f-d7ed345251af"
      },
      "source": [
        "t = Symbol('t', real=True)\n",
        "\n",
        "w = 800/(1+3*E**(-t/30))\n",
        "\n",
        "plot(w, (t, 0, 300), ylim=[0, 850], title='Peso do porco no $t$-ésimo dia')"
      ],
      "execution_count": null,
      "outputs": [
        {
          "output_type": "stream",
          "text": [
            "/usr/local/lib/python3.6/dist-packages/sympy/plotting/plot.py:890: MatplotlibDeprecationWarning: \n",
            "The set_smart_bounds function was deprecated in Matplotlib 3.2 and will be removed two minor releases later.\n",
            "  self.ax.spines['left'].set_smart_bounds(True)\n",
            "/usr/local/lib/python3.6/dist-packages/sympy/plotting/plot.py:891: MatplotlibDeprecationWarning: \n",
            "The set_smart_bounds function was deprecated in Matplotlib 3.2 and will be removed two minor releases later.\n",
            "  self.ax.spines['bottom'].set_smart_bounds(False)\n"
          ],
          "name": "stderr"
        },
        {
          "output_type": "display_data",
          "data": {
            "image/png": "[encoded data removed]",
            "text/plain": [
              "<Figure size 432x288 with 1 Axes>"
            ]
          },
          "metadata": {
            "tags": [],
            "needs_background": "light"
          }
        },
        {
          "output_type": "execute_result",
          "data": {
            "text/plain": [
              "<sympy.plotting.plot.Plot at 0x7fa5260d9e48>"
            ]
          },
          "metadata": {
            "tags": []
          },
          "execution_count": 2
        }
      ]
    },
    {
      "cell_type": "markdown",
      "metadata": {
        "id": "8WAnYVSf7GWZ"
      },
      "source": [
        "### b) Find the optimal time to sell the pig. Use the five-step method, and model as a one–variable optimization problem.\n",
        "\n",
        "\n"
      ]
    },
    {
      "cell_type": "markdown",
      "metadata": {
        "id": "CHHLK8B0Muob"
      },
      "source": [
        "\n",
        "#### Passo 1 - Variáveis\n",
        "\n",
        "* $t$ = tempo (dias)\n",
        "* $w$ = peso do porco (lbs)\n",
        "* $p$ = preço do porco (\\\\$/lb)\n",
        "* $C$ = custo de manutenção do porco em $t$ dias (\\\\$)\n",
        "* $R$ = receita obtida com a venda do porco (\\\\$)\n",
        "* $P$ = lucro com a venda do porco (\\\\$)\n"
      ]
    },
    {
      "cell_type": "markdown",
      "metadata": {
        "id": "lJ3oZq_bMuji"
      },
      "source": [
        "\n",
        "#### Passo 1 - Suposições do problema\n"
      ]
    },
    {
      "cell_type": "code",
      "metadata": {
        "id": "VSJQS2oz7LFE"
      },
      "source": [
        "t = Symbol('t', nonnegative=True, real=True, imaginary=False)\n",
        "\n",
        "w = 800/(1+3*exp(-t/30))\n",
        "p = 0.65-0.01*t\n",
        "C = 0.45*t\n",
        "R = p*w\n",
        "P = R-C\n",
        "\n",
        "#t >= 0"
      ],
      "execution_count": null,
      "outputs": []
    },
    {
      "cell_type": "markdown",
      "metadata": {
        "id": "OHFVjl0E-Rm3"
      },
      "source": [
        "#### Passo 2 - Abordagem de modelagem\n",
        "\n",
        "Problema de otimização unidimensional cujo objetivo é maximizar $P$ lucro do proprietário do porco.\n",
        "\n",
        "\n"
      ]
    },
    {
      "cell_type": "markdown",
      "metadata": {
        "id": "BR6Oty-dMyu6"
      },
      "source": [
        "\n",
        "#### Passo 3 - Formulação do modelo\n",
        "\n",
        "$$\n",
        "\\begin{align}\n",
        "\\text{max} ~~& f(t) \\\\\n",
        "\\text{sujeito a} ~~& t \\in \\Omega \\\\\n",
        "\\end{align}\n",
        "$$\n",
        "\n",
        "Sendo:\n",
        "* $f(t)$: Função objetivo\n",
        "* $\\Omega$: Espaço viável das variáveis do problema.\n",
        "\n",
        "Desta forma, temos:\n",
        "\n",
        "$$\n",
        "\\begin{align}\n",
        "\\text{max} ~~& f(t) = - 0.45 t + \\frac{800 \\left(- 0.01 t + 0.65\\right)}{1 + 3 e^{- \\frac{t}{30}}}\\\\\n",
        "\\text{sujeito a} ~~& t \\geq 0 \\\\\n",
        "\\end{align}\n",
        "$$"
      ]
    },
    {
      "cell_type": "markdown",
      "metadata": {
        "id": "W6fUA7vqMypN"
      },
      "source": [
        "#### Passo 4 - Resolução do modelo\n",
        "\n",
        "Função a ser otimizada:"
      ]
    },
    {
      "cell_type": "code",
      "metadata": {
        "id": "QhmnL_3lAr12",
        "colab": {
          "base_uri": "https://localhost:8080/",
          "height": 46
        },
        "outputId": "4bad17ad-db1c-449e-ae47-e347a8cde63b"
      },
      "source": [
        "f = P\n",
        "Math(f\"f(t)={latex(f)}\")"
      ],
      "execution_count": null,
      "outputs": [
        {
          "output_type": "execute_result",
          "data": {
            "text/latex": "$$f(t)=- 0.45 t + \\frac{800 \\left(- 0.01 t + 0.65\\right)}{1 + 3 e^{- \\frac{t}{30}}}$$",
            "text/plain": [
              "<IPython.core.display.Math object>"
            ]
          },
          "metadata": {
            "tags": []
          },
          "execution_count": 4
        }
      ]
    },
    {
      "cell_type": "markdown",
      "metadata": {
        "id": "0_UZ2AG7BbTS"
      },
      "source": [
        "Calculando $\\frac{df(t)}{dt}$,"
      ]
    },
    {
      "cell_type": "code",
      "metadata": {
        "id": "EPijJKGzBd_V",
        "colab": {
          "base_uri": "https://localhost:8080/",
          "height": 50
        },
        "outputId": "8523cfdf-35b8-4e71-cd29-c6fc48e7ba4c"
      },
      "source": [
        "dfdt = diff(f, t)\n",
        "Math(\"\\\\frac{df(t)}{dt}=\" + latex(simplify(dfdt)))"
      ],
      "execution_count": null,
      "outputs": [
        {
          "output_type": "execute_result",
          "data": {
            "text/latex": "$$\\frac{df(t)}{dt}=\\frac{- 0.8 t e^{\\frac{t}{30}} + 25.3 e^{\\frac{t}{30}} - 8.45 e^{\\frac{t}{15}} - 4.05}{6.0 e^{\\frac{t}{30}} + 1.0 e^{\\frac{t}{15}} + 9.0}$$",
            "text/plain": [
              "<IPython.core.display.Math object>"
            ]
          },
          "metadata": {
            "tags": []
          },
          "execution_count": 5
        }
      ]
    },
    {
      "cell_type": "markdown",
      "metadata": {
        "id": "3tdDilDfCGOV"
      },
      "source": [
        "Calculando $\\frac{df(t)}{dt} = 0$\n",
        "\n",
        "(Solução obtida por meio da ferramenta [wolframalpha](https://www.wolframalpha.com/input/?i=%28-+0.8+t+e%5E%7Bt%2F30%7D+%2B+25.3+e%5E%7B%5Cfrac%7Bt%7D%7B30%7D%7D+-+8.45+e%5E%7Bt%2F15%7D+-+4.05%29%2F%286.0+e%5E%7Bt%2F30%7D+%2B+1.0+e%5E%7Bt%2F15%7D+%2B+9.0%29%3D0\n",
        "))"
      ]
    },
    {
      "cell_type": "code",
      "metadata": {
        "id": "CYYC8kRsCE5n",
        "colab": {
          "base_uri": "https://localhost:8080/",
          "height": 148
        },
        "outputId": "2a2de7f1-0f00-452a-8f14-107bc2d2f03e"
      },
      "source": [
        "# Sympy não conseguiu solucionar\n",
        "#s_b = solve(dfdt, [t], dict=True, rational=True)[0]\n",
        "# Solução obtida em: \n",
        "# https://www.wolframalpha.com/input/?i=%28-+0.8+t+e%5E%7Bt%2F30%7D+%2B+25.3+e%5E%7B%5Cfrac%7Bt%7D%7B30%7D%7D+-+8.45+e%5E%7Bt%2F15%7D+-+4.05%29%2F%286.0+e%5E%7Bt%2F30%7D+%2B+1.0+e%5E%7Bt%2F15%7D+%2B+9.0%29%3D0\n",
        "s_b = {\n",
        "    t: 12.3348914426322\n",
        "}\n",
        "\n",
        "Math(f\"\"\"\n",
        "\\\\begin{{aligned}}\n",
        "0 &= \\\\frac{{df(t)}}{{dt}} \\\\\\\\\n",
        "0 &= {latex(dfdt)}  \\\\\\\\\n",
        "t&={latex(s_b[t])}  ~~~~~~~~~~~~ t={latex(-96.9396057767331)}\n",
        "\\\\end{{aligned}}\n",
        "\"\"\")"
      ],
      "execution_count": null,
      "outputs": [
        {
          "output_type": "execute_result",
          "data": {
            "text/latex": "$$\n\\begin{aligned}\n0 &= \\frac{df(t)}{dt} \\\\\n0 &= -0.45 - \\frac{8.0}{1 + 3 e^{- \\frac{t}{30}}} + \\frac{80 \\left(- 0.01 t + 0.65\\right) e^{- \\frac{t}{30}}}{\\left(1 + 3 e^{- \\frac{t}{30}}\\right)^{2}}  \\\\\nt&=12.3348914426322  ~~~~~~~~~~~~ t=-96.9396057767331\n\\end{aligned}\n$$",
            "text/plain": [
              "<IPython.core.display.Math object>"
            ]
          },
          "metadata": {
            "tags": []
          },
          "execution_count": 6
        }
      ]
    },
    {
      "cell_type": "markdown",
      "metadata": {
        "id": "xbyFlQHUFHWj"
      },
      "source": [
        "Pelo gráfico abaixo, note que existem dois pontos que satisfazem $\\frac{{df(t)}}{{dt}} = 0$, porém há somente um ponto para $t \\ge 0$. Assim, $t = 12.33...$ dias.\n"
      ]
    },
    {
      "cell_type": "code",
      "metadata": {
        "id": "tCYOHeD7w_2b",
        "colab": {
          "base_uri": "https://localhost:8080/",
          "height": 372
        },
        "outputId": "f51107f9-3b6b-4ff0-e7ce-d7d6944966c3"
      },
      "source": [
        "plot(dfdt, (t, -200, 200), ylim=[-10, 2], ylabel='$\\dfrac{df(t)}{dt}$');"
      ],
      "execution_count": null,
      "outputs": [
        {
          "output_type": "stream",
          "text": [
            "/usr/local/lib/python3.6/dist-packages/sympy/plotting/plot.py:890: MatplotlibDeprecationWarning: \n",
            "The set_smart_bounds function was deprecated in Matplotlib 3.2 and will be removed two minor releases later.\n",
            "  self.ax.spines['left'].set_smart_bounds(True)\n",
            "/usr/local/lib/python3.6/dist-packages/sympy/plotting/plot.py:891: MatplotlibDeprecationWarning: \n",
            "The set_smart_bounds function was deprecated in Matplotlib 3.2 and will be removed two minor releases later.\n",
            "  self.ax.spines['bottom'].set_smart_bounds(False)\n"
          ],
          "name": "stderr"
        },
        {
          "output_type": "display_data",
          "data": {
            "image/png": "[encoded data removed]",
            "text/plain": [
              "<Figure size 432x288 with 1 Axes>"
            ]
          },
          "metadata": {
            "tags": [],
            "needs_background": "light"
          }
        }
      ]
    },
    {
      "cell_type": "markdown",
      "metadata": {
        "id": "bvU5s78sw_Im"
      },
      "source": [
        "Calculando $\\frac{d^2f(t)}{dt^2}$, temos"
      ]
    },
    {
      "cell_type": "code",
      "metadata": {
        "id": "yoVaK1Z0FJ3r",
        "colab": {
          "base_uri": "https://localhost:8080/",
          "height": 68
        },
        "outputId": "a9d103f2-d64b-4f36-8f54-1b928d5b4c9e"
      },
      "source": [
        "df2dt2 = diff(dfdt, t)\n",
        "Math(f\"\\\\frac{{d^2f(t)}}{{dt^2}} = {latex(df2dt2)}\")"
      ],
      "execution_count": null,
      "outputs": [
        {
          "output_type": "execute_result",
          "data": {
            "text/latex": "$$\\frac{d^2f(t)}{dt^2} = - \\frac{8 \\left(- 0.01 t + 0.65\\right) e^{- \\frac{t}{30}}}{3 \\left(1 + 3 e^{- \\frac{t}{30}}\\right)^{2}} - \\frac{1.6 e^{- \\frac{t}{30}}}{\\left(1 + 3 e^{- \\frac{t}{30}}\\right)^{2}} + \\frac{16 \\left(- 0.01 t + 0.65\\right) e^{- \\frac{t}{15}}}{\\left(1 + 3 e^{- \\frac{t}{30}}\\right)^{3}}$$",
            "text/plain": [
              "<IPython.core.display.Math object>"
            ]
          },
          "metadata": {
            "tags": []
          },
          "execution_count": 8
        }
      ]
    },
    {
      "cell_type": "markdown",
      "metadata": {
        "id": "hIFr0jczFJLT"
      },
      "source": [
        "Para o ponto $t \\ge 0$ encontrado anteriormente, temos"
      ]
    },
    {
      "cell_type": "code",
      "metadata": {
        "id": "6-ITWosoHhWT",
        "colab": {
          "base_uri": "https://localhost:8080/",
          "height": 42
        },
        "outputId": "3f5623e7-d334-4755-f9ab-fbbd990f2b32"
      },
      "source": [
        "Math(f\"\\\\frac{{d^2f(t={s_b[t]})}}{{dt^2}} = {latex(df2dt2.subs(s_b))} < 0.\")"
      ],
      "execution_count": null,
      "outputs": [
        {
          "output_type": "execute_result",
          "data": {
            "text/latex": "$$\\frac{d^2f(t=12.3348914426322)}{dt^2} = -0.0842648869096602 < 0.$$",
            "text/plain": [
              "<IPython.core.display.Math object>"
            ]
          },
          "metadata": {
            "tags": []
          },
          "execution_count": 9
        }
      ]
    },
    {
      "cell_type": "markdown",
      "metadata": {
        "id": "4BYiOudaHvzz"
      },
      "source": [
        "Logo, este ponto é de máximo."
      ]
    },
    {
      "cell_type": "markdown",
      "metadata": {
        "id": "X2ElnNzqAriv"
      },
      "source": [
        "#### Passo 5 - Resposta da pergunta\n",
        "\n",
        "A resposta obtida pelo modelo matemático proposto é vender o porco depois de $12.33$ dias, obtendo um lucro de aproximadamente:"
      ]
    },
    {
      "cell_type": "code",
      "metadata": {
        "id": "aHs13OXB7UPR",
        "colab": {
          "base_uri": "https://localhost:8080/",
          "height": 37
        },
        "outputId": "e971f52b-c605-4181-f535-e07bd98e3d75"
      },
      "source": [
        "Math(f\"\\${latex(f.subs(s_b))}.\")"
      ],
      "execution_count": null,
      "outputs": [
        {
          "output_type": "execute_result",
          "data": {
            "text/latex": "$$\\$135.423574222467.$$",
            "text/plain": [
              "<IPython.core.display.Math object>"
            ]
          },
          "metadata": {
            "tags": []
          },
          "execution_count": 10
        }
      ]
    },
    {
      "cell_type": "markdown",
      "metadata": {
        "id": "7-2SRNnw7Lo2"
      },
      "source": [
        "### c) The parameter $800$ represents the eventual mature weight of the pig. Perform a sensitivity analysis on this parameter. Consider both the best time to sell and the resulting net profit.\n",
        "\n",
        "Suponhamos que o eventual \"peso de maturidade\" do porco não seja mais o valor fixo de $800$, mas dependa de uma variável $r$ agora:\n",
        "$$w=r/(1+3e^{-t/30})$$\n",
        "\n",
        "Assim, temos a função $f(t;r)$ sendo como:"
      ]
    },
    {
      "cell_type": "code",
      "metadata": {
        "id": "5EF8EsRxJ2iK",
        "colab": {
          "base_uri": "https://localhost:8080/",
          "height": 46
        },
        "outputId": "d0b2abd2-30a4-4a21-e3d5-384f6572c6f9"
      },
      "source": [
        "r = var('r', real=True)\n",
        "\n",
        "w = r/(1+3*exp(-t/30))\n",
        "R = p*w\n",
        "P = R-C\n",
        "\n",
        "f_b = P\n",
        "Math(f\"f(t; r)={latex(f)}.\")"
      ],
      "execution_count": null,
      "outputs": [
        {
          "output_type": "execute_result",
          "data": {
            "text/latex": "$$f(t; r)=- 0.45 t + \\frac{800 \\left(- 0.01 t + 0.65\\right)}{1 + 3 e^{- \\frac{t}{30}}}.$$",
            "text/plain": [
              "<IPython.core.display.Math object>"
            ]
          },
          "metadata": {
            "tags": []
          },
          "execution_count": 11
        }
      ]
    },
    {
      "cell_type": "markdown",
      "metadata": {
        "id": "sIp8EAlaYSNK"
      },
      "source": [
        "Calculando $\\frac{df(t;r)}{dt}$,"
      ]
    },
    {
      "cell_type": "code",
      "metadata": {
        "id": "ZBV-GNbAYU8W",
        "colab": {
          "base_uri": "https://localhost:8080/",
          "height": 68
        },
        "outputId": "c07015a5-5f62-48e6-977b-6276dfa2e9bc"
      },
      "source": [
        "dfdt = diff(f_b, t)\n",
        "Math(\"\\\\frac{df(t;r)}{dt}=\" + latex(dfdt))"
      ],
      "execution_count": null,
      "outputs": [
        {
          "output_type": "execute_result",
          "data": {
            "text/latex": "$$\\frac{df(t;r)}{dt}=- \\frac{0.01 r}{1 + 3 e^{- \\frac{t}{30}}} + \\frac{r \\left(- 0.01 t + 0.65\\right) e^{- \\frac{t}{30}}}{10 \\left(1 + 3 e^{- \\frac{t}{30}}\\right)^{2}} - 0.45$$",
            "text/plain": [
              "<IPython.core.display.Math object>"
            ]
          },
          "metadata": {
            "tags": []
          },
          "execution_count": 12
        }
      ]
    },
    {
      "cell_type": "markdown",
      "metadata": {
        "id": "u_OBU7VTYdLP"
      },
      "source": [
        "Infelizmente, a ferramenta Sympy não nos auxiliou em calcular $\\frac{df(t;r)}{dt} = 0$. Deste modo, faremos este item por meio de uma estimativa numérica da sensibilidade."
      ]
    },
    {
      "cell_type": "markdown",
      "metadata": {
        "id": "c541_fKkRZW9"
      },
      "source": [
        "Assumamos que $r=880$, ou seja, com incremento de $10\\%$ em relação ao item a). Executemos o método de Newton, definindo explicitamente que $r=880$. Deste modo, teremos $f(t; r)$ como sendo:"
      ]
    },
    {
      "cell_type": "code",
      "metadata": {
        "id": "ZmYBHjdWRYFj"
      },
      "source": [
        "def MetodoNewton(variaveis, valores_iniciais, funcao, numero_iteracoes=10):\n",
        "    num_variaveis = len(variaveis)\n",
        "    x_ = np.zeros((num_variaveis, numero_iteracoes+1))\n",
        "    \n",
        "    x_[:, 0] = valores_iniciais\n",
        "\n",
        "    f = lambdify(variaveis, funcao, 'numpy')\n",
        "\n",
        "    gradiente = Matrix(derive_by_array(funcao, variaveis))\n",
        "    gradiente_f_original = lambdify(variaveis, gradiente, 'numpy')\n",
        "    gradiente_f = lambda vetor: gradiente_f_original(*vetor.T.flatten())\n",
        "\n",
        "    hessiana = hessian(funcao, variaveis)\n",
        "\n",
        "    hessiana_inversa_f_original = lambdify(variaveis, hessiana.inv(), 'numpy')\n",
        "    hessiana_inversa_f = lambda vetor: hessiana_inversa_f_original(*vetor.T.flatten())\n",
        "    \n",
        "    for k in range(numero_iteracoes):\n",
        "        x_k = x_[:, [k]]\n",
        "\n",
        "        x_k_next = x_k - hessiana_inversa_f(x_k) @ gradiente_f(x_k)\n",
        "        x_[:, k+1] = x_k_next.T\n",
        "    \n",
        "    retorno = {f'{variavel}': x_[i] for i, variavel in enumerate(variaveis)}\n",
        "    retorno[f'f{Tuple(*variaveis)}'] = [f(*x_i) for x_i in x_.T]\n",
        "    \n",
        "    return pd.DataFrame(retorno)"
      ],
      "execution_count": null,
      "outputs": []
    },
    {
      "cell_type": "code",
      "metadata": {
        "id": "MTmVxe1oVl0e",
        "colab": {
          "base_uri": "https://localhost:8080/",
          "height": 46
        },
        "outputId": "a990ce6b-f4c2-41f6-ce09-46a4cfb4b48a"
      },
      "source": [
        "#@title Valor de `r` { vertical-output: true, display-mode: \"form\" }\n",
        " \n",
        "valor_r = 880 #@param {type:\"number\"}\n",
        "\n",
        "valores = {\n",
        "    r: valor_r\n",
        "}\n",
        " \n",
        "Math(f\"f(t) = f(t; r={valor_r}) = {latex(f.subs(valores))}\")"
      ],
      "execution_count": null,
      "outputs": [
        {
          "output_type": "execute_result",
          "data": {
            "text/latex": "$$f(t) = f(t; r=880) = - 0.45 t + \\frac{800 \\left(- 0.01 t + 0.65\\right)}{1 + 3 e^{- \\frac{t}{30}}}$$",
            "text/plain": [
              "<IPython.core.display.Math object>"
            ]
          },
          "metadata": {
            "tags": []
          },
          "execution_count": 14
        }
      ]
    },
    {
      "cell_type": "markdown",
      "metadata": {
        "id": "aIPfAnQTZK4W"
      },
      "source": [
        "O resultado do método de Newton é apresentado na tabela abaixo. Os valores de $t$ e $f(t)$ são apresentados para cada $i$-ésima iteração ($i$-ésima linha)."
      ]
    },
    {
      "cell_type": "code",
      "metadata": {
        "id": "aBmpIj8OYjo8",
        "colab": {
          "base_uri": "https://localhost:8080/",
          "height": 237
        },
        "outputId": "62535318-dcdf-45e4-9851-f0e39d558905"
      },
      "source": [
        "resultado_newton_c = MetodoNewton(\n",
        "    variaveis=(t,),\n",
        "    valores_iniciais=(0,),\n",
        "    funcao=f_b.subs(valores),\n",
        "    numero_iteracoes=5\n",
        ")\n",
        "resultado_newton_c"
      ],
      "execution_count": null,
      "outputs": [
        {
          "output_type": "execute_result",
          "data": {
            "text/html": [
              "<div>\n",
              "<style scoped>\n",
              "    .dataframe tbody tr th:only-of-type {\n",
              "        vertical-align: middle;\n",
              "    }\n",
              "\n",
              "    .dataframe tbody tr th {\n",
              "        vertical-align: top;\n",
              "    }\n",
              "\n",
              "    .dataframe thead th {\n",
              "        text-align: right;\n",
              "    }\n",
              "</style>\n",
              "<table border=\"1\" class=\"dataframe\">\n",
              "  <thead>\n",
              "    <tr style=\"text-align: right;\">\n",
              "      <th></th>\n",
              "      <th>t</th>\n",
              "      <th>f(t,)</th>\n",
              "    </tr>\n",
              "  </thead>\n",
              "  <tbody>\n",
              "    <tr>\n",
              "      <th>0</th>\n",
              "      <td>0.000000</td>\n",
              "      <td>143.000000</td>\n",
              "    </tr>\n",
              "    <tr>\n",
              "      <th>1</th>\n",
              "      <td>18.347107</td>\n",
              "      <td>147.993557</td>\n",
              "    </tr>\n",
              "    <tr>\n",
              "      <th>2</th>\n",
              "      <td>13.258204</td>\n",
              "      <td>149.522590</td>\n",
              "    </tr>\n",
              "    <tr>\n",
              "      <th>3</th>\n",
              "      <td>12.819565</td>\n",
              "      <td>149.531860</td>\n",
              "    </tr>\n",
              "    <tr>\n",
              "      <th>4</th>\n",
              "      <td>12.816078</td>\n",
              "      <td>149.531860</td>\n",
              "    </tr>\n",
              "    <tr>\n",
              "      <th>5</th>\n",
              "      <td>12.816078</td>\n",
              "      <td>149.531860</td>\n",
              "    </tr>\n",
              "  </tbody>\n",
              "</table>\n",
              "</div>"
            ],
            "text/plain": [
              "           t       f(t,)\n",
              "0   0.000000  143.000000\n",
              "1  18.347107  147.993557\n",
              "2  13.258204  149.522590\n",
              "3  12.819565  149.531860\n",
              "4  12.816078  149.531860\n",
              "5  12.816078  149.531860"
            ]
          },
          "metadata": {
            "tags": []
          },
          "execution_count": 15
        }
      ]
    },
    {
      "cell_type": "markdown",
      "metadata": {
        "id": "bCgPGAGDYvch"
      },
      "source": [
        "Podemos obter uma estimativa das sensibilidades, comparando com os resultados do item b) com este item. Para calcular $S(t, r)$, a sensibilidade de $t$ em função de $r$, façamos\n",
        "$$\n",
        "S(t, r) = \\frac{t^{*_c}}{t^{*_b}} - 1,\n",
        "$$\n",
        "sendo $t^{*_n}$ a variável $t$ no ponto ótimo no item $n$ desta questão e\n",
        "$$\n",
        "S(y, r) = \\frac{f(t; r=880)}{f(t; r=800)} - 1.\n",
        "$$"
      ]
    },
    {
      "cell_type": "code",
      "metadata": {
        "id": "JdK1gil4Yu4f",
        "colab": {
          "base_uri": "https://localhost:8080/",
          "height": 95
        },
        "outputId": "f0276112-adef-45b0-bd0c-daf1d5a520bb"
      },
      "source": [
        "valor_t_b, valor_f_b = s_b[t], N(f.subs(s_b))\n",
        "valor_t_c, valor_f_c = resultado_newton_c.iloc[-1]\n",
        "\n",
        "\n",
        "display(Math(f\"\"\"\n",
        "\\\\begin{{aligned}}\n",
        "S(t, r) &= \\\\frac{{{valor_t_c}}}{{{valor_t_b}}} - 1 = {(valor_t_c/valor_t_b - 1) * 100}\\%\\\\\\\\\n",
        "S(y, r) &= \\\\frac{{{valor_f_c}}}{{{valor_f_b}}} - 1 = {(valor_f_c/valor_f_b - 1) * 100}\\%\n",
        "\\\\end{{aligned}}\n",
        "\"\"\"))"
      ],
      "execution_count": null,
      "outputs": [
        {
          "output_type": "display_data",
          "data": {
            "text/latex": "$$\n\\begin{aligned}\nS(t, r) &= \\frac{12.816077688057899}{12.3348914426322} - 1 = 3.901017270104301\\%\\\\\nS(y, r) &= \\frac{149.53186036241954}{135.423574222467} - 1 = 10.4178952748476\\%\n\\end{aligned}\n$$",
            "text/plain": [
              "<IPython.core.display.Math object>"
            ]
          },
          "metadata": {
            "tags": []
          }
        }
      ]
    },
    {
      "cell_type": "markdown",
      "metadata": {
        "id": "IXT8jFa3WPLu"
      },
      "source": [
        "Desta forma, temos que a medida que $a$ aumenta $10\\%$, para o ponto ótimo\n",
        "* $t$, o tempo para a venda do porco, aumenta $3.901\\%$\n",
        "* $y$, o lucro, aumenta $10.418\\%$\n"
      ]
    },
    {
      "cell_type": "markdown",
      "metadata": {
        "id": "O9DfeCrF7U8_"
      },
      "source": [
        "### d)  Compare the results obtained in (b) to what was done in Sections 1.1 and 3.1. Comment on the robustness of our model. What general conclusions can we draw?\n",
        "Na seção 1.1, a relação peso x tempo é linear. Além disso, o melhor momento para vender o porco é em 8 dias, com lucro líquido igual a 133.20 dólares. Já na seção 3.1, o melhor momento para vender o porco aumentou para 19.5 dias, com lucro líquido igual a 139.395 dólares com o uso da função exponencial para a relação peso x tempo. Já nesta questão, o melhor momento para vender o porco é em 12.33 dias, com lucro líquido igual a 135.42 dólares com o uso da função exponencial para a relação peso x tempo.  Portanto, o nosso modelo não é robusto com relação à suposição de linearidade feita na seção 1.1 e nem é robusto com relação à suposição de função exponencial feita na seção 3.1, pois o valor de $t$ ótimo e de $P$ ótimo desta questão e da seção 3.1 são bem distintos mesmo que a relação peso x tempo seja uma função exponencial. No gráfico abaixo, podemos observar o que foi dito anteriormente neste item."
      ]
    },
    {
      "cell_type": "code",
      "metadata": {
        "id": "p6jH5ftq3eDN",
        "colab": {
          "base_uri": "https://localhost:8080/",
          "height": 305
        },
        "outputId": "947932ef-335f-46c6-a447-0dedd0373b4a"
      },
      "source": [
        "t = Symbol('t', nonnegative=True, real=True, imaginary=False)\n",
        "\n",
        "# Seção 1.1\n",
        "P_1 = (0.65 - 0.01*t)*(200 + 5*t) - 0.45*t\n",
        "\n",
        "# Seção 3.1\n",
        "P_2 = (0.65 - 0.01*t)*(200*E**(0.025*t)) - 0.45*t\n",
        "\n",
        "# Exercício 3.2\n",
        "w = 800/(1+3*exp(-t/30))\n",
        "p = 0.65-0.01*t\n",
        "C = 0.45*t\n",
        "R = p*w\n",
        "P_3 = R-C\n",
        "\n",
        "# Gráfico\n",
        "P_1_func = lambdify(t, P_1, modules=['numpy'])\n",
        "P_2_func = lambdify(t, P_2, modules=['numpy'])\n",
        "P_3_func = lambdify(t, P_3, modules=['numpy'])\n",
        "\n",
        "t = np.linspace(0, 70, 100)\n",
        "plt.plot(t, P_1_func(t), 'b', label=\"Seção 1.1\")\n",
        "plt.plot(t, P_2_func(t), 'r', label=\"Seção 3.1\")\n",
        "plt.plot(t, P_3_func(t), 'orange', label=\"Exercício 3.2\")\n",
        "\n",
        "plt.legend(loc='best')\n",
        "plt.title('Comparação entre as três modelagens distintas para o problema do porco')\n",
        "plt.xlabel('$t$ - Tempo para venda (dias)')\n",
        "plt.ylabel('$f(t)$ - Lucro')\n",
        "plt.xlim(xmin=0)\n",
        "plt.ylim(ymin=0)\n",
        "plt.show()"
      ],
      "execution_count": null,
      "outputs": [
        {
          "output_type": "display_data",
          "data": {
            "image/png": "[encoded data removed]",
            "text/plain": [
              "<Figure size 432x288 with 1 Axes>"
            ]
          },
          "metadata": {
            "tags": [],
            "needs_background": "light"
          }
        }
      ]
    }
  ]
}