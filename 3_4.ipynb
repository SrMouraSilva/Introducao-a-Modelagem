{
  "nbformat": 4,
  "nbformat_minor": 0,
  "metadata": {
    "colab": {
      "name": "3.4.ipynb",
      "provenance": [],
      "collapsed_sections": [
        "0EM19gHzviJB"
      ],
      "include_colab_link": true
    },
    "kernelspec": {
      "name": "python3",
      "display_name": "Python 3"
    }
  },
  "cells": [
    {
      "cell_type": "markdown",
      "metadata": {
        "id": "view-in-github",
        "colab_type": "text"
      },
      "source": [
        "<a href=\"https://colab.research.google.com/github/SrMouraSilva/Introducao-a-Modelagem/blob/main/3_4.ipynb\" target=\"_parent\"><img src=\"https://colab.research.google.com/assets/colab-badge.svg\" alt=\"Open In Colab\"/></a>"
      ]
    },
    {
      "cell_type": "code",
      "metadata": {
        "id": "r7FFD4Sr-IFq",
        "colab": {
          "base_uri": "https://localhost:8080/",
          "height": 17
        },
        "outputId": "7ed3e2db-2d00-4384-83cc-0fa6e8405f4d"
      },
      "source": [
        "# Programação simbólica\n",
        "from sympy import *\n",
        "from sympy.plotting import plot, plot3d\n",
        " \n",
        "# Exibir símbolos nos plots\n",
        "from google.colab.output._publish import javascript\n",
        "url = \"https://cdnjs.cloudflare.com/ajax/libs/mathjax/3.1.2/latest.js?config=default\"\n",
        " \n",
        "javascript(url=url)\n",
        "from IPython.display import Math\n",
        " \n",
        "# Manipulação dos dados\n",
        "import numpy as np\n",
        "import pandas as pd\n",
        " \n",
        "# Gráficos\n",
        "import matplotlib as mpl\n",
        "import matplotlib.pyplot as plt\n",
        " \n",
        "import seaborn as sns\n",
        "sns.set_theme()"
      ],
      "execution_count": null,
      "outputs": [
        {
          "output_type": "display_data",
          "data": {
            "text/html": [
              "<script src='https://cdnjs.cloudflare.com/ajax/libs/mathjax/3.1.2/latest.js?config=default'></script>"
            ],
            "text/plain": [
              "<IPython.core.display.HTML object>"
            ]
          },
          "metadata": {
            "tags": []
          }
        }
      ]
    },
    {
      "cell_type": "code",
      "metadata": {
        "id": "UY84nX13S8fg"
      },
      "source": [
        "mpl.rcParams['figure.figsize'] = (12,8)\n",
        "mpl.rcParams['font.size'] = 14\n",
        "mpl.rcParams['legend.fontsize'] = 14"
      ],
      "execution_count": null,
      "outputs": []
    },
    {
      "cell_type": "markdown",
      "metadata": {
        "id": "mnTEZuBg6OHQ"
      },
      "source": [
        "## Questão 3.4\n",
        "\n",
        "One method of evaluating the effectiveness of institutional trauma and burn medicine involves maximizing the function\n",
        "$$\n",
        "f(p_1, \\cdots, p_n) =\n",
        "\\frac{\\left(A-\\sum_{i=1}^n p_i\\right)}\n",
        "{\\sqrt{B+\\sum_{i=1}^n p_i(1-p_i)}}\n",
        "$$\n",
        "over the set\n",
        "$$S=\\{(p_i, \\cdots, p_n): a_i \\leq p_i \\leq b_i \\text{ for all } i=1,\\cdots,n\\}.$$\n",
        "\n",
        "Maximize f in the case $n=2, A=-5.92, B=1.58, a_1=0.01, b_1=0.33, a_2=0.75,$ and $b_2=0.85$ (Falk, J. et al., (1992))."
      ]
    },
    {
      "cell_type": "markdown",
      "metadata": {
        "id": "SKwQUUMdNezD"
      },
      "source": [
        "### Solução\n",
        "\n",
        "Solucionemos este problema por meio dos cinco passos"
      ]
    },
    {
      "cell_type": "markdown",
      "metadata": {
        "id": "quGjam_uNesT"
      },
      "source": [
        "#### Passo 1 - Variáveis\n",
        "\n",
        "* $A, B$\n",
        "* $n$\n",
        "* $a_1, a_2, b_1, b_2$\n",
        "\n"
      ]
    },
    {
      "cell_type": "markdown",
      "metadata": {
        "id": "k7ktYo1CNenE"
      },
      "source": [
        "#### Passo 1 - Suposições do problema"
      ]
    },
    {
      "cell_type": "code",
      "metadata": {
        "id": "dnhduJDq6N6l"
      },
      "source": [
        "n=2\n",
        "\n",
        "p1, p2 = var('p_1 p_2', real=True)\n",
        "\n",
        "A=-5.92\n",
        "B=1.58\n",
        "a_1=0.01\n",
        "b_1=0.33\n",
        "a_2=0.75\n",
        "b_2=0.85"
      ],
      "execution_count": null,
      "outputs": []
    },
    {
      "cell_type": "markdown",
      "metadata": {
        "id": "PrfM10YIlQJn"
      },
      "source": [
        "#### Passo 2 - Abordagem de modelagem\n",
        "\n",
        "Problema de otimização multimensional cujo objetivo é maximizar $p_1$ e $p_2$. A solução se dará pelo método dos multiplicadores de Lagrange.\n",
        "\n"
      ]
    },
    {
      "cell_type": "markdown",
      "metadata": {
        "id": "alofkkRWNknY"
      },
      "source": [
        "#### Passo 3 - Formulação do modelo\n",
        "\n",
        "$$\n",
        "\\begin{align}\n",
        "\\text{max} ~~& f(p_1, p_2) \\\\\n",
        "\\text{sujeito a} ~~& t \\in \\Omega \\\\\n",
        "\\end{align}\n",
        "$$\n",
        "\n",
        "Sendo:\n",
        "* $f(p_1, p_2)$: Função objetivo\n",
        "* $\\Omega$: Espaço viável das variáveis do problema.\n",
        "\n",
        "Desta forma, temos:\n",
        "\n",
        "$$\n",
        "\\begin{align}\n",
        "\\text{max} ~~& f(p_1, p_2) =\n",
        "\\frac{\\left(A-\\sum_{i=1}^{n=2} p_i\\right)}\n",
        "{\\sqrt{B+\\sum_{i=1}^{n=2} p_i(1-p_i)}} \\\\\n",
        "\\text{sujeito a} ~~ & a_1 \\leq p_1 \\leq b_1 \\\\\n",
        "                    & a_2 \\leq p_2 \\leq b_2\n",
        "\\end{align}\n",
        "$$"
      ]
    },
    {
      "cell_type": "markdown",
      "metadata": {
        "id": "741ykZflNkfm"
      },
      "source": [
        "#### Passo 4 - Resolução do modelo\n",
        "\n",
        "Função a ser otimizada sem restrição qualquer:"
      ]
    },
    {
      "cell_type": "code",
      "metadata": {
        "id": "1RGqQWdqlNOU",
        "colab": {
          "base_uri": "https://localhost:8080/",
          "height": 47
        },
        "outputId": "3cf2eda2-bfae-4ba1-c2a1-081089cbd611"
      },
      "source": [
        "f = (A - (p1 + p2))/sqrt(B + p1*(1-p1) + p2*(1-p2))\n",
        "\n",
        "\n",
        "Math(f\"f(p_1, p_2) = {latex(f)}\")"
      ],
      "execution_count": null,
      "outputs": [
        {
          "output_type": "execute_result",
          "data": {
            "text/latex": "$$f(p_1, p_2) = \\frac{- p_{1} - p_{2} - 5.92}{\\sqrt{p_{1} \\left(- p_{1} + 1\\right) + p_{2} \\left(- p_{2} + 1\\right) + 1.58}}$$",
            "text/plain": [
              "<IPython.core.display.Math object>"
            ]
          },
          "metadata": {
            "tags": []
          },
          "execution_count": 4
        }
      ]
    },
    {
      "cell_type": "markdown",
      "metadata": {
        "id": "wCoDuH6auc02"
      },
      "source": [
        "Sua representação gráfica em 3d é apresentada abaixo. Note que restringimos o espaço de acordo com as restrições $a_1, a_2, b_1, b_2$."
      ]
    },
    {
      "cell_type": "code",
      "metadata": {
        "id": "e6-i2Bu_ue3X",
        "colab": {
          "base_uri": "https://localhost:8080/",
          "height": 482
        },
        "outputId": "6a81e0dc-2b69-4b85-e16c-4aef825c870b"
      },
      "source": [
        "plot3d(f, (p1, a_1, b_1), (p2, a_2, b_2), xlabel='$p_1$', ylabel='$p_2$')"
      ],
      "execution_count": null,
      "outputs": [
        {
          "output_type": "display_data",
          "data": {
            "image/png": "[encoded data removed]",
            "text/plain": [
              "<Figure size 864x576 with 1 Axes>"
            ]
          },
          "metadata": {
            "tags": [],
            "needs_background": "light"
          }
        },
        {
          "output_type": "execute_result",
          "data": {
            "text/plain": [
              "<sympy.plotting.plot.Plot at 0x7f9baee26dd8>"
            ]
          },
          "metadata": {
            "tags": []
          },
          "execution_count": 5
        }
      ]
    },
    {
      "cell_type": "markdown",
      "metadata": {
        "id": "OaCASp7y8cEu"
      },
      "source": [
        "Visualizemos agora o mesmo gráfico a partir de uma visão top-down."
      ]
    },
    {
      "cell_type": "code",
      "metadata": {
        "id": "5yBa3hiJ4buE",
        "cellView": "form",
        "colab": {
          "base_uri": "https://localhost:8080/",
          "height": 613
        },
        "outputId": "01765ce6-9d3d-4f0f-fb1f-ecdcec0808c1"
      },
      "source": [
        "#@title\n",
        "def contour_plot(funcao, **kwargs):\n",
        "    variables = list(kwargs.keys())\n",
        "    if len(variables) != 2:\n",
        "        raise Exception('Contour is for 2 dimentions')\n",
        "\n",
        "    f = lambdify(variables, funcao, 'numpy')\n",
        "    # PEP 0468: Python >= 3.6\n",
        "    spaces = [np.linspace(*kwargs[e], 100) for e in variables]\n",
        "    grid = np.meshgrid(*spaces)\n",
        "    \n",
        "    fig,ax=plt.subplots(1,1, figsize=(12, 10))\n",
        "    \n",
        "    c = plt.contourf(*grid, f(*grid))\n",
        "    c.ax.set_xlabel(f\"${variables[0]}$\")\n",
        "    c.ax.set_ylabel(f\"${variables[1]}$\")\n",
        "    \n",
        "    fig.colorbar(c)\n",
        "    return c\n",
        "\n",
        "contour_plot(f, p_1=(a_1, b_1), p_2=(a_2, b_2))"
      ],
      "execution_count": null,
      "outputs": [
        {
          "output_type": "execute_result",
          "data": {
            "text/plain": [
              "<matplotlib.contour.QuadContourSet at 0x7f9ba0e19940>"
            ]
          },
          "metadata": {
            "tags": []
          },
          "execution_count": 6
        },
        {
          "output_type": "display_data",
          "data": {
            "image/png": "[encoded data removed]",
            "text/plain": [
              "<Figure size 864x720 with 2 Axes>"
            ]
          },
          "metadata": {
            "tags": [],
            "needs_background": "light"
          }
        }
      ]
    },
    {
      "cell_type": "markdown",
      "metadata": {
        "id": "pZifjTEAUIdt"
      },
      "source": [
        "Podemos observar no gráfico acima que o ponto de máximo se dá quando $p_2=a_2$. Desta forma, limitaremos o problema a somente esta restrição.\n",
        " \n",
        "As restrições de igualdade será:\n",
        "\\begin{align}\n",
        "g_{a_2}(p_2, t_{a_2}) &= p_2 - a_2 = 0.\n",
        "\\end{align}\n",
        "O problema, agora revisado, corresponde a \n",
        "$$\n",
        "\\begin{align}\n",
        "\\text{max} ~~& f(p_1, p_2) \\\\\n",
        "\\text{sujeito a} ~~ & g_{a_2}(p_2, t_{a_2})\n",
        "\\end{align}\n",
        "$$"
      ]
    },
    {
      "cell_type": "markdown",
      "metadata": {
        "id": "zfjMJuP2JiHR"
      },
      "source": [
        "Seja a função Lagrangeana"
      ]
    },
    {
      "cell_type": "code",
      "metadata": {
        "id": "fEs6tL-RUkRK",
        "colab": {
          "base_uri": "https://localhost:8080/",
          "height": 114
        },
        "outputId": "f2706316-3994-439d-cd56-fbff6aa030cc"
      },
      "source": [
        "μ1, μ2, μ3, μ4 = symbols('\\mu_1, \\mu_2, \\mu_3, \\mu_4', real = True)\n",
        "ta1, tb1, ta2, tb2 = symbols('t_{a_1}, t_{b_1}, t_{a_2}, t_{b_2}', real = True)\n",
        "\n",
        "# Todas as 4 restrições\n",
        "# L = f + μ1 * (p_1 - a_1 - ta1**2) + μ2 * (b_1 - p_1 - tb1**2) \\\n",
        "#       + μ3 * (p_2 - a_2 - ta2**2) + μ4 * (b_2 - p_2 - tb2**2)\n",
        "\n",
        "# Considerado somente que p_2 = a_2\n",
        "L = f + μ3 * (p_2 - a_2)\n",
        "\n",
        "Math(f\"\"\"\n",
        "\\\\begin{{aligned}}\n",
        "L(p_1, p_2, \\\\mu_3)\n",
        " &= L(p_1, p_2) + \\\\mu_3 \\cdot g_{{a_2}}(p_2, t_{{a_2}}) \\\\\\\\\n",
        " &= L(p_1, p_2) + \\\\mu_3 \\cdot (p_2 - a_2) \\\\\\\\\n",
        " &= {latex(L)}\n",
        "\\\\end{{aligned}}\n",
        "\"\"\")"
      ],
      "execution_count": null,
      "outputs": [
        {
          "output_type": "execute_result",
          "data": {
            "text/latex": "$$\n\\begin{aligned}\nL(p_1, p_2, \\mu_3)\n &= L(p_1, p_2) + \\mu_3 \\cdot g_{a_2}(p_2, t_{a_2}) \\\\\n &= L(p_1, p_2) + \\mu_3 \\cdot (p_2 - a_2) \\\\\n &= \\mu_3 \\left(p_{2} - 0.75\\right) + \\frac{- p_{1} - p_{2} - 5.92}{\\sqrt{p_{1} \\left(- p_{1} + 1\\right) + p_{2} \\left(- p_{2} + 1\\right) + 1.58}}\n\\end{aligned}\n$$",
            "text/plain": [
              "<IPython.core.display.Math object>"
            ]
          },
          "metadata": {
            "tags": []
          },
          "execution_count": 7
        }
      ]
    },
    {
      "cell_type": "markdown",
      "metadata": {
        "id": "j-PKVAbeUpvT"
      },
      "source": [
        "A derivada da função Lagrangeana em função de cada variável $(p_1, p_2, \\mu_3)$:"
      ]
    },
    {
      "cell_type": "code",
      "metadata": {
        "id": "RUrBgRWDUpg3",
        "colab": {
          "base_uri": "https://localhost:8080/",
          "height": 187
        },
        "outputId": "4416c4ac-d174-4dc5-b1e0-b92454fe4556"
      },
      "source": [
        "dLdp1 = diff(L, p1)\n",
        "dLdp2 = diff(L, p2)\n",
        "dLdμ1 = diff(L, μ1)\n",
        "dLdμ2 = diff(L, μ2)\n",
        "dLdμ3 = diff(L, μ3)\n",
        "dLdμ4 = diff(L, μ4)\n",
        "dLdta1 = diff(L, ta1)\n",
        "dLdta2 = diff(L, ta2)\n",
        "dLdtb1 = diff(L, tb1)\n",
        "dLdtb2 = diff(L, tb2)\n",
        "\n",
        "#mus = '\\mu_1, \\mu_2, \\mu_3, \\mu_4'\n",
        "mus = '\\mu_3'\n",
        "Math(f\"\"\"\n",
        "\\\\begin{{aligned}}\n",
        "\\\\frac{{dL(p_1, p_2, {mus})}}{{dp_1}} &= {latex(dLdp1)} \\\\\\\\\n",
        "\\\\frac{{dL(p_1, p_2, {mus})}}{{dp_2}} &= {latex(dLdp2)} \\\\\\\\\n",
        "%\\\\frac{{dL(p_1, p_2, {mus})}}{{d\\mu_1}} &= {latex(dLdμ1)} \\\\\\\\\n",
        "%\\\\frac{{dL(p_1, p_2, {mus})}}{{d\\mu_2}} &= {latex(dLdμ2)} \\\\\\\\\n",
        "\\\\frac{{dL(p_1, p_2, {mus})}}{{d\\mu_3}} &= {latex(dLdμ3)} \\\\\\\\\n",
        "%\\\\frac{{dL(p_1, p_2, {mus})}}{{d\\mu_4}} &= {latex(dLdμ4)} \\\\\\\\\n",
        "%\\\\frac{{dL(p_1, p_2, {mus})}}{{dt_{{a_1}}}} &= {latex(dLdta1)} \\\\\\\\\n",
        "%\\\\frac{{dL(p_1, p_2, {mus})}}{{dt_{{a_2}}}} &= {latex(dLdta2)} \\\\\\\\\n",
        "%\\\\frac{{dL(p_1, p_2, {mus})}}{{dt_{{b_1}}}} &= {latex(dLdtb1)} \\\\\\\\\n",
        "%\\\\frac{{dL(p_1, p_2, {mus})}}{{dt_{{b_2}}}} &= {latex(dLdtb2)}\n",
        "\\\\end{{aligned}}\n",
        "\"\"\")"
      ],
      "execution_count": null,
      "outputs": [
        {
          "output_type": "execute_result",
          "data": {
            "text/latex": "$$\n\\begin{aligned}\n\\frac{dL(p_1, p_2, \\mu_3)}{dp_1} &= \\frac{\\left(p_{1} - \\frac{1}{2}\\right) \\left(- p_{1} - p_{2} - 5.92\\right)}{\\left(p_{1} \\left(- p_{1} + 1\\right) + p_{2} \\left(- p_{2} + 1\\right) + 1.58\\right)^{\\frac{3}{2}}} - \\frac{1}{\\sqrt{p_{1} \\left(- p_{1} + 1\\right) + p_{2} \\left(- p_{2} + 1\\right) + 1.58}} \\\\\n\\frac{dL(p_1, p_2, \\mu_3)}{dp_2} &= \\mu_3 + \\frac{\\left(p_{2} - \\frac{1}{2}\\right) \\left(- p_{1} - p_{2} - 5.92\\right)}{\\left(p_{1} \\left(- p_{1} + 1\\right) + p_{2} \\left(- p_{2} + 1\\right) + 1.58\\right)^{\\frac{3}{2}}} - \\frac{1}{\\sqrt{p_{1} \\left(- p_{1} + 1\\right) + p_{2} \\left(- p_{2} + 1\\right) + 1.58}} \\\\\n%\\frac{dL(p_1, p_2, \\mu_3)}{d\\mu_1} &= 0 \\\\\n%\\frac{dL(p_1, p_2, \\mu_3)}{d\\mu_2} &= 0 \\\\\n\\frac{dL(p_1, p_2, \\mu_3)}{d\\mu_3} &= p_{2} - 0.75 \\\\\n%\\frac{dL(p_1, p_2, \\mu_3)}{d\\mu_4} &= 0 \\\\\n%\\frac{dL(p_1, p_2, \\mu_3)}{dt_{a_1}} &= 0 \\\\\n%\\frac{dL(p_1, p_2, \\mu_3)}{dt_{a_2}} &= 0 \\\\\n%\\frac{dL(p_1, p_2, \\mu_3)}{dt_{b_1}} &= 0 \\\\\n%\\frac{dL(p_1, p_2, \\mu_3)}{dt_{b_2}} &= 0\n\\end{aligned}\n$$",
            "text/plain": [
              "<IPython.core.display.Math object>"
            ]
          },
          "metadata": {
            "tags": []
          },
          "execution_count": 8
        }
      ]
    },
    {
      "cell_type": "markdown",
      "metadata": {
        "id": "cB4MC0PLU1xD"
      },
      "source": [
        "Para obter o(s) ponto(s) estacionário(s), igualemos as equações obtidas no passo anterior a zero e resolvamos as equações. O resultado será\n",
        "<!-- Igualando todas as derivadas a zero e solucionando o sistema de equações, encontramos os seguintes conjuntos soluções: -->"
      ]
    },
    {
      "cell_type": "code",
      "metadata": {
        "id": "lX4WS5EFU1mh"
      },
      "source": [
        "solucoes = solve([\n",
        "    dLdp1, dLdp2,\n",
        "    dLdμ1, dLdμ2, dLdμ3, dLdμ4, \n",
        "    dLdta1, dLdta2, dLdtb1, dLdtb2\n",
        "], \n",
        "[\n",
        "    p1, p2, μ1, μ2, μ3, μ4, ta1, ta2, tb1, tb2\n",
        "], dict=True)"
      ],
      "execution_count": null,
      "outputs": []
    },
    {
      "cell_type": "code",
      "metadata": {
        "id": "1llZtIeoU_Kg",
        "colab": {
          "base_uri": "https://localhost:8080/",
          "height": 39
        },
        "outputId": "a17b01ce-1007-4978-eba0-33672cb89cf3"
      },
      "source": [
        "for solucao in solucoes:\n",
        "    display(Math(latex(solucao)))\n",
        "    # display(Math(f\"p_1={solucao[p1]}, p_2={solucao[p2]}\"))\n",
        "    # display(Math(latex(f\"\\mu_1={solucao[μ1]}, \\mu_2={solucao[μ2]}, \\mu_3={solucao[μ3]}, \\mu_4={solucao[μ4]}\")))\n",
        "    # display(Math(f\"\"))"
      ],
      "execution_count": null,
      "outputs": [
        {
          "output_type": "display_data",
          "data": {
            "text/latex": "$$\\left \\{ \\mu_3 : 1.35643237867575, \\quad p_{1} : 0.218619246861925, \\quad p_{2} : 0.75\\right \\}$$",
            "text/plain": [
              "<IPython.core.display.Math object>"
            ]
          },
          "metadata": {
            "tags": []
          }
        }
      ]
    },
    {
      "cell_type": "markdown",
      "metadata": {
        "id": "WmGQp80oLXuS"
      },
      "source": [
        "Aplicando os valores obtidos na função, objetivo, teremos"
      ]
    },
    {
      "cell_type": "code",
      "metadata": {
        "id": "oiLqW0J-VDu6",
        "colab": {
          "base_uri": "https://localhost:8080/",
          "height": 39
        },
        "outputId": "40e31d48-aff0-4a62-acc7-2f1747cc7e0b"
      },
      "source": [
        "Math(f\"\"\"\n",
        "L(p_1={solucoes[0][p_1]}, p_2={solucoes[0][p_2]:.3f}, \\mu_3={solucoes[0][μ3]:.5f})\n",
        " = {L.subs(solucoes[0])}\n",
        "\"\"\")"
      ],
      "execution_count": null,
      "outputs": [
        {
          "output_type": "execute_result",
          "data": {
            "text/latex": "$$\nL(p_1=0.218619246861925, p_2=0.750, \\mu_3=1.35643)\n = -4.94787701836329\n$$",
            "text/plain": [
              "<IPython.core.display.Math object>"
            ]
          },
          "metadata": {
            "tags": []
          },
          "execution_count": 11
        }
      ]
    },
    {
      "cell_type": "markdown",
      "metadata": {
        "id": "aakeIPVIV_wt"
      },
      "source": [
        "#### Passo 5 - Resposta da pergunta\n",
        "\n"
      ]
    },
    {
      "cell_type": "markdown",
      "metadata": {
        "id": "E2w3sq1_LYXB"
      },
      "source": [
        "O ponto que maximiza a função $f(p_1,p_2)$, respeitando as restrições do problema, corresponde a:"
      ]
    },
    {
      "cell_type": "code",
      "metadata": {
        "id": "UCuhoJ__qfoQ",
        "colab": {
          "base_uri": "https://localhost:8080/",
          "height": 68
        },
        "outputId": "ff685671-b249-447e-871e-d6bbfd521a4c"
      },
      "source": [
        "Math(f\"\"\"\n",
        "\\\\begin{{aligned}}\n",
        "p_1 &={solucoes[0][p_1]} \\\\\\\\\n",
        "p_2 &={solucoes[0][p_2]}\n",
        "\\\\end{{aligned}}\n",
        "\"\"\")"
      ],
      "execution_count": null,
      "outputs": [
        {
          "output_type": "execute_result",
          "data": {
            "text/latex": "$$\n\\begin{aligned}\np_1 &=0.218619246861925 \\\\\np_2 &=0.750000000000000\n\\end{aligned}\n$$",
            "text/plain": [
              "<IPython.core.display.Math object>"
            ]
          },
          "metadata": {
            "tags": []
          },
          "execution_count": 12
        }
      ]
    },
    {
      "cell_type": "markdown",
      "metadata": {
        "id": "0EM19gHzviJB"
      },
      "source": [
        "## Tentativa antiga com todas as restrições\n"
      ]
    },
    {
      "cell_type": "markdown",
      "metadata": {
        "id": "OLVFdZqEdIAF"
      },
      "source": [
        "Transformemos as restrições de desigualdade em restrições de igualdade. Podemos escrever a inequação $a_1 \\leq p_1 \\leq a_2$ de forma separada\n",
        "\\begin{align}\n",
        "h_{a_1}(p_1) = p_1 - a_1 &\\geq 0 \\\\\n",
        "h_{b_1}(p_1) = b_1 - p_1 &\\geq 0.\n",
        "\\end{align}\n",
        "Para convertê-las em restrições de igualdade, introduzamos duas novas variáveis $t_{a_1}$ e $t_{b_1}$. As restrições de igualdade serão:\n",
        "\\begin{align}\n",
        "g_{a_1}(p_1, t_{a_1}) &= p_1 - a_1 - t_{a_1}^2 = 0 \\\\\n",
        "g_{b_1}(p_1, t_{b_1}) &= b_1 - p_1 - t_{b_1}^2 = 0.\n",
        "\\end{align}\n",
        "De forma similar, para a outra restrição, teremos\n",
        "\\begin{align}\n",
        "g_{a_2}(p_2, t_{a_2}) &= p_2 - a_2 - t_{a_2}^2 = 0 \\\\\n",
        "g_{b_2}(p_2, t_{b_2}) &= b_2 - p_2 - t_{b_2}^2 = 0.\n",
        "\\end{align}\n",
        "\n",
        "O problema, agora revisado, corresponde a \n",
        "$$\n",
        "\\begin{align}\n",
        "\\text{max} ~~& f(p_1, p_2) \\\\\n",
        "\\text{sujeito a} ~~ & g_{a_1}(p_1, t_{a_1}) \\\\\n",
        "                    & g_{b_1}(p_1, t_{b_1}) \\\\\n",
        "                    & g_{a_2}(p_2, t_{a_2}) \\\\\n",
        "                    & g_{b_2}(p_2, t_{b_2})\n",
        "\\end{align}\n",
        "$$"
      ]
    },
    {
      "cell_type": "code",
      "metadata": {
        "id": "PU3xDggfjbZD",
        "colab": {
          "base_uri": "https://localhost:8080/"
        },
        "outputId": "2c975e8b-8331-4bef-b163-954b354732b0"
      },
      "source": [
        "grad_f = [diff(f, variavel) for variavel in (p1, p2)]\n",
        "grad_f"
      ],
      "execution_count": null,
      "outputs": [
        {
          "output_type": "execute_result",
          "data": {
            "text/plain": [
              "[(p_1 - 1/2)*(-p_1 - p_2 - 5.92)/(p_1*(-p_1 + 1) + p_2*(-p_2 + 1) + 1.58)**(3/2) - 1/sqrt(p_1*(-p_1 + 1) + p_2*(-p_2 + 1) + 1.58),\n",
              " (p_2 - 1/2)*(-p_1 - p_2 - 5.92)/(p_1*(-p_1 + 1) + p_2*(-p_2 + 1) + 1.58)**(3/2) - 1/sqrt(p_1*(-p_1 + 1) + p_2*(-p_2 + 1) + 1.58)]"
            ]
          },
          "metadata": {
            "tags": []
          },
          "execution_count": 13
        }
      ]
    },
    {
      "cell_type": "code",
      "metadata": {
        "id": "hOyRKwQdjr3q",
        "colab": {
          "base_uri": "https://localhost:8080/"
        },
        "outputId": "9b9e28db-5cb7-4454-a0e5-43a391da1e66"
      },
      "source": [
        "import numpy as np\n",
        "ta1, tb1, ta2, tb2 = symbols('t_{a_1}, t_{b_1}, t_{a_2}, t_{b_2}', real = True)\n",
        "\n",
        "gs = [\n",
        "    p_1 - a_1 - ta1**2, \n",
        "    b_1 - p_1 - tb1**2, \n",
        "    p_2 - a_2 - ta2**2,\n",
        "    b_2 - p_2 - tb2**2\n",
        "]\n",
        "\n",
        "grads_g = [\n",
        "    np.array([diff(g, variavel) for variavel in (p1, p2)])\n",
        "    for g in gs\n",
        "]\n",
        "\n",
        "grads_g"
      ],
      "execution_count": null,
      "outputs": [
        {
          "output_type": "execute_result",
          "data": {
            "text/plain": [
              "[array([1, 0], dtype=object),\n",
              " array([-1, 0], dtype=object),\n",
              " array([0, 1], dtype=object),\n",
              " array([0, -1], dtype=object)]"
            ]
          },
          "metadata": {
            "tags": []
          },
          "execution_count": 14
        }
      ]
    },
    {
      "cell_type": "code",
      "metadata": {
        "id": "UWreoUwUkYJ_",
        "colab": {
          "base_uri": "https://localhost:8080/"
        },
        "outputId": "eb28e2f9-9bee-4fb6-9900-f18181074416"
      },
      "source": [
        "lambdas = [var(f'\\lambda_{l+1}', real=True) for l, _ in enumerate(grads_g)]\n",
        "\n",
        "grads_g_lambdas = [g*l for g, l in zip(grads_g, lambdas)]\n",
        "\n",
        "sum_grads_g_lambdas = [sum(grads) for grads in zip(*grads_g_lambdas)]\n",
        "\n",
        "equacoes = [Eq(df, dg) for df, dg in zip(grad_f, sum_grads_g_lambdas)]\n",
        "Math(latex(equacoes))"
      ],
      "execution_count": null,
      "outputs": [
        {
          "output_type": "execute_result",
          "data": {
            "text/latex": "$$\\left [ \\frac{\\left(p_{1} - \\frac{1}{2}\\right) \\left(- p_{1} - p_{2} - 5.92\\right)}{\\left(p_{1} \\left(- p_{1} + 1\\right) + p_{2} \\left(- p_{2} + 1\\right) + 1.58\\right)^{\\frac{3}{2}}} - \\frac{1}{\\sqrt{p_{1} \\left(- p_{1} + 1\\right) + p_{2} \\left(- p_{2} + 1\\right) + 1.58}} = \\lambda_1 - \\lambda_2, \\quad \\frac{\\left(p_{2} - \\frac{1}{2}\\right) \\left(- p_{1} - p_{2} - 5.92\\right)}{\\left(p_{1} \\left(- p_{1} + 1\\right) + p_{2} \\left(- p_{2} + 1\\right) + 1.58\\right)^{\\frac{3}{2}}} - \\frac{1}{\\sqrt{p_{1} \\left(- p_{1} + 1\\right) + p_{2} \\left(- p_{2} + 1\\right) + 1.58}} = \\lambda_3 - \\lambda_4\\right ]$$",
            "text/plain": [
              "<IPython.core.display.Math object>"
            ]
          },
          "metadata": {
            "tags": []
          },
          "execution_count": 15
        }
      ]
    },
    {
      "cell_type": "code",
      "metadata": {
        "id": "VzrLhw-DlDBj",
        "colab": {
          "base_uri": "https://localhost:8080/"
        },
        "outputId": "7215658c-3aaf-4fd9-bde6-fe4a345ee712"
      },
      "source": [
        "Math(latex(solve(equacoes + gs)))"
      ],
      "execution_count": null,
      "outputs": [
        {
          "output_type": "execute_result",
          "data": {
            "text/latex": "$$\\left [ \\left \\{ \\lambda_1 : \\frac{1}{\\left(5000.0 t_{b_1}^{4} + 1700.0 t_{b_1}^{2} + 5000.0 t_{b_2}^{4} - 3500.0 t_{b_2}^{2} - 9643.0\\right)^{2}} \\left(\\lambda_2 \\left(5000.0 t_{b_1}^{4} + 1700.0 t_{b_1}^{2} + 5000.0 t_{b_2}^{4} - 3500.0 t_{b_2}^{2} - 9643.0\\right)^{2} + \\left(- 250000.0 t_{b_1}^{4} - 250000.0 t_{b_1}^{2} t_{b_2}^{2} + 1732500.0 t_{b_1}^{2} - 42500.0 t_{b_2}^{2} + 301750.0\\right) \\sqrt{- 10000.0 t_{b_1}^{4} - 3400.0 t_{b_1}^{2} - 10000.0 t_{b_2}^{4} + 7000.0 t_{b_2}^{2} + 19286.0} - 70.7106781186548 \\left(- 5000.0 t_{b_1}^{4} - 1700.0 t_{b_1}^{2} - 5000.0 t_{b_2}^{4} + 3500.0 t_{b_2}^{2} + 9643.0\\right)^{\\frac{3}{2}}\\right), \\quad \\lambda_3 : \\frac{1}{\\left(5000.0 t_{b_1}^{4} + 1700.0 t_{b_1}^{2} + 5000.0 t_{b_2}^{4} - 3500.0 t_{b_2}^{2} - 9643.0\\right)^{2}} \\left(\\lambda_4 \\left(5000.0 t_{b_1}^{4} + 1700.0 t_{b_1}^{2} + 5000.0 t_{b_2}^{4} - 3500.0 t_{b_2}^{2} - 9643.0\\right)^{2} + \\sqrt{- 10000.0 t_{b_1}^{4} - 3400.0 t_{b_1}^{2} - 10000.0 t_{b_2}^{4} + 7000.0 t_{b_2}^{2} + 19286.0} \\left(- 250000.0 t_{b_1}^{2} t_{b_2}^{2} + 87500.0 t_{b_1}^{2} - 250000.0 t_{b_2}^{4} + 1862500.0 t_{b_2}^{2} - 621250.0\\right) - 70.7106781186548 \\left(- 5000.0 t_{b_1}^{4} - 1700.0 t_{b_1}^{2} - 5000.0 t_{b_2}^{4} + 3500.0 t_{b_2}^{2} + 9643.0\\right)^{\\frac{3}{2}}\\right), \\quad p_{1} : - t_{b_1}^{2} + 0.33, \\quad p_{2} : - t_{b_2}^{2} + 0.85, \\quad t_{a_1} : - 0.2 \\sqrt{- 25.0 t_{b_1}^{2} + 8.0}, \\quad t_{a_2} : - 0.1 \\sqrt{- 100.0 t_{b_2}^{2} + 10.0}\\right \\}\\right ]$$",
            "text/plain": [
              "<IPython.core.display.Math object>"
            ]
          },
          "metadata": {
            "tags": []
          },
          "execution_count": 16
        }
      ]
    }
  ]
}