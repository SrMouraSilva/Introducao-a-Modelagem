{
  "nbformat": 4,
  "nbformat_minor": 0,
  "metadata": {
    "colab": {
      "name": "3.10.ipynb",
      "provenance": [],
      "collapsed_sections": [
        "3QJcFjicAQxY"
      ],
      "toc_visible": true,
      "include_colab_link": true
    },
    "kernelspec": {
      "name": "python3",
      "display_name": "Python 3"
    }
  },
  "cells": [
    {
      "cell_type": "markdown",
      "metadata": {
        "id": "view-in-github",
        "colab_type": "text"
      },
      "source": [
        "<a href=\"https://colab.research.google.com/github/SrMouraSilva/Introducao-a-Modelagem/blob/main/3_10.ipynb\" target=\"_parent\"><img src=\"https://colab.research.google.com/assets/colab-badge.svg\" alt=\"Open In Colab\"/></a>"
      ]
    },
    {
      "cell_type": "code",
      "metadata": {
        "id": "r7FFD4Sr-IFq",
        "colab": {
          "base_uri": "https://localhost:8080/",
          "height": 17
        },
        "outputId": "4897494a-10aa-41c0-bafb-ed64c2764fc0"
      },
      "source": [
        "# Programação simbólica\n",
        "from sympy import *\n",
        "from sympy.plotting import plot, plot3d\n",
        " \n",
        "# Exibir símbolos nos plots\n",
        "from google.colab.output._publish import javascript\n",
        "url = \"https://cdnjs.cloudflare.com/ajax/libs/mathjax/3.1.2/latest.js?config=default\"\n",
        " \n",
        "javascript(url=url)\n",
        "from IPython.display import Math\n",
        "\n",
        "# Manipulação dos dados\n",
        "import numpy as np\n",
        "import pandas as pd\n",
        " \n",
        "# Gráficos\n",
        "import matplotlib as mpl\n",
        "import matplotlib.pyplot as plt\n",
        " \n",
        "import seaborn as sns\n",
        "sns.set_theme()"
      ],
      "execution_count": null,
      "outputs": [
        {
          "output_type": "display_data",
          "data": {
            "text/html": [
              "<script src='https://cdnjs.cloudflare.com/ajax/libs/mathjax/3.1.2/latest.js?config=default'></script>"
            ],
            "text/plain": [
              "<IPython.core.display.HTML object>"
            ]
          },
          "metadata": {
            "tags": []
          }
        }
      ]
    },
    {
      "cell_type": "code",
      "metadata": {
        "id": "thu5z2aCJ5HX"
      },
      "source": [
        "mpl.rcParams['figure.figsize'] = (12,8)\n",
        "mpl.rcParams['font.size'] = 14\n",
        "mpl.rcParams['legend.fontsize'] = 14"
      ],
      "execution_count": null,
      "outputs": []
    },
    {
      "cell_type": "markdown",
      "metadata": {
        "id": "mnTEZuBg6OHQ"
      },
      "source": [
        "## Questão 3.10\n",
        " \n",
        "Reconsider the newspaper problem of Exercise 7 in Chapter 2, but now suppose that we choose to maximize our profit margin (profit as a percentage of revenue. Assume that our business expenses remain fixed at $\\$200{,}000$ per week.\n",
        " \n",
        "Relembrando o exercício 2.7,\n",
        "> **Exercice 2.7** A local daily newspaper has recently been acquired by a large media conglomerate. The paper currently sells for $\\$1.50$/week and has a circulation of $80{,}000$ subscribers. Advertising sells for $\\$250$/page, and the paper currently sells 350 pages/week (50 pages/day). The new management is looking for ways to increase profits. It is estimated that an increase of ten cents/week in the subscription price will cause a drop in circulation of 5,000 subscribers. Increasing the price of advertising by $\\$100$/page will cause the paper to lose approximately 50 pages of advertising per week. The loss of advertising will also affect circulation, since one of the reasons people buy the paper is for the advertisements. It is estimated that a loss of 50 pages of advertisements per week will reduce circulation by 1,000 subscriptions.\n",
        " \n",
        " \n",
        "**AVISO:** Dado que o item a) é baseado em um método aleatório, atente-se que a execução do código novamente gerará valores diferentes. No decorrer da questão, as comparações entre valores foram feitas via código."
      ]
    },
    {
      "cell_type": "markdown",
      "metadata": {
        "id": "DJyzKykJPVGw"
      },
      "source": [
        "### a) Find the subscription price and the advertising price that maximize profit margin. Use the five-step method, and model as an unconstrained optimization problem. Find an approximate solution by the method of random search."
      ]
    },
    {
      "cell_type": "markdown",
      "metadata": {
        "id": "whXLSltbPU1n"
      },
      "source": [
        "#### Passo 1 - Variáveis\n",
        " \n",
        "* $a$ = preço de uma assinatura (USD/semana)\n",
        "* $p$ = preço da publicidade (USD/página)\n",
        "* $p_{\\text{original}}$ = preço da publicidade original sem ter aplicado qualquer mudança (USD/página)\n",
        "* $n_{\\text{assinantes}}$ = número de assinantes (assinantes)\n",
        "* $n_{\\text{publicidade}}$ = número de páginas de publicidade vendidas na semana (páginas/semana)\n",
        "* $C$ = custo da produção dos jornais (USD/semana) = USD $200{,}000$ (valor fixo)\n",
        "* $R$ = receita da venda dos jornais (USD/semana)\n",
        "* $L$ = lucro da venda dos jornais (USD/semana)"
      ]
    },
    {
      "cell_type": "markdown",
      "metadata": {
        "id": "sSkHh2i2PUr9"
      },
      "source": [
        "#### Passo 1 - Suposições do problema"
      ]
    },
    {
      "cell_type": "code",
      "metadata": {
        "id": "v1-bfw2V8Flu"
      },
      "source": [
        "a = var('a', real=True)\n",
        "p = var('p', real=True)\n",
        " \n",
        "p_original = 250\n",
        "n_publicidade_original = 350\n",
        "n_p = n_publicidade_original - 50*(p - p_original)/100\n",
        " \n",
        "a_original = 1.5\n",
        "n_a = 80_000 - 5_000*(a - a_original)/0.1 - 1000*(n_publicidade_original - n_p)/50\n",
        " \n",
        "R = p*n_p + a*n_a\n",
        "C = 200_000\n",
        "L = R - C\n",
        " \n",
        "margem_lucro = 1 - C/R"
      ],
      "execution_count": null,
      "outputs": []
    },
    {
      "cell_type": "markdown",
      "metadata": {
        "id": "D_bIycTHNDCt"
      },
      "source": [
        "Pelo enunciado da questão, busca-se maximizar a margem de lucro (lucro como uma porcentagem da receita). A margem de lucro corresponde a\n",
        "\\begin{align}\n",
        "\\text{Lucro} &= \\text{Receita} - \\text{Despesas} \\\\\n",
        "\\text{Margem de lucro} &= \\frac{\\text{Lucro}}{\\text{Receita}}\n",
        "                        = 1 - \\frac{\\text{Despesas}}{\\text{Receita}}.\n",
        "\\end{align}\n",
        "Dado que a despesas comerciais são fixas em USD $200{,}000$ por semana, a margem de lucro corresponde a\n",
        "\\begin{align}\n",
        "\\text{Margem de lucro} &= 1 - \\frac{200,000}{\\text{Receita}}.\n",
        "\\end{align}\n",
        "\n",
        "Um gráfico 3D é apreentado a seguir para nos auxiliar no entendimento do comportamento da equação. O eixo $x$ representa o custo da assinatura $a$. Já o eixo $y$ representa $p$, o custo da página de publicidade. O eixo $z$ corresponde a margem de lucro."
      ]
    },
    {
      "cell_type": "code",
      "metadata": {
        "id": "WJykII9MSi4n",
        "colab": {
          "base_uri": "https://localhost:8080/",
          "height": 483
        },
        "outputId": "77468758-8986-4399-fcbd-3361651f1d15"
      },
      "source": [
        "plot3d(margem_lucro, (a, 0, 3), (p, 100, 800), xlabel='$a$ (USD/semana)', ylabel='$p$ (USD/página)', zlabel='Lucro')"
      ],
      "execution_count": null,
      "outputs": [
        {
          "output_type": "display_data",
          "data": {
            "image/png": "[encoded data removed]",
            "text/plain": [
              "<Figure size 864x576 with 1 Axes>"
            ]
          },
          "metadata": {
            "tags": [],
            "needs_background": "light"
          }
        },
        {
          "output_type": "execute_result",
          "data": {
            "text/plain": [
              "<sympy.plotting.plot.Plot at 0x7f6b1a65db38>"
            ]
          },
          "metadata": {
            "tags": []
          },
          "execution_count": 4
        }
      ]
    },
    {
      "cell_type": "markdown",
      "metadata": {
        "id": "PrfM10YIlQJn"
      },
      "source": [
        "#### Passo 2 - Abordagem de modelagem\n",
        "\n",
        "Problema de otimização multidimensional sem restrição cujo objetivo é maximizar a margem de lucro. A abordagem de resolução se dará pelo Método de Busca Aleatória."
      ]
    },
    {
      "cell_type": "markdown",
      "metadata": {
        "id": "DgR3DOPyPbGr"
      },
      "source": [
        "#### Passo 3 - Formulação do modelo\n",
        "\n",
        "$$\n",
        "\\begin{align}\n",
        "\\text{max} ~~& f(a, p) \\\\\n",
        "\\text{sujeito a} ~~& a, p \\in \\Omega \\\\\n",
        "\\end{align}\n",
        "$$\n",
        "\n",
        "Sendo:\n",
        "* $f(a, p)$: Função objetivo\n",
        "* $\\Omega$: Espaço viável das variáveis do problema.\n",
        "\n",
        "Dado que não é aplicado qualquer restrição, temos:\n",
        "\n",
        "$$\n",
        "\\begin{align}\n",
        "\\text{max} ~~& f(a, p) \\\\\n",
        "\\end{align}\n",
        "$$"
      ]
    },
    {
      "cell_type": "markdown",
      "metadata": {
        "id": "0AcCS5imPbA8"
      },
      "source": [
        "#### Passo 4 - Resolução do modelo\n",
        "\n",
        "Função a ser otimizada:"
      ]
    },
    {
      "cell_type": "code",
      "metadata": {
        "id": "1RGqQWdqlNOU",
        "colab": {
          "base_uri": "https://localhost:8080/",
          "height": 46
        },
        "outputId": "59210325-cd5e-49b5-9b64-e50bd780b5e4"
      },
      "source": [
        "f = margem_lucro\n",
        "Math(f\"f(a, p)={latex(f)}\")"
      ],
      "execution_count": null,
      "outputs": [
        {
          "output_type": "execute_result",
          "data": {
            "text/latex": "$$f(a, p)=1 - \\frac{200000}{a \\left(- 50000.0 a - 10 p + 157500.0\\right) + p \\left(- \\frac{p}{2} + 475\\right)}$$",
            "text/plain": [
              "<IPython.core.display.Math object>"
            ]
          },
          "metadata": {
            "tags": []
          },
          "execution_count": 5
        }
      ]
    },
    {
      "cell_type": "markdown",
      "metadata": {
        "id": "8DHOC90M5bj8"
      },
      "source": [
        "O método a ser aplicado corresponde ao Método de Busca Aleatória. Realizaremos 30 iterações"
      ]
    },
    {
      "cell_type": "code",
      "metadata": {
        "id": "eMM1VqcB5awA"
      },
      "source": [
        "from random import uniform\n",
        "\n",
        "def MetodoBuscaAleatoria(variaveis, limites, funcao, numero_iteracoes=10):\n",
        "    num_variaveis = len(variaveis)\n",
        "    x_ = np.zeros((num_variaveis, numero_iteracoes))\n",
        "\n",
        "    f = lambdify(variaveis, funcao, 'numpy')\n",
        "    f_max = 0\n",
        "    variaveis_max = np.zeros([1, num_variaveis])\n",
        "\n",
        "    for k in range(numero_iteracoes):\n",
        "        x_k = x_[:, [k]]\n",
        "        \n",
        "        # Obter valor aleatório para cada variável\n",
        "        for i, variavel in enumerate(variaveis):\n",
        "            x_k[i][0] = uniform(*limites[variavel])\n",
        "        \n",
        "        if f_max < f(*x_k):\n",
        "            f_max = f(*x_k)\n",
        "            variaveis_max = x_k\n",
        "\n",
        "        x_[:, k] = x_k.T\n",
        "\n",
        "    retorno = {f'{variavel}': x_[i] for i, variavel in enumerate(variaveis)}\n",
        "    retorno[f'f{Tuple(*variaveis)}'] = [f(*x_i) for x_i in x_.T]\n",
        "\n",
        "    return pd.DataFrame(retorno), f_max[0], tuple(*variaveis_max.T)"
      ],
      "execution_count": null,
      "outputs": []
    },
    {
      "cell_type": "markdown",
      "metadata": {
        "id": "QvWD7I5E9oUH"
      },
      "source": [
        "Ao aplicá-lo no problema, temos"
      ]
    },
    {
      "cell_type": "code",
      "metadata": {
        "id": "Fxqsy26I9oNo",
        "colab": {
          "base_uri": "https://localhost:8080/",
          "height": 1000
        },
        "outputId": "d69b6123-487e-4de0-8902-19ce27b7422b"
      },
      "source": [
        "resultado_busca_aleatoria_a = MetodoBuscaAleatoria(\n",
        "    variaveis=(a, p),\n",
        "    limites={\n",
        "        a: [0, 2],\n",
        "        p: [100, 800]\n",
        "    },\n",
        "    funcao=f,\n",
        "    numero_iteracoes=30\n",
        ")\n",
        " \n",
        "tabela_a, f_max_a, variaveis_max_a = resultado_busca_aleatoria_a\n",
        "s_a = {\n",
        "    a: variaveis_max_a[0],\n",
        "    p: variaveis_max_a[1]\n",
        "}\n",
        " \n",
        "print(\"Melhor f encontrado\")\n",
        "display(Math(f\"\"\"\n",
        "f(a={s_a[a]}, p={s_a[p]}) = {f_max_a}\n",
        "\"\"\"))\n",
        " \n",
        "print(\"Iterações: \")\n",
        "tabela_a"
      ],
      "execution_count": null,
      "outputs": [
        {
          "output_type": "stream",
          "text": [
            "Melhor f encontrado\n"
          ],
          "name": "stdout"
        },
        {
          "output_type": "display_data",
          "data": {
            "text/latex": "$$\nf(a=1.4296953496015852, p=496.09640427615784) = 0.12462258704291873\n$$",
            "text/plain": [
              "<IPython.core.display.Math object>"
            ]
          },
          "metadata": {
            "tags": []
          }
        },
        {
          "output_type": "stream",
          "text": [
            "Iterações: \n"
          ],
          "name": "stdout"
        },
        {
          "output_type": "execute_result",
          "data": {
            "text/html": [
              "<div>\n",
              "<style scoped>\n",
              "    .dataframe tbody tr th:only-of-type {\n",
              "        vertical-align: middle;\n",
              "    }\n",
              "\n",
              "    .dataframe tbody tr th {\n",
              "        vertical-align: top;\n",
              "    }\n",
              "\n",
              "    .dataframe thead th {\n",
              "        text-align: right;\n",
              "    }\n",
              "</style>\n",
              "<table border=\"1\" class=\"dataframe\">\n",
              "  <thead>\n",
              "    <tr style=\"text-align: right;\">\n",
              "      <th></th>\n",
              "      <th>a</th>\n",
              "      <th>p</th>\n",
              "      <th>f(a, p)</th>\n",
              "    </tr>\n",
              "  </thead>\n",
              "  <tbody>\n",
              "    <tr>\n",
              "      <th>0</th>\n",
              "      <td>0.589782</td>\n",
              "      <td>712.692377</td>\n",
              "      <td>-0.283212</td>\n",
              "    </tr>\n",
              "    <tr>\n",
              "      <th>1</th>\n",
              "      <td>0.471093</td>\n",
              "      <td>625.934613</td>\n",
              "      <td>-0.237824</td>\n",
              "    </tr>\n",
              "    <tr>\n",
              "      <th>2</th>\n",
              "      <td>0.748196</td>\n",
              "      <td>586.234394</td>\n",
              "      <td>-0.041175</td>\n",
              "    </tr>\n",
              "    <tr>\n",
              "      <th>3</th>\n",
              "      <td>0.290074</td>\n",
              "      <td>146.805397</td>\n",
              "      <td>-0.999794</td>\n",
              "    </tr>\n",
              "    <tr>\n",
              "      <th>4</th>\n",
              "      <td>1.429695</td>\n",
              "      <td>496.096404</td>\n",
              "      <td>0.124623</td>\n",
              "    </tr>\n",
              "    <tr>\n",
              "      <th>5</th>\n",
              "      <td>1.634090</td>\n",
              "      <td>203.259514</td>\n",
              "      <td>-0.018194</td>\n",
              "    </tr>\n",
              "    <tr>\n",
              "      <th>6</th>\n",
              "      <td>0.105478</td>\n",
              "      <td>456.030977</td>\n",
              "      <td>-0.559965</td>\n",
              "    </tr>\n",
              "    <tr>\n",
              "      <th>7</th>\n",
              "      <td>0.023765</td>\n",
              "      <td>409.034314</td>\n",
              "      <td>-0.750480</td>\n",
              "    </tr>\n",
              "    <tr>\n",
              "      <th>8</th>\n",
              "      <td>0.028832</td>\n",
              "      <td>397.780794</td>\n",
              "      <td>-0.751069</td>\n",
              "    </tr>\n",
              "    <tr>\n",
              "      <th>9</th>\n",
              "      <td>1.545693</td>\n",
              "      <td>338.894040</td>\n",
              "      <td>0.100315</td>\n",
              "    </tr>\n",
              "    <tr>\n",
              "      <th>10</th>\n",
              "      <td>0.917904</td>\n",
              "      <td>476.503849</td>\n",
              "      <td>0.051593</td>\n",
              "    </tr>\n",
              "    <tr>\n",
              "      <th>11</th>\n",
              "      <td>0.003484</td>\n",
              "      <td>340.521520</td>\n",
              "      <td>-0.917426</td>\n",
              "    </tr>\n",
              "    <tr>\n",
              "      <th>12</th>\n",
              "      <td>0.813403</td>\n",
              "      <td>716.682564</td>\n",
              "      <td>-0.157357</td>\n",
              "    </tr>\n",
              "    <tr>\n",
              "      <th>13</th>\n",
              "      <td>0.958926</td>\n",
              "      <td>409.645206</td>\n",
              "      <td>0.055724</td>\n",
              "    </tr>\n",
              "    <tr>\n",
              "      <th>14</th>\n",
              "      <td>1.689789</td>\n",
              "      <td>296.612765</td>\n",
              "      <td>0.070899</td>\n",
              "    </tr>\n",
              "    <tr>\n",
              "      <th>15</th>\n",
              "      <td>0.240112</td>\n",
              "      <td>225.081097</td>\n",
              "      <td>-0.724477</td>\n",
              "    </tr>\n",
              "    <tr>\n",
              "      <th>16</th>\n",
              "      <td>0.290387</td>\n",
              "      <td>458.319763</td>\n",
              "      <td>-0.308367</td>\n",
              "    </tr>\n",
              "    <tr>\n",
              "      <th>17</th>\n",
              "      <td>1.403356</td>\n",
              "      <td>570.894055</td>\n",
              "      <td>0.102177</td>\n",
              "    </tr>\n",
              "    <tr>\n",
              "      <th>18</th>\n",
              "      <td>0.754994</td>\n",
              "      <td>142.517956</td>\n",
              "      <td>-0.361701</td>\n",
              "    </tr>\n",
              "    <tr>\n",
              "      <th>19</th>\n",
              "      <td>1.551096</td>\n",
              "      <td>750.842546</td>\n",
              "      <td>-0.068808</td>\n",
              "    </tr>\n",
              "    <tr>\n",
              "      <th>20</th>\n",
              "      <td>0.371958</td>\n",
              "      <td>147.302116</td>\n",
              "      <td>-0.814267</td>\n",
              "    </tr>\n",
              "    <tr>\n",
              "      <th>21</th>\n",
              "      <td>0.878944</td>\n",
              "      <td>638.372933</td>\n",
              "      <td>-0.032723</td>\n",
              "    </tr>\n",
              "    <tr>\n",
              "      <th>22</th>\n",
              "      <td>1.041173</td>\n",
              "      <td>156.124711</td>\n",
              "      <td>-0.175579</td>\n",
              "    </tr>\n",
              "    <tr>\n",
              "      <th>23</th>\n",
              "      <td>1.285512</td>\n",
              "      <td>250.548049</td>\n",
              "      <td>0.020776</td>\n",
              "    </tr>\n",
              "    <tr>\n",
              "      <th>24</th>\n",
              "      <td>1.844724</td>\n",
              "      <td>311.761797</td>\n",
              "      <td>0.065995</td>\n",
              "    </tr>\n",
              "    <tr>\n",
              "      <th>25</th>\n",
              "      <td>0.402376</td>\n",
              "      <td>467.738420</td>\n",
              "      <td>-0.203493</td>\n",
              "    </tr>\n",
              "    <tr>\n",
              "      <th>26</th>\n",
              "      <td>0.913413</td>\n",
              "      <td>517.131902</td>\n",
              "      <td>0.044652</td>\n",
              "    </tr>\n",
              "    <tr>\n",
              "      <th>27</th>\n",
              "      <td>1.551061</td>\n",
              "      <td>516.934435</td>\n",
              "      <td>0.122491</td>\n",
              "    </tr>\n",
              "    <tr>\n",
              "      <th>28</th>\n",
              "      <td>0.801053</td>\n",
              "      <td>219.774757</td>\n",
              "      <td>-0.158993</td>\n",
              "    </tr>\n",
              "    <tr>\n",
              "      <th>29</th>\n",
              "      <td>0.951190</td>\n",
              "      <td>148.553978</td>\n",
              "      <td>-0.229330</td>\n",
              "    </tr>\n",
              "  </tbody>\n",
              "</table>\n",
              "</div>"
            ],
            "text/plain": [
              "           a           p   f(a, p)\n",
              "0   0.589782  712.692377 -0.283212\n",
              "1   0.471093  625.934613 -0.237824\n",
              "2   0.748196  586.234394 -0.041175\n",
              "3   0.290074  146.805397 -0.999794\n",
              "4   1.429695  496.096404  0.124623\n",
              "5   1.634090  203.259514 -0.018194\n",
              "6   0.105478  456.030977 -0.559965\n",
              "7   0.023765  409.034314 -0.750480\n",
              "8   0.028832  397.780794 -0.751069\n",
              "9   1.545693  338.894040  0.100315\n",
              "10  0.917904  476.503849  0.051593\n",
              "11  0.003484  340.521520 -0.917426\n",
              "12  0.813403  716.682564 -0.157357\n",
              "13  0.958926  409.645206  0.055724\n",
              "14  1.689789  296.612765  0.070899\n",
              "15  0.240112  225.081097 -0.724477\n",
              "16  0.290387  458.319763 -0.308367\n",
              "17  1.403356  570.894055  0.102177\n",
              "18  0.754994  142.517956 -0.361701\n",
              "19  1.551096  750.842546 -0.068808\n",
              "20  0.371958  147.302116 -0.814267\n",
              "21  0.878944  638.372933 -0.032723\n",
              "22  1.041173  156.124711 -0.175579\n",
              "23  1.285512  250.548049  0.020776\n",
              "24  1.844724  311.761797  0.065995\n",
              "25  0.402376  467.738420 -0.203493\n",
              "26  0.913413  517.131902  0.044652\n",
              "27  1.551061  516.934435  0.122491\n",
              "28  0.801053  219.774757 -0.158993\n",
              "29  0.951190  148.553978 -0.229330"
            ]
          },
          "metadata": {
            "tags": []
          },
          "execution_count": 7
        }
      ]
    },
    {
      "cell_type": "markdown",
      "metadata": {
        "id": "Gf2wYLIs-nLk"
      },
      "source": [
        "#### Passo 5 - Resposta da pergunta\n",
        "\n",
        "Sem mudança alguma, a receita da empresa corresponde a \n",
        "\\begin{align*}\n",
        "  \\text{Receita } &= 80,000~\\frac{\\text{assinaturas}}{\\text{semana}} \\cdot \\frac{\\text{USD } 1.50}{\\text{assinatura}} + 350~\\frac{\\text{propagandas}}{\\text{semana}} \\cdot \\frac{\\text{USD } 250.00}{\\frac{\\text{propagandas}}{\\text{semana}}} \\\\\n",
        "  &= \\frac{\\text{USD}~207,500.00}{\\text{semana}}.\n",
        "\\end{align*}\n",
        "Logo, a margem de lucro corresponde a\n",
        "\\begin{align*}\n",
        "  \\text{Margem de Lucro} &= 1 - \\frac{\\text{Despesas}}{\\text{Receita}} \\\\\n",
        "  &= 1 - \\frac{\\text{USD}~200,000.00}{\\text{USD}~207,500.00} \\\\\n",
        "  &= 0.0361445783 = 3.61445783 \\%.\n",
        "\\end{align*}\n",
        "\n",
        "Considerando que qualquer mudança na quantidade de unidades impressas ou na quantidade de propaganda não impacta o custo de produção, então o cenário de maior lucro, encontrado pelo Método de Busca Aleatória, se dará com\n",
        "\n"
      ]
    },
    {
      "cell_type": "code",
      "metadata": {
        "id": "UQpAVYb6Aq2J",
        "colab": {
          "base_uri": "https://localhost:8080/",
          "height": 169
        },
        "outputId": "b89348c6-de7d-467c-d3bb-de08c3396307"
      },
      "source": [
        "a_aumentou = s_a[a] - a_original > 0\n",
        "p_aumentou = s_a[p] - p_original > 0\n",
        "\n",
        "Math(f\"\"\"\n",
        "\\\\begin{{aligned}}\n",
        "a &= \\\\text{{USD }}{s_a[a]}, \\\\\\\\\n",
        "  & \\\\text{{ {\"um aumento de\" if a_aumentou else \"uma redução de\"} }} \\\\text{{USD }} {abs(s_a[a] - a_original)}  \\\\text{{ comparado com o valor original}} \\\\\\\\\n",
        "  & ({(s_a[a]/a_original - 1) * 100}\\%) \\\\\\\\\n",
        "p &= \\\\text{{USD }}{s_a[p]}, \\\\\\\\\n",
        "  & \\\\text{{ {\"um aumento de\" if p_aumentou else \"uma redução de\"} }} \\\\text{{USD }} {abs(s_a[p] - p_original)}  \\\\text{{ comparado com o valor original}} \\\\\\\\\n",
        "  & ({(s_a[p]/p_original - 1) * 100}\\%).\n",
        "\\\\end{{aligned}}\n",
        "\"\"\")"
      ],
      "execution_count": null,
      "outputs": [
        {
          "output_type": "execute_result",
          "data": {
            "text/latex": "$$\n\\begin{aligned}\na &= \\text{USD }1.4296953496015852, \\\\\n  & \\text{ uma redução de } \\text{USD } 0.07030465039841483  \\text{ comparado com o valor original} \\\\\n  & (-4.686976693227651\\%) \\\\\np &= \\text{USD }496.09640427615784, \\\\\n  & \\text{ um aumento de } \\text{USD } 246.09640427615784  \\text{ comparado com o valor original} \\\\\n  & (98.43856171046315\\%).\n\\end{aligned}\n$$",
            "text/plain": [
              "<IPython.core.display.Math object>"
            ]
          },
          "metadata": {
            "tags": []
          },
          "execution_count": 8
        }
      ]
    },
    {
      "cell_type": "code",
      "metadata": {
        "id": "2EXGEdM3EJbh",
        "colab": {
          "base_uri": "https://localhost:8080/",
          "height": 58
        },
        "outputId": "adc7629d-bdab-4bdc-fbb2-915e0ef367ec"
      },
      "source": [
        "Math(f\"\"\"\n",
        "\\\\text{{O número de assinantes passará de }} {n_a.subs({a: a_original, p: p_original})} \\\\text{{ para }} {n_a.subs(s_a)}. \\\\\\\\\n",
        "\\\\text{{O número de páginas de publicidade passará de }} {n_p.subs({a: a_original, p: p_original})} \\\\text{{ para }} {n_p.subs(s_a)}.\n",
        "\"\"\")"
      ],
      "execution_count": null,
      "outputs": [
        {
          "output_type": "execute_result",
          "data": {
            "text/latex": "$$\n\\text{O número de assinantes passará de } 80000.0000000000 \\text{ para } 81054.2684771592. \\\\\n\\text{O número de páginas de publicidade passará de } 350 \\text{ para } 226.951797861921.\n$$",
            "text/plain": [
              "<IPython.core.display.Math object>"
            ]
          },
          "metadata": {
            "tags": []
          },
          "execution_count": 9
        }
      ]
    },
    {
      "cell_type": "code",
      "metadata": {
        "id": "yNwKi29lBYCd",
        "colab": {
          "base_uri": "https://localhost:8080/",
          "height": 58
        },
        "outputId": "c1dcac39-4442-4588-8f35-14f8af961cec"
      },
      "source": [
        "Math(f\"\"\"\n",
        "\\\\text{{Estas mudanças resultariam em um lucro semanal de USD }} {L.subs({a: a_original, p: p_original})} \\\\text{{ para USD }} {L.subs(s_a)}. \\\\\\\\\n",
        "\\\\text{{E a margem de lucro passa de }} {margem_lucro.subs({a: a_original, p: p_original}) * 100} \\% \\\\text{{ para }} {margem_lucro.subs(s_a) * 100} \\%.\n",
        "\"\"\")"
      ],
      "execution_count": null,
      "outputs": [
        {
          "output_type": "execute_result",
          "data": {
            "text/latex": "$$\n\\text{Estas mudanças resultariam em um lucro semanal de USD } 7500.00000000000 \\text{ para USD } 28472.8815704613. \\\\\n\\text{E a margem de lucro passa de } 3.61445783132529 \\% \\text{ para } 12.4622587042919 \\%.\n$$",
            "text/plain": [
              "<IPython.core.display.Math object>"
            ]
          },
          "metadata": {
            "tags": []
          },
          "execution_count": 10
        }
      ]
    },
    {
      "cell_type": "markdown",
      "metadata": {
        "id": "e13aHA58_v6M"
      },
      "source": [
        "### b) Let $z=f(x; y)$ denote the objective function you obtained in part (a). Use a computer algebra system to determine $F=\\partial f/\\partial x$ and $G=\\partial f/\\partial y$. Then determine $\\partial F/\\partial x, \\partial F/\\partial y, \\partial G/ x$ and $\\partial G/ \\partial y$.\n",
        "\n",
        "Façamos\n",
        "\\begin{aligned}\n",
        "x &= a \\\\\n",
        "y &= p\n",
        "\\end{aligned}"
      ]
    },
    {
      "cell_type": "markdown",
      "metadata": {
        "id": "OgSa1kPbIa7Q"
      },
      "source": [
        "O vetor gradiente de $z$ (ou $f(a, p)$)\n",
        "$$\\nabla f(a, p) = \n",
        "\\left[\n",
        "\\begin{matrix}\n",
        "    \\frac{\\partial f(a, p)}{\\partial a} \\\\\n",
        "    \\frac{\\partial f(a, p)}{\\partial p}\n",
        "\\end{matrix}\n",
        "\\right]\n",
        "=\n",
        "\\left[\n",
        "\\begin{matrix}\n",
        "    F \\\\\n",
        "    G\n",
        "\\end{matrix}\n",
        "\\right]\n",
        "=\n",
        "\\left[\n",
        "\\begin{matrix}\n",
        "    \\frac{\\partial f}{\\partial x} \\\\\n",
        "    \\frac{\\partial f}{\\partial y}\n",
        "\\end{matrix}\n",
        "\\right]\n",
        "$$\n",
        "corresponde a"
      ]
    },
    {
      "cell_type": "code",
      "metadata": {
        "id": "YlBjnHfsIaqE",
        "colab": {
          "base_uri": "https://localhost:8080/",
          "height": 81
        },
        "outputId": "441a8949-d3bf-4ed2-8e42-8566cfb8ebe1"
      },
      "source": [
        "grad_f = Matrix(derive_by_array(f, (a, p)))\n",
        "\n",
        "display(Math(f\"\\\\nabla f(a, p) = {latex(grad_f)}\"))"
      ],
      "execution_count": null,
      "outputs": [
        {
          "output_type": "display_data",
          "data": {
            "text/latex": "$$\\nabla f(a, p) = \\left[\\begin{matrix}- \\frac{200000 \\left(100000.0 a + 10 p - 157500.0\\right)}{\\left(a \\left(- 50000.0 a - 10 p + 157500.0\\right) + p \\left(- \\frac{p}{2} + 475\\right)\\right)^{2}}\\\\- \\frac{200000 \\left(10 a + p - 475\\right)}{\\left(a \\left(- 50000.0 a - 10 p + 157500.0\\right) + p \\left(- \\frac{p}{2} + 475\\right)\\right)^{2}}\\end{matrix}\\right]$$",
            "text/plain": [
              "<IPython.core.display.Math object>"
            ]
          },
          "metadata": {
            "tags": []
          }
        }
      ]
    },
    {
      "cell_type": "markdown",
      "metadata": {
        "id": "O8eNqVg3JLV7"
      },
      "source": [
        "Sua hessiana $$H = \\nabla^2 z = \\nabla^2 f(a, p) = \n",
        "\\left[\n",
        "\\begin{matrix}\n",
        "    \\frac{\\partial^2 f(a, p)}{\\partial s^2} & \\frac{\\partial^2 f(a, p)}{\\partial s \\partial t} \\\\\n",
        "    \\frac{\\partial^2 f(a, p)}{\\partial t \\partial s} & \\frac{\\partial^2 f(a, p)}{\\partial t^2}\n",
        "\\end{matrix}\n",
        "\\right]\n",
        "=\n",
        "\\left[\n",
        "\\begin{matrix}\n",
        "    \\frac{\\partial F}{\\partial x} & \\frac{\\partial F}{\\partial y} \\\\\n",
        "    \\frac{\\partial G}{\\partial x} & \\frac{\\partial G}{\\partial y}\n",
        "\\end{matrix}\n",
        "\\right]\n",
        "$$\n",
        "como"
      ]
    },
    {
      "cell_type": "code",
      "metadata": {
        "id": "--ga79QlJLuJ",
        "colab": {
          "base_uri": "https://localhost:8080/",
          "height": 103
        },
        "outputId": "6f392b87-32cd-4007-8628-2201c448704c"
      },
      "source": [
        "hessian_f = hessian(f, [a, p])\n",
        "\n",
        "Math(f\"H = \\\\nabla^2 f(a, p) = {latex(hessian_f)}\")"
      ],
      "execution_count": null,
      "outputs": [
        {
          "output_type": "execute_result",
          "data": {
            "text/latex": "$$H = \\nabla^2 f(a, p) = \\left[\\begin{matrix}- \\frac{20000000000.0}{\\left(a \\left(- 50000.0 a - 10 p + 157500.0\\right) + p \\left(- \\frac{p}{2} + 475\\right)\\right)^{2}} - \\frac{200000 \\left(100000.0 a + 10 p - 157500.0\\right) \\left(200000.0 a + 20 p - 315000.0\\right)}{\\left(a \\left(- 50000.0 a - 10 p + 157500.0\\right) + p \\left(- \\frac{p}{2} + 475\\right)\\right)^{3}} & - \\frac{2000000}{\\left(a \\left(- 50000.0 a - 10 p + 157500.0\\right) + p \\left(- \\frac{p}{2} + 475\\right)\\right)^{2}} - \\frac{200000 \\left(20 a + 2 p - 950\\right) \\left(100000.0 a + 10 p - 157500.0\\right)}{\\left(a \\left(- 50000.0 a - 10 p + 157500.0\\right) + p \\left(- \\frac{p}{2} + 475\\right)\\right)^{3}}\\\\- \\frac{2000000}{\\left(a \\left(- 50000.0 a - 10 p + 157500.0\\right) + p \\left(- \\frac{p}{2} + 475\\right)\\right)^{2}} - \\frac{200000 \\left(20 a + 2 p - 950\\right) \\left(100000.0 a + 10 p - 157500.0\\right)}{\\left(a \\left(- 50000.0 a - 10 p + 157500.0\\right) + p \\left(- \\frac{p}{2} + 475\\right)\\right)^{3}} & - \\frac{200000}{\\left(a \\left(- 50000.0 a - 10 p + 157500.0\\right) + p \\left(- \\frac{p}{2} + 475\\right)\\right)^{2}} - \\frac{200000 \\left(10 a + p - 475\\right) \\left(20 a + 2 p - 950\\right)}{\\left(a \\left(- 50000.0 a - 10 p + 157500.0\\right) + p \\left(- \\frac{p}{2} + 475\\right)\\right)^{3}}\\end{matrix}\\right]$$",
            "text/plain": [
              "<IPython.core.display.Math object>"
            ]
          },
          "metadata": {
            "tags": []
          },
          "execution_count": 12
        }
      ]
    },
    {
      "cell_type": "markdown",
      "metadata": {
        "id": "OaCASp7y8cEu"
      },
      "source": [
        "### c) Use Newton’s method in two variables to obtain a precise answer to the question in part (a). Use the approximate solution from part (a) as your initial estimate. The required derivatives were calculated in part (b).\n"
      ]
    },
    {
      "cell_type": "markdown",
      "metadata": {
        "id": "VYdHw2jAK3Uu"
      },
      "source": [
        "Além do que foi calculado no item **b**, é necessário a inversa da matriz hessiana, dado por:"
      ]
    },
    {
      "cell_type": "code",
      "metadata": {
        "id": "UbOFW3vyK4YE",
        "colab": {
          "base_uri": "https://localhost:8080/",
          "height": 228
        },
        "outputId": "81495eb0-29a1-4483-9cc2-5d9ca5cbfad9"
      },
      "source": [
        "Math(f\"H^{{-1}} = \\\\nabla^2 f(a, p) = {latex(hessian_f.inv())}\")"
      ],
      "execution_count": null,
      "outputs": [
        {
          "output_type": "execute_result",
          "data": {
            "text/latex": "$$H^{-1} = \\nabla^2 f(a, p) = \\left[\\begin{matrix}\\frac{\\left(- \\frac{20000000000.0}{\\left(a \\left(- 50000.0 a - 10 p + 157500.0\\right) + p \\left(- \\frac{p}{2} + 475\\right)\\right)^{2}} - \\frac{200000 \\left(100000.0 a + 10 p - 157500.0\\right) \\left(200000.0 a + 20 p - 315000.0\\right)}{\\left(a \\left(- 50000.0 a - 10 p + 157500.0\\right) + p \\left(- \\frac{p}{2} + 475\\right)\\right)^{3}}\\right) \\left(- \\frac{200000}{\\left(a \\left(- 50000.0 a - 10 p + 157500.0\\right) + p \\left(- \\frac{p}{2} + 475\\right)\\right)^{2}} - \\frac{200000 \\left(10 a + p - 475\\right) \\left(20 a + 2 p - 950\\right)}{\\left(a \\left(- 50000.0 a - 10 p + 157500.0\\right) + p \\left(- \\frac{p}{2} + 475\\right)\\right)^{3}}\\right) - \\left(- \\frac{2000000}{\\left(a \\left(- 50000.0 a - 10 p + 157500.0\\right) + p \\left(- \\frac{p}{2} + 475\\right)\\right)^{2}} - \\frac{200000 \\left(20 a + 2 p - 950\\right) \\left(100000.0 a + 10 p - 157500.0\\right)}{\\left(a \\left(- 50000.0 a - 10 p + 157500.0\\right) + p \\left(- \\frac{p}{2} + 475\\right)\\right)^{3}}\\right)^{2} - \\left(- \\frac{2000000}{\\left(a \\left(- 50000.0 a - 10 p + 157500.0\\right) + p \\left(- \\frac{p}{2} + 475\\right)\\right)^{2}} - \\frac{200000 \\left(20 a + 2 p - 950\\right) \\left(100000.0 a + 10 p - 157500.0\\right)}{\\left(a \\left(- 50000.0 a - 10 p + 157500.0\\right) + p \\left(- \\frac{p}{2} + 475\\right)\\right)^{3}}\\right) \\left(\\frac{2000000}{\\left(a \\left(- 50000.0 a - 10 p + 157500.0\\right) + p \\left(- \\frac{p}{2} + 475\\right)\\right)^{2}} + \\frac{200000 \\left(20 a + 2 p - 950\\right) \\left(100000.0 a + 10 p - 157500.0\\right)}{\\left(a \\left(- 50000.0 a - 10 p + 157500.0\\right) + p \\left(- \\frac{p}{2} + 475\\right)\\right)^{3}}\\right)}{\\left(\\left(- \\frac{20000000000.0}{\\left(a \\left(- 50000.0 a - 10 p + 157500.0\\right) + p \\left(- \\frac{p}{2} + 475\\right)\\right)^{2}} - \\frac{200000 \\left(100000.0 a + 10 p - 157500.0\\right) \\left(200000.0 a + 20 p - 315000.0\\right)}{\\left(a \\left(- 50000.0 a - 10 p + 157500.0\\right) + p \\left(- \\frac{p}{2} + 475\\right)\\right)^{3}}\\right) \\left(- \\frac{200000}{\\left(a \\left(- 50000.0 a - 10 p + 157500.0\\right) + p \\left(- \\frac{p}{2} + 475\\right)\\right)^{2}} - \\frac{200000 \\left(10 a + p - 475\\right) \\left(20 a + 2 p - 950\\right)}{\\left(a \\left(- 50000.0 a - 10 p + 157500.0\\right) + p \\left(- \\frac{p}{2} + 475\\right)\\right)^{3}}\\right) - \\left(- \\frac{2000000}{\\left(a \\left(- 50000.0 a - 10 p + 157500.0\\right) + p \\left(- \\frac{p}{2} + 475\\right)\\right)^{2}} - \\frac{200000 \\left(20 a + 2 p - 950\\right) \\left(100000.0 a + 10 p - 157500.0\\right)}{\\left(a \\left(- 50000.0 a - 10 p + 157500.0\\right) + p \\left(- \\frac{p}{2} + 475\\right)\\right)^{3}}\\right)^{2}\\right) \\left(- \\frac{20000000000.0}{\\left(a \\left(- 50000.0 a - 10 p + 157500.0\\right) + p \\left(- \\frac{p}{2} + 475\\right)\\right)^{2}} - \\frac{200000 \\left(100000.0 a + 10 p - 157500.0\\right) \\left(200000.0 a + 20 p - 315000.0\\right)}{\\left(a \\left(- 50000.0 a - 10 p + 157500.0\\right) + p \\left(- \\frac{p}{2} + 475\\right)\\right)^{3}}\\right)} & - \\frac{- \\frac{2000000}{\\left(a \\left(- 50000.0 a - 10 p + 157500.0\\right) + p \\left(- \\frac{p}{2} + 475\\right)\\right)^{2}} - \\frac{200000 \\left(20 a + 2 p - 950\\right) \\left(100000.0 a + 10 p - 157500.0\\right)}{\\left(a \\left(- 50000.0 a - 10 p + 157500.0\\right) + p \\left(- \\frac{p}{2} + 475\\right)\\right)^{3}}}{\\left(- \\frac{20000000000.0}{\\left(a \\left(- 50000.0 a - 10 p + 157500.0\\right) + p \\left(- \\frac{p}{2} + 475\\right)\\right)^{2}} - \\frac{200000 \\left(100000.0 a + 10 p - 157500.0\\right) \\left(200000.0 a + 20 p - 315000.0\\right)}{\\left(a \\left(- 50000.0 a - 10 p + 157500.0\\right) + p \\left(- \\frac{p}{2} + 475\\right)\\right)^{3}}\\right) \\left(- \\frac{200000}{\\left(a \\left(- 50000.0 a - 10 p + 157500.0\\right) + p \\left(- \\frac{p}{2} + 475\\right)\\right)^{2}} - \\frac{200000 \\left(10 a + p - 475\\right) \\left(20 a + 2 p - 950\\right)}{\\left(a \\left(- 50000.0 a - 10 p + 157500.0\\right) + p \\left(- \\frac{p}{2} + 475\\right)\\right)^{3}}\\right) - \\left(- \\frac{2000000}{\\left(a \\left(- 50000.0 a - 10 p + 157500.0\\right) + p \\left(- \\frac{p}{2} + 475\\right)\\right)^{2}} - \\frac{200000 \\left(20 a + 2 p - 950\\right) \\left(100000.0 a + 10 p - 157500.0\\right)}{\\left(a \\left(- 50000.0 a - 10 p + 157500.0\\right) + p \\left(- \\frac{p}{2} + 475\\right)\\right)^{3}}\\right)^{2}}\\\\\\frac{\\frac{2000000}{\\left(a \\left(- 50000.0 a - 10 p + 157500.0\\right) + p \\left(- \\frac{p}{2} + 475\\right)\\right)^{2}} + \\frac{200000 \\left(20 a + 2 p - 950\\right) \\left(100000.0 a + 10 p - 157500.0\\right)}{\\left(a \\left(- 50000.0 a - 10 p + 157500.0\\right) + p \\left(- \\frac{p}{2} + 475\\right)\\right)^{3}}}{\\left(- \\frac{20000000000.0}{\\left(a \\left(- 50000.0 a - 10 p + 157500.0\\right) + p \\left(- \\frac{p}{2} + 475\\right)\\right)^{2}} - \\frac{200000 \\left(100000.0 a + 10 p - 157500.0\\right) \\left(200000.0 a + 20 p - 315000.0\\right)}{\\left(a \\left(- 50000.0 a - 10 p + 157500.0\\right) + p \\left(- \\frac{p}{2} + 475\\right)\\right)^{3}}\\right) \\left(- \\frac{200000}{\\left(a \\left(- 50000.0 a - 10 p + 157500.0\\right) + p \\left(- \\frac{p}{2} + 475\\right)\\right)^{2}} - \\frac{200000 \\left(10 a + p - 475\\right) \\left(20 a + 2 p - 950\\right)}{\\left(a \\left(- 50000.0 a - 10 p + 157500.0\\right) + p \\left(- \\frac{p}{2} + 475\\right)\\right)^{3}}\\right) - \\left(- \\frac{2000000}{\\left(a \\left(- 50000.0 a - 10 p + 157500.0\\right) + p \\left(- \\frac{p}{2} + 475\\right)\\right)^{2}} - \\frac{200000 \\left(20 a + 2 p - 950\\right) \\left(100000.0 a + 10 p - 157500.0\\right)}{\\left(a \\left(- 50000.0 a - 10 p + 157500.0\\right) + p \\left(- \\frac{p}{2} + 475\\right)\\right)^{3}}\\right)^{2}} & \\frac{- \\frac{20000000000.0}{\\left(a \\left(- 50000.0 a - 10 p + 157500.0\\right) + p \\left(- \\frac{p}{2} + 475\\right)\\right)^{2}} - \\frac{200000 \\left(100000.0 a + 10 p - 157500.0\\right) \\left(200000.0 a + 20 p - 315000.0\\right)}{\\left(a \\left(- 50000.0 a - 10 p + 157500.0\\right) + p \\left(- \\frac{p}{2} + 475\\right)\\right)^{3}}}{\\left(- \\frac{20000000000.0}{\\left(a \\left(- 50000.0 a - 10 p + 157500.0\\right) + p \\left(- \\frac{p}{2} + 475\\right)\\right)^{2}} - \\frac{200000 \\left(100000.0 a + 10 p - 157500.0\\right) \\left(200000.0 a + 20 p - 315000.0\\right)}{\\left(a \\left(- 50000.0 a - 10 p + 157500.0\\right) + p \\left(- \\frac{p}{2} + 475\\right)\\right)^{3}}\\right) \\left(- \\frac{200000}{\\left(a \\left(- 50000.0 a - 10 p + 157500.0\\right) + p \\left(- \\frac{p}{2} + 475\\right)\\right)^{2}} - \\frac{200000 \\left(10 a + p - 475\\right) \\left(20 a + 2 p - 950\\right)}{\\left(a \\left(- 50000.0 a - 10 p + 157500.0\\right) + p \\left(- \\frac{p}{2} + 475\\right)\\right)^{3}}\\right) - \\left(- \\frac{2000000}{\\left(a \\left(- 50000.0 a - 10 p + 157500.0\\right) + p \\left(- \\frac{p}{2} + 475\\right)\\right)^{2}} - \\frac{200000 \\left(20 a + 2 p - 950\\right) \\left(100000.0 a + 10 p - 157500.0\\right)}{\\left(a \\left(- 50000.0 a - 10 p + 157500.0\\right) + p \\left(- \\frac{p}{2} + 475\\right)\\right)^{3}}\\right)^{2}}\\end{matrix}\\right]$$",
            "text/plain": [
              "<IPython.core.display.Math object>"
            ]
          },
          "metadata": {
            "tags": []
          },
          "execution_count": 13
        }
      ]
    },
    {
      "cell_type": "markdown",
      "metadata": {
        "id": "EwlFnvqzLDRf"
      },
      "source": [
        "Aplicando o método de Newton, temos:"
      ]
    },
    {
      "cell_type": "code",
      "metadata": {
        "id": "ZxmFnPq6AQdG",
        "colab": {
          "base_uri": "https://localhost:8080/",
          "height": 394
        },
        "outputId": "2ea2ec6b-a1fc-40b0-c64f-936226921aa9"
      },
      "source": [
        "def MetodoNewton(variaveis, valores_iniciais, funcao, numero_iteracoes=10):\n",
        "    num_variaveis = len(variaveis)\n",
        "    x_ = np.zeros((num_variaveis, numero_iteracoes+1))\n",
        "    \n",
        "    x_[:, 0] = valores_iniciais\n",
        "\n",
        "    f = lambdify(variaveis, funcao, 'numpy')\n",
        "\n",
        "    gradiente = Matrix(derive_by_array(funcao, variaveis))\n",
        "    gradiente_f_original = lambdify(variaveis, gradiente, 'numpy')\n",
        "    gradiente_f = lambda vetor: gradiente_f_original(*vetor.T.flatten())\n",
        "\n",
        "    hessiana = hessian(funcao, variaveis)\n",
        "\n",
        "    hessiana_inversa_f_original = lambdify(variaveis, hessiana.inv(), 'numpy')\n",
        "    hessiana_inversa_f = lambda vetor: hessiana_inversa_f_original(*vetor.T.flatten())\n",
        "    \n",
        "    for k in range(numero_iteracoes):\n",
        "        x_k = x_[:, [k]]\n",
        "\n",
        "        x_k_next = x_k - hessiana_inversa_f(x_k) @ gradiente_f(x_k)\n",
        "        x_[:, k+1] = x_k_next.T\n",
        "    \n",
        "    retorno = {f'{variavel}': x_[i] for i, variavel in enumerate(variaveis)}\n",
        "    retorno[f'f{Tuple(*variaveis)}'] = [f(*x_i) for x_i in x_.T]\n",
        "    \n",
        "    return pd.DataFrame(retorno)\n",
        "\n",
        "resultado_newton_a = MetodoNewton(\n",
        "    variaveis=(a, p),\n",
        "    valores_iniciais=(s_a[a], s_a[p]),\n",
        "    funcao=f,\n",
        "    numero_iteracoes=10\n",
        ")\n",
        "\n",
        "resultado_newton_a"
      ],
      "execution_count": null,
      "outputs": [
        {
          "output_type": "execute_result",
          "data": {
            "text/html": [
              "<div>\n",
              "<style scoped>\n",
              "    .dataframe tbody tr th:only-of-type {\n",
              "        vertical-align: middle;\n",
              "    }\n",
              "\n",
              "    .dataframe tbody tr th {\n",
              "        vertical-align: top;\n",
              "    }\n",
              "\n",
              "    .dataframe thead th {\n",
              "        text-align: right;\n",
              "    }\n",
              "</style>\n",
              "<table border=\"1\" class=\"dataframe\">\n",
              "  <thead>\n",
              "    <tr style=\"text-align: right;\">\n",
              "      <th></th>\n",
              "      <th>a</th>\n",
              "      <th>p</th>\n",
              "      <th>f(a, p)</th>\n",
              "    </tr>\n",
              "  </thead>\n",
              "  <tbody>\n",
              "    <tr>\n",
              "      <th>0</th>\n",
              "      <td>1.429695</td>\n",
              "      <td>496.096404</td>\n",
              "      <td>0.124623</td>\n",
              "    </tr>\n",
              "    <tr>\n",
              "      <th>1</th>\n",
              "      <td>1.527120</td>\n",
              "      <td>460.408991</td>\n",
              "      <td>0.128888</td>\n",
              "    </tr>\n",
              "    <tr>\n",
              "      <th>2</th>\n",
              "      <td>1.529029</td>\n",
              "      <td>459.709715</td>\n",
              "      <td>0.128890</td>\n",
              "    </tr>\n",
              "    <tr>\n",
              "      <th>3</th>\n",
              "      <td>1.529029</td>\n",
              "      <td>459.709710</td>\n",
              "      <td>0.128890</td>\n",
              "    </tr>\n",
              "    <tr>\n",
              "      <th>4</th>\n",
              "      <td>1.529029</td>\n",
              "      <td>459.709710</td>\n",
              "      <td>0.128890</td>\n",
              "    </tr>\n",
              "    <tr>\n",
              "      <th>5</th>\n",
              "      <td>1.529029</td>\n",
              "      <td>459.709710</td>\n",
              "      <td>0.128890</td>\n",
              "    </tr>\n",
              "    <tr>\n",
              "      <th>6</th>\n",
              "      <td>1.529029</td>\n",
              "      <td>459.709710</td>\n",
              "      <td>0.128890</td>\n",
              "    </tr>\n",
              "    <tr>\n",
              "      <th>7</th>\n",
              "      <td>1.529029</td>\n",
              "      <td>459.709710</td>\n",
              "      <td>0.128890</td>\n",
              "    </tr>\n",
              "    <tr>\n",
              "      <th>8</th>\n",
              "      <td>1.529029</td>\n",
              "      <td>459.709710</td>\n",
              "      <td>0.128890</td>\n",
              "    </tr>\n",
              "    <tr>\n",
              "      <th>9</th>\n",
              "      <td>1.529029</td>\n",
              "      <td>459.709710</td>\n",
              "      <td>0.128890</td>\n",
              "    </tr>\n",
              "    <tr>\n",
              "      <th>10</th>\n",
              "      <td>1.529029</td>\n",
              "      <td>459.709710</td>\n",
              "      <td>0.128890</td>\n",
              "    </tr>\n",
              "  </tbody>\n",
              "</table>\n",
              "</div>"
            ],
            "text/plain": [
              "           a           p   f(a, p)\n",
              "0   1.429695  496.096404  0.124623\n",
              "1   1.527120  460.408991  0.128888\n",
              "2   1.529029  459.709715  0.128890\n",
              "3   1.529029  459.709710  0.128890\n",
              "4   1.529029  459.709710  0.128890\n",
              "5   1.529029  459.709710  0.128890\n",
              "6   1.529029  459.709710  0.128890\n",
              "7   1.529029  459.709710  0.128890\n",
              "8   1.529029  459.709710  0.128890\n",
              "9   1.529029  459.709710  0.128890\n",
              "10  1.529029  459.709710  0.128890"
            ]
          },
          "metadata": {
            "tags": []
          },
          "execution_count": 14
        }
      ]
    },
    {
      "cell_type": "markdown",
      "metadata": {
        "id": "tJayMPi4LjoG"
      },
      "source": [
        "Respondendo novamente a pergunta, agora com os novos valores calculados, temos que, considerando que qualquer mudança na quantidade de unidades impressas ou na quantidade de propaganda não impacta o custo de produção, o cenário de maior lucro, encontrado pelo método de Newton, se dará com"
      ]
    },
    {
      "cell_type": "code",
      "metadata": {
        "id": "LXq0RAtNLtlg",
        "colab": {
          "base_uri": "https://localhost:8080/",
          "height": 169
        },
        "outputId": "92e961e1-d46e-475a-fa5f-6f4295298dab"
      },
      "source": [
        "s_c = {\n",
        "    a: resultado_newton_a.iloc[-1]['a'],\n",
        "    p: resultado_newton_a.iloc[-1]['p']\n",
        "}\n",
        "s_c \n",
        "\n",
        "a_aumentou = s_c[a] - a_original > 0\n",
        "p_aumentou = s_c[p] - p_original > 0\n",
        "\n",
        "Math(f\"\"\"\n",
        "\\\\begin{{aligned}}\n",
        "a &= \\\\text{{USD }}{s_c[a]}, \\\\\\\\\n",
        "  & \\\\text{{ {\"um aumento de\" if a_aumentou else \"uma redução de\"} }} \\\\text{{USD }} {abs(s_c[a] - a_original)}  \\\\text{{ comparado com o valor original}} \\\\\\\\\n",
        "  & ({(s_c[a]/a_original - 1) * 100}\\%) \\\\\\\\\n",
        "p &= \\\\text{{USD }}{s_c[p]}, \\\\\\\\\n",
        "  & \\\\text{{ {\"um aumento de\" if p_aumentou else \"uma redução de\"} }} \\\\text{{USD }} {abs(s_c[p] - p_original)}  \\\\text{{ comparado com o valor original}} \\\\\\\\\n",
        "  & ({(s_c[p]/p_original - 1) * 100}\\%).\n",
        "\\\\end{{aligned}}\n",
        "\"\"\")"
      ],
      "execution_count": null,
      "outputs": [
        {
          "output_type": "execute_result",
          "data": {
            "text/latex": "$$\n\\begin{aligned}\na &= \\text{USD }1.529029029029029, \\\\\n  & \\text{ um aumento de } \\text{USD } 0.02902902902902893  \\text{ comparado com o valor original} \\\\\n  & (1.9352686019352694\\%) \\\\\np &= \\text{USD }459.7097097097097, \\\\\n  & \\text{ um aumento de } \\text{USD } 209.70970970970973  \\text{ comparado com o valor original} \\\\\n  & (83.88388388388388\\%).\n\\end{aligned}\n$$",
            "text/plain": [
              "<IPython.core.display.Math object>"
            ]
          },
          "metadata": {
            "tags": []
          },
          "execution_count": 15
        }
      ]
    },
    {
      "cell_type": "code",
      "metadata": {
        "id": "AfAl1---L_wo",
        "colab": {
          "base_uri": "https://localhost:8080/",
          "height": 58
        },
        "outputId": "b4efab01-92c0-4a15-8b97-fb68f343ac18"
      },
      "source": [
        "Math(f\"\"\"\n",
        "\\\\text{{O número de assinantes passará de }} {n_a.subs({a: a_original, p: p_original})} \\\\text{{ para }} {n_a.subs(s_c)}. \\\\\\\\\n",
        "\\\\text{{O número de páginas de publicidade passará de }} {n_p.subs({a: a_original, p: p_original})} \\\\text{{ para }} {n_p.subs(s_c)}.\n",
        "\"\"\")"
      ],
      "execution_count": null,
      "outputs": [
        {
          "output_type": "execute_result",
          "data": {
            "text/latex": "$$\n\\text{O número de assinantes passará de } 80000.0000000000 \\text{ para } 76451.4514514515. \\\\\n\\text{O número de páginas de publicidade passará de } 350 \\text{ para } 245.145145145145.\n$$",
            "text/plain": [
              "<IPython.core.display.Math object>"
            ]
          },
          "metadata": {
            "tags": []
          },
          "execution_count": 16
        }
      ]
    },
    {
      "cell_type": "code",
      "metadata": {
        "id": "blX8Tt3hMfl-",
        "colab": {
          "base_uri": "https://localhost:8080/",
          "height": 58
        },
        "outputId": "577e5102-c92b-4f7d-da76-7b720ffb45b3"
      },
      "source": [
        "Math(f\"\"\"\n",
        "\\\\text{{Estas mudanças resultariam em um lucro semanal de USD }} {L.subs({a: a_original, p: p_original})} \\\\text{{ para USD }} {L.subs(s_c)}. \\\\\\\\\n",
        "\\\\text{{E a margem de lucro passa de }} {margem_lucro.subs({a: a_original, p: p_original}) * 100} \\% \\\\text{{ para }} {margem_lucro.subs(s_c) * 100} \\%.\n",
        "\"\"\")"
      ],
      "execution_count": null,
      "outputs": [
        {
          "output_type": "execute_result",
          "data": {
            "text/latex": "$$\n\\text{Estas mudanças resultariam em um lucro semanal de USD } 7500.00000000000 \\text{ para USD } 29592.0920920921. \\\\\n\\text{E a margem de lucro passa de } 3.61445783132529 \\% \\text{ para } 12.8889857757916 \\%.\n$$",
            "text/plain": [
              "<IPython.core.display.Math object>"
            ]
          },
          "metadata": {
            "tags": []
          },
          "execution_count": 17
        }
      ]
    },
    {
      "cell_type": "markdown",
      "metadata": {
        "id": "3QJcFjicAQxY"
      },
      "source": [
        "### d) If you have not previously solved part (a) of Exercise 7 in Chapter 2, then do so now. Use any method. Compare to the results of part (c). Does it matter whether we choose to maximize profit or profit margin? Explain.\n",
        "\n",
        "Não, pois os valores de $a$, $p$ e lucro encontrados no item a) da questão 7 do capítulo 2 na resolução da lista 1 do Samuel foram $a=1.53$,  $p = 459.71$ e lucro $= 29{,}592.05$ (com custo fixo da produção dos jornais) se comparados com os valores de $a = 1.529029$, $p = 459.709710$ e lucro $= 29{,}592.09$ (com custo fixo da produção dos jornais) encontrados no item c) desta questão, podemos observar que o erro relativo para cada variável é muito próximo de zero. \n",
        " \n",
        "* $r_a = \\frac{459.71 - 459.709710}{459.71} = 6.31\\cdot10^{-7}$\n",
        "* $r_p = \\frac{1.53 - 1.529029}{1.53} = 6.35\\cdot10^{-4}$\n",
        " \n",
        "Já os lucros são quase iguais. Logo, tanto faz maximizar o lucro como a margem do lucro."
      ]
    }
  ]
}