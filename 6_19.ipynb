{
  "nbformat": 4,
  "nbformat_minor": 0,
  "metadata": {
    "colab": {
      "name": "6.19.ipynb",
      "provenance": [],
      "collapsed_sections": [
        "KCQ3cw4HCtjw",
        "tZNOE2d6EF8h",
        "VkDUkFZxEN-u"
      ],
      "toc_visible": true,
      "include_colab_link": true
    },
    "kernelspec": {
      "name": "python3",
      "display_name": "Python 3"
    }
  },
  "cells": [
    {
      "cell_type": "markdown",
      "metadata": {
        "id": "view-in-github",
        "colab_type": "text"
      },
      "source": [
        "<a href=\"https://colab.research.google.com/github/SrMouraSilva/Modelagem-matematica-trabalho-final/blob/main/6_19.ipynb\" target=\"_parent\"><img src=\"https://colab.research.google.com/assets/colab-badge.svg\" alt=\"Open In Colab\"/></a>"
      ]
    },
    {
      "cell_type": "code",
      "metadata": {
        "id": "r7FFD4Sr-IFq",
        "colab": {
          "base_uri": "https://localhost:8080/",
          "height": 17
        },
        "outputId": "546517d1-6119-4924-c420-913f49e2a339"
      },
      "source": [
        "# Programação simbólica\n",
        "from sympy import *\n",
        "from sympy.plotting import plot, plot3d\n",
        " \n",
        "# Exibir símbolos nos plots\n",
        "from google.colab.output._publish import javascript\n",
        "url = \"https://cdnjs.cloudflare.com/ajax/libs/mathjax/3.1.2/latest.js?config=default\"\n",
        "\n",
        "javascript(url=url)\n",
        "from IPython.display import Math\n",
        " \n",
        "# Manipulação dos dados\n",
        "import numpy as np\n",
        "import pandas as pd\n",
        " \n",
        "# Gráficos\n",
        "import matplotlib as mpl\n",
        "import matplotlib.pyplot as plt\n",
        " \n",
        "import seaborn as sns\n",
        "sns.set_theme()\n",
        " \n",
        "mpl.rcParams['figure.figsize'] = (12,8)\n",
        "mpl.rcParams['font.size'] = 14\n",
        "mpl.rcParams['legend.fontsize'] = 14"
      ],
      "execution_count": null,
      "outputs": [
        {
          "output_type": "display_data",
          "data": {
            "text/html": [
              "<script src='https://cdnjs.cloudflare.com/ajax/libs/mathjax/3.1.2/latest.js?config=default'></script>"
            ],
            "text/plain": [
              "<IPython.core.display.HTML object>"
            ]
          },
          "metadata": {
            "tags": []
          }
        }
      ]
    },
    {
      "cell_type": "markdown",
      "metadata": {
        "id": "mnTEZuBg6OHQ"
      },
      "source": [
        "## Questão 6.19\n",
        "\n",
        "A pendulum consists of a 100 g weight at the end of a lightweight rod 120cm in length. The other end of the rod is fixed, but can rotate freely. The frictional forces acting on the moving pendulum are thought to be roughly proportional to its angular velocity."
      ]
    },
    {
      "cell_type": "markdown",
      "metadata": {
        "id": "Bd3ZKb4mJS25"
      },
      "source": [
        "### a) The pendulum is lifted manually until the rod makes a 45º angle with the vertical. Then the pendulum is released.  Determine the subsequent motion of the pendulum. Use the five-step method, and model as a continuous–time dynamical system. Simulate using the Euler method. Assume that the force due to friction is of magnitude $k\\theta'$, where\u0012 $\\theta'$ is the angular velocity in radians per second and the coefficient of friction is $k=0.05$ g/sec."
      ]
    },
    {
      "cell_type": "markdown",
      "metadata": {
        "id": "KCQ3cw4HCtjw"
      },
      "source": [
        "#### Passo 1 - Variáveis\n",
        "\n",
        "* $\\theta$ = ângulo do pêndulo (radianos)\n",
        "* $\\omega$ = velocidade angular (radianos/segundo)\n",
        "* $l$ = tamanho da haste (metro)\n",
        "* $g$ = força da gravidade (metros/segundo^2)\n",
        "* $k$ = coeficiente de fricção (metro/segundo)\n",
        "* $m$ = massa do objeto (quilograma)\n",
        "* $t$ = tempo (segundos)"
      ]
    },
    {
      "cell_type": "markdown",
      "metadata": {
        "id": "4IvCzbiODh71"
      },
      "source": [
        "#### Passo 1 - Suposições do problema"
      ]
    },
    {
      "cell_type": "code",
      "metadata": {
        "id": "iiSAMNZFDyYG"
      },
      "source": [
        "angulo_inicial = 45\n",
        "angulo_inicial_radiano = float(N(angulo_inicial*pi/180))\n",
        "\n",
        "# Coeficiente de fricção\n",
        "k = 5e-5 # kg/seg\n",
        "# Tamanho da corda\n",
        "l = 1.20 # metros\n",
        "# Massa\n",
        "m = 0.100 # kg"
      ],
      "execution_count": null,
      "outputs": []
    },
    {
      "cell_type": "markdown",
      "metadata": {
        "id": "tZNOE2d6EF8h"
      },
      "source": [
        "#### Passo 2 - Abordagem de modelagem\n",
        "\n",
        "A abordagem selecionada para a resolução do problema é a modelagem por sistema dinâmico."
      ]
    },
    {
      "cell_type": "markdown",
      "metadata": {
        "id": "VkDUkFZxEN-u"
      },
      "source": [
        "#### Passo 3 - Formulação do modelo\n",
        "\n",
        "As equações foram obtidas a partir do seguinte vídeo: https://youtu.be/5Bipvm6xNRQ\n",
        "\n",
        "Façamos\n",
        "\\begin{align*}\n",
        "\\theta' = f_1(\\theta, \\omega) \\\\\n",
        "w' = f_2(\\theta, \\omega),\n",
        "\\end{align*}\n",
        "sendo\n",
        "\\begin{align*}\n",
        "f_1(\\theta, \\omega) &= \\omega \\\\\n",
        "f_2(\\theta, \\omega) &= \n",
        "-\\frac{g}{l} \\cdot \\text{sin}(\\theta) - \\frac{k}{ml} \\cdot \\theta' \\\\\n",
        "&= -\\frac{g}{l} \\cdot \\text{sin}(\\theta) - \\frac{k}{ml} \\cdot \\omega,\n",
        "\\end{align*}\n",
        "O estado de espaço é\n",
        "$$S = \\{(\\theta, \\omega): -1 \\leq \\theta \\leq 1, \\omega \\in \\mathcal{R}\\}.$$"
      ]
    },
    {
      "cell_type": "markdown",
      "metadata": {
        "id": "bx9NdbMPERt9"
      },
      "source": [
        "#### Passo 4 - Resolução do modelo"
      ]
    },
    {
      "cell_type": "markdown",
      "metadata": {
        "id": "VVgn-SUV3wag"
      },
      "source": [
        "Temos as seguintes equações diferenciais:"
      ]
    },
    {
      "cell_type": "code",
      "metadata": {
        "id": "slzjao-P3w3-",
        "colab": {
          "base_uri": "https://localhost:8080/",
          "height": 68
        },
        "outputId": "ffdfd0ce-447d-4e41-c252-927859266932"
      },
      "source": [
        "def equacoes(theta, omega, k, l, m):\n",
        "    \"\"\"\n",
        "    @param theta: Ângulo\n",
        "    @param omega: Velocidade angular\n",
        "    @param k: Coeficiente de fricção\n",
        "    \"\"\"\n",
        "    # Velocidade da gravidade\n",
        "    g = 9.8 #m/s²\n",
        "\n",
        "    # Derivada de theta\n",
        "    dtheta = omega\n",
        "\n",
        "    return (\n",
        "        dtheta,\n",
        "        #-m*g/l * sin(theta) - k/(m*l) * dtheta\n",
        "        -g*sin(theta)/l - k*dtheta/(m*l)\n",
        "    )\n",
        " \n",
        "theta, omega = var('\\\\theta \\\\omega', real=True)\n",
        "\n",
        "dFdtheta, dFdomega = equacoes(theta, omega, k=k, l=l, m=m)\n",
        " \n",
        "Math(f\"\"\"\n",
        "\\\\begin{{aligned}}\n",
        "\\\\theta' &= {latex(dFdtheta)} \\\\\\\\\n",
        "\\\\omega' &= {latex(dFdomega)}\n",
        "\\\\end{{aligned}}\n",
        "\"\"\")"
      ],
      "execution_count": null,
      "outputs": [
        {
          "output_type": "execute_result",
          "data": {
            "text/latex": "$$\n\\begin{aligned}\n\\theta' &= \\omega \\\\\n\\omega' &= - 0.000416666666666667 \\omega - 8.16666666666667 \\sin{\\left (\\theta \\right )}\n\\end{aligned}\n$$",
            "text/plain": [
              "<IPython.core.display.Math object>"
            ]
          },
          "metadata": {
            "tags": []
          },
          "execution_count": 3
        }
      ]
    },
    {
      "cell_type": "markdown",
      "metadata": {
        "id": "BQacCZVPn1IA"
      },
      "source": [
        "O método de Euler implementado:"
      ]
    },
    {
      "cell_type": "code",
      "metadata": {
        "id": "v1-bfw2V8Flu"
      },
      "source": [
        "def MetodoEuler(funcoes, variaveis, valores_iniciais, N=100, t_0=0, T=400):\n",
        "    retorno = np.zeros((3, N))\n",
        "    f1 = lambdify(variaveis, funcoes[0], 'numpy')\n",
        "    f2 = lambdify(variaveis, funcoes[1], 'numpy')\n",
        "    \n",
        "    x1_0, x2_0 = valores_iniciais\n",
        " \n",
        "    x1_n = x1_0\n",
        "    x2_n = x2_0\n",
        "    t_n = t_0\n",
        " \n",
        "    retorno[:, 0] = [t_n, x1_n, x2_n]\n",
        " \n",
        "    h = (T-t_0)/N\n",
        "    for n in range(N-1):\n",
        "        x1_n = x1_n + h*f1(x1_n, x2_n)\n",
        "        x2_n = x2_n + h*f2(x1_n, x2_n)\n",
        "        t_n = t_n+h\n",
        " \n",
        "        retorno[:, n+1] = [t_n, x1_n, x2_n]\n",
        "    \n",
        "    resultado = pd.DataFrame(retorno.T, columns=['t', '$\\\\theta$', '$\\omega$'])\n",
        "    resultado.index = resultado.t\n",
        "    del resultado['t']\n",
        "    return resultado"
      ],
      "execution_count": null,
      "outputs": []
    },
    {
      "cell_type": "markdown",
      "metadata": {
        "id": "FpDP3kfxn35G"
      },
      "source": [
        "E a simulação do modelo:"
      ]
    },
    {
      "cell_type": "code",
      "metadata": {
        "id": "LKq1IVL-ENJe",
        "colab": {
          "base_uri": "https://localhost:8080/",
          "height": 398
        },
        "outputId": "39e0e9e7-c052-4398-9bc0-7a14e6e1f6ad"
      },
      "source": [
        "simulacao_a = MetodoEuler(\n",
        "    funcoes=(dFdtheta, dFdomega),\n",
        "    variaveis=(theta, omega),\n",
        "    valores_iniciais=(angulo_inicial_radiano, 0),\n",
        "    N=100_000500,\n",
        "    T=30\n",
        ")\n",
        "\n",
        "simulacao_a.plot(figsize=(16, 6), title=\"Simulação do modelo para $\\\\theta_0=\\\\frac{\\\\pi}{4}, \\omega_0=0$\", ylabel='Ângulo (radianos)')"
      ],
      "execution_count": null,
      "outputs": [
        {
          "output_type": "execute_result",
          "data": {
            "text/plain": [
              "<matplotlib.axes._subplots.AxesSubplot at 0x7ff6a8bf42b0>"
            ]
          },
          "metadata": {
            "tags": []
          },
          "execution_count": 5
        },
        {
          "output_type": "display_data",
          "data": {
            "image/png": "[encoded data removed]",
            "text/plain": [
              "<Figure size 1152x432 with 1 Axes>"
            ]
          },
          "metadata": {
            "tags": [],
            "needs_background": "light"
          }
        }
      ]
    },
    {
      "cell_type": "markdown",
      "metadata": {
        "id": "xNNSllFfAHMZ"
      },
      "source": [
        "Pelo gráfico acima, podemos observar que a solução encontrada pelo método de Euler ainda não converge para o ponto de equilíbrio $(0,0)$. Agora, vejamos um outro gráfico com $T = 30{,}000$ segundos e $N = 500{,}000$ a seguir."
      ]
    },
    {
      "cell_type": "code",
      "metadata": {
        "id": "tfvJWbx4aqGG",
        "colab": {
          "base_uri": "https://localhost:8080/",
          "height": 398
        },
        "outputId": "7e1cc2ff-d357-4862-d84a-eaaec4845a27"
      },
      "source": [
        "simulacao_a = MetodoEuler(\n",
        "    funcoes=(dFdtheta, dFdomega),\n",
        "    variaveis=(theta, omega),\n",
        "    valores_iniciais=(angulo_inicial_radiano, 0),\n",
        "    N=500_000,\n",
        "    T=30_000\n",
        ")\n",
        "\n",
        "simulacao_a.plot(figsize=(16, 6), title=\"Simulação do modelo para $\\\\theta_0=\\\\frac{\\\\pi}{4}, \\omega_0=0$\", ylabel='Ângulo (radianos)')"
      ],
      "execution_count": null,
      "outputs": [
        {
          "output_type": "execute_result",
          "data": {
            "text/plain": [
              "<matplotlib.axes._subplots.AxesSubplot at 0x7ff6a8b11ba8>"
            ]
          },
          "metadata": {
            "tags": []
          },
          "execution_count": 6
        },
        {
          "output_type": "display_data",
          "data": {
            "image/png": "[encoded data removed]",
            "text/plain": [
              "<Figure size 1152x432 with 1 Axes>"
            ]
          },
          "metadata": {
            "tags": [],
            "needs_background": "light"
          }
        }
      ]
    },
    {
      "cell_type": "markdown",
      "metadata": {
        "id": "J6C303C8Ba-5"
      },
      "source": [
        "Pelo gráfico acima, a solução encontrada pelo método de Euler tenderá para o ponto de equilíbrio $(0,0)$."
      ]
    },
    {
      "cell_type": "markdown",
      "metadata": {
        "id": "d8SnBuSuEXku"
      },
      "source": [
        "#### Passo 5 - Resposta da pergunta\n"
      ]
    },
    {
      "cell_type": "markdown",
      "metadata": {
        "id": "SUmhqFYewl_4"
      },
      "source": [
        "A medida que o tempo passa, o a fricção diminuirá a velocidade do pêndulo de modo que em um tempo T grande o suficiente, ele irá parar de balançar."
      ]
    },
    {
      "cell_type": "markdown",
      "metadata": {
        "id": "dKNdH79REYJ5"
      },
      "source": [
        "### b) Use a linear approximation to determine the approximate behavior of the system near equilibrium. Assume that the magnitude of the frictional force is $k\\theta'$′. How does the local behavior depend on $k$?"
      ]
    },
    {
      "cell_type": "markdown",
      "metadata": {
        "id": "GBSzCttbqrBm"
      },
      "source": [
        "Considerando $k$ uma variável, temos a seguinte função Hessiana:"
      ]
    },
    {
      "cell_type": "code",
      "metadata": {
        "id": "i-lcrKyWyl97",
        "colab": {
          "base_uri": "https://localhost:8080/",
          "height": 58
        },
        "outputId": "72e14aee-a049-4bc8-dda0-6977f5b382c0"
      },
      "source": [
        "k_b = var('k', real=True)\n",
        "dFdtheta_b, dFdomega_b = equacoes(theta, omega, k=k_b, l=l, m=m)\n",
        "\n",
        "dFdthetatheta = diff(dFdtheta_b, theta)\n",
        "dFdomegaomega = diff(dFdomega_b, omega)\n",
        "dFdthetaomega = diff(dFdtheta_b, omega)\n",
        "dFdomegatheta = diff(dFdomega_b, theta)\n",
        "\n",
        "H = Matrix([\n",
        "    [dFdthetatheta, dFdthetaomega],\n",
        "    [dFdomegatheta, dFdomegaomega]\n",
        "])\n",
        "\n",
        "Math(f\"H={latex(simplify(H))}\")"
      ],
      "execution_count": null,
      "outputs": [
        {
          "output_type": "execute_result",
          "data": {
            "text/latex": "$$H=\\left[\\begin{matrix}0 & 1\\\\- 8.16666666666667 \\cos{\\left (\\theta \\right )} & - 8.33333333333333 k\\end{matrix}\\right]$$",
            "text/plain": [
              "<IPython.core.display.Math object>"
            ]
          },
          "metadata": {
            "tags": []
          },
          "execution_count": 36
        }
      ]
    },
    {
      "cell_type": "markdown",
      "metadata": {
        "id": "-AntAmprAW0W"
      },
      "source": [
        "E as seguintes informações para a solução $(0, 0)$:"
      ]
    },
    {
      "cell_type": "code",
      "metadata": {
        "id": "jqNMgNcbyQUO",
        "cellView": "form",
        "colab": {
          "base_uri": "https://localhost:8080/",
          "height": 845
        },
        "outputId": "2b673b2b-089f-479d-b90f-b287ad7f53a5"
      },
      "source": [
        "#@title \n",
        "from IPython.display import Markdown\n",
        "\n",
        "markdown = lambda string: display(Markdown(string))\n",
        "math = lambda string: display(Math(string))\n",
        "\n",
        "def forma_geral(hessiana, solucoes, variaveis):\n",
        "    for solucao in solucoes:\n",
        "        forma_geral_solucao(hessiana, solucao, variaveis)\n",
        "        \n",
        "def forma_geral_solucao(hessiana, solucao, variaveis):\n",
        "    markdown(f'## Solução: ${latex(solucao)}$')\n",
        "    markdown('### Hessiana')\n",
        "    hessiana = simplify(hessiana.subs(solucao))\n",
        "    display(Math(f\"H={latex(hessiana)}\"))\n",
        "\n",
        "    markdown('### Sistema Linear ')\n",
        "    x1, x2 = variaveis\n",
        "    x1l, x2l = var(\"\\\\theta' \\\\omega'\", real=True)\n",
        "    matrizx1lx2l = Matrix([[x1l], [x2l]])\n",
        "    matrizx1x2 = Matrix([[x1], [x2]])\n",
        "    math(f'''\n",
        "\\\\begin{{aligned}}\n",
        "{latex(matrizx1lx2l)} &= {latex(hessiana)}{latex(matrizx1x2)} \\\\\\\\\n",
        "{latex(matrizx1lx2l)} &= {latex(hessiana*matrizx1x2)}\n",
        "\\\\end{{aligned}}\n",
        "''')\n",
        "\n",
        "    markdown('### Solução geral: ')\n",
        "    t = var(f't', real=True)\n",
        "    e = var(f'e', real=True)\n",
        "    l = var(f'\\lambda', real=True)\n",
        "\n",
        "    matriz00 = Matrix([[0], [0]])\n",
        "    matrizLambda = Matrix([[l, 0], [0, l]])\n",
        "\n",
        "    partes = []\n",
        "    for i, (autovalor, multiplicity, matriz) in enumerate(simplify(hessiana).eigenvects()):\n",
        "        ci = var(f'c{i+1}', real=True)\n",
        "        partes.append([ci, matriz[0], e**(autovalor*t)])\n",
        "\n",
        "        markdown(f\"\"\"\n",
        "* **Multiplicidade**: ${latex(multiplicity)}$\n",
        "* **Autovalor:** ${latex(autovalor)}$\n",
        "* **Autovetor**\n",
        "        \"\"\")\n",
        "        display(Math(f'''\n",
        "\\\\begin{{aligned}}\n",
        "&{latex(matrizLambda-hessiana)}{latex(matrizx1x2)}={latex(matriz00)} \\\\\\\\\n",
        "&{latex((matrizLambda-hessiana).subs({l: autovalor}))}{latex(matrizx1x2)}={latex(matriz00)} \\\\\\\\\n",
        "&{latex(matrizx1x2)}={latex(matriz[0])}\n",
        "\\\\end{{aligned}}\n",
        "'''))\n",
        "\n",
        "    markdown('**Solução geral para o sistema linear**')\n",
        "    parte1 = ''.join([latex(it) for it in partes[0]])\n",
        "    parte2 = ''.join([latex(it) for it in partes[1]])\n",
        "    math(f'{latex(matrizx1x2)}={parte1}+{parte2}')\n",
        "\n",
        "\n",
        "forma_geral(H, [{omega: 0, theta: 0}], (theta, omega))"
      ],
      "execution_count": null,
      "outputs": [
        {
          "output_type": "display_data",
          "data": {
            "text/markdown": "## Solução: $\\left \\{ \\omega : 0, \\quad \\theta : 0\\right \\}$",
            "text/plain": [
              "<IPython.core.display.Markdown object>"
            ]
          },
          "metadata": {
            "tags": []
          }
        },
        {
          "output_type": "display_data",
          "data": {
            "text/markdown": "### Hessiana",
            "text/plain": [
              "<IPython.core.display.Markdown object>"
            ]
          },
          "metadata": {
            "tags": []
          }
        },
        {
          "output_type": "display_data",
          "data": {
            "text/latex": "$$H=\\left[\\begin{matrix}0 & 1\\\\-8.16666666666667 & -8.33333333333333 \\cdot 10^{-5}\\end{matrix}\\right]$$",
            "text/plain": [
              "<IPython.core.display.Math object>"
            ]
          },
          "metadata": {
            "tags": []
          }
        },
        {
          "output_type": "display_data",
          "data": {
            "text/markdown": "### Sistema Linear ",
            "text/plain": [
              "<IPython.core.display.Markdown object>"
            ]
          },
          "metadata": {
            "tags": []
          }
        },
        {
          "output_type": "display_data",
          "data": {
            "text/latex": "$$\n\\begin{aligned}\n\\left[\\begin{matrix}\\theta'\\\\\\omega'\\end{matrix}\\right] &= \\left[\\begin{matrix}0 & 1\\\\-8.16666666666667 & -8.33333333333333 \\cdot 10^{-5}\\end{matrix}\\right]\\left[\\begin{matrix}\\theta\\\\\\omega\\end{matrix}\\right] \\\\\n\\left[\\begin{matrix}\\theta'\\\\\\omega'\\end{matrix}\\right] &= \\left[\\begin{matrix}\\omega\\\\- 8.33333333333333 \\cdot 10^{-5} \\omega - 8.16666666666667 \\theta\\end{matrix}\\right]\n\\end{aligned}\n$$",
            "text/plain": [
              "<IPython.core.display.Math object>"
            ]
          },
          "metadata": {
            "tags": []
          }
        },
        {
          "output_type": "display_data",
          "data": {
            "text/markdown": "### Solução geral: ",
            "text/plain": [
              "<IPython.core.display.Markdown object>"
            ]
          },
          "metadata": {
            "tags": []
          }
        },
        {
          "output_type": "display_data",
          "data": {
            "text/markdown": "\n* **Multiplicidade**: $1$\n* **Autovalor:** $-4.16666666666667 \\cdot 10^{-5} - 2.85773803294328 i$\n* **Autovetor**\n        ",
            "text/plain": [
              "<IPython.core.display.Markdown object>"
            ]
          },
          "metadata": {
            "tags": []
          }
        },
        {
          "output_type": "display_data",
          "data": {
            "text/latex": "$$\n\\begin{aligned}\n&\\left[\\begin{matrix}\\lambda & -1\\\\8.16666666666667 & \\lambda + 8.33333333333333 \\cdot 10^{-5}\\end{matrix}\\right]\\left[\\begin{matrix}\\theta\\\\\\omega\\end{matrix}\\right]=\\left[\\begin{matrix}0\\\\0\\end{matrix}\\right] \\\\\n&\\left[\\begin{matrix}-4.16666666666667 \\cdot 10^{-5} - 2.85773803294328 i & -1\\\\8.16666666666667 & 4.16666666666667 \\cdot 10^{-5} - 2.85773803294328 i\\end{matrix}\\right]\\left[\\begin{matrix}\\theta\\\\\\omega\\end{matrix}\\right]=\\left[\\begin{matrix}0\\\\0\\end{matrix}\\right] \\\\\n&\\left[\\begin{matrix}\\theta\\\\\\omega\\end{matrix}\\right]=\\left[\\begin{matrix}-5.10204081632653 \\cdot 10^{-6} + 0.349927106074688 i\\\\1.0\\end{matrix}\\right]\n\\end{aligned}\n$$",
            "text/plain": [
              "<IPython.core.display.Math object>"
            ]
          },
          "metadata": {
            "tags": []
          }
        },
        {
          "output_type": "display_data",
          "data": {
            "text/markdown": "\n* **Multiplicidade**: $1$\n* **Autovalor:** $-4.16666666666667 \\cdot 10^{-5} + 2.85773803294328 i$\n* **Autovetor**\n        ",
            "text/plain": [
              "<IPython.core.display.Markdown object>"
            ]
          },
          "metadata": {
            "tags": []
          }
        },
        {
          "output_type": "display_data",
          "data": {
            "text/latex": "$$\n\\begin{aligned}\n&\\left[\\begin{matrix}\\lambda & -1\\\\8.16666666666667 & \\lambda + 8.33333333333333 \\cdot 10^{-5}\\end{matrix}\\right]\\left[\\begin{matrix}\\theta\\\\\\omega\\end{matrix}\\right]=\\left[\\begin{matrix}0\\\\0\\end{matrix}\\right] \\\\\n&\\left[\\begin{matrix}-4.16666666666667 \\cdot 10^{-5} + 2.85773803294328 i & -1\\\\8.16666666666667 & 4.16666666666667 \\cdot 10^{-5} + 2.85773803294328 i\\end{matrix}\\right]\\left[\\begin{matrix}\\theta\\\\\\omega\\end{matrix}\\right]=\\left[\\begin{matrix}0\\\\0\\end{matrix}\\right] \\\\\n&\\left[\\begin{matrix}\\theta\\\\\\omega\\end{matrix}\\right]=\\left[\\begin{matrix}-5.10204081632653 \\cdot 10^{-6} - 0.349927106074688 i\\\\1.0\\end{matrix}\\right]\n\\end{aligned}\n$$",
            "text/plain": [
              "<IPython.core.display.Math object>"
            ]
          },
          "metadata": {
            "tags": []
          }
        },
        {
          "output_type": "display_data",
          "data": {
            "text/markdown": "**Solução geral para o sistema linear**",
            "text/plain": [
              "<IPython.core.display.Markdown object>"
            ]
          },
          "metadata": {
            "tags": []
          }
        },
        {
          "output_type": "display_data",
          "data": {
            "text/latex": "$$\\left[\\begin{matrix}\\theta\\\\\\omega\\end{matrix}\\right]=c_{1}\\left[\\begin{matrix}-5.10204081632653 \\cdot 10^{-6} + 0.349927106074688 i\\\\1.0\\end{matrix}\\right]e^{t \\left(-4.16666666666667 \\cdot 10^{-5} - 2.85773803294328 i\\right)}+c_{2}\\left[\\begin{matrix}-5.10204081632653 \\cdot 10^{-6} - 0.349927106074688 i\\\\1.0\\end{matrix}\\right]e^{t \\left(-4.16666666666667 \\cdot 10^{-5} + 2.85773803294328 i\\right)}$$",
            "text/plain": [
              "<IPython.core.display.Math object>"
            ]
          },
          "metadata": {
            "tags": []
          }
        }
      ]
    },
    {
      "cell_type": "markdown",
      "metadata": {
        "id": "EaslUGFJErCc"
      },
      "source": [
        "Os dois autovalores deram:\n",
        "$$- 4.16666666666667 k - 0.166666666666667 \\left(625.0 k^{2} - 294.0\\right)^{0.5}$$\n",
        "\n",
        "Dado que $k\\geq0$, para as soluções reais, o ponto de equilíbrio é um nó estável e nesse caso as exponenciais $e^{−λ_{i}t}$ forçará as demais soluções do sistema decaírem a zero, quando $$(625.0 k^{2} - 294.0)$$ é positivo, sendo que isto ocorre quando $k\\geq \\frac{7\\sqrt{6}}{25}\\approx0.685857$.\n",
        "\n",
        "Para $0 < k < \\frac{7\\sqrt{6}}{25}$, a parte $$- 0.166666666666667 \\left(625.0 k^{2} - 294.0\\right)^{0.5}$$ corresponderá a parte imaginária, de modo que a parte real continuará sendo negativa e o ponto de equilíbrio continuará sendo uma espiral estável com soluções decaindo na direção da origem.\n",
        "\n",
        "Por fim, para $k=0$, teremos os autovalores como \n",
        "$$ - 0.166666666666667 \\sqrt{- 294},$$ teremos a parte real zerada e a parte imaginária negativa, de modo que as soluções formarão elipses concêntricas, isto é, para $k=0$, o pêndulo continuará em movimento perpetuamente."
      ]
    },
    {
      "cell_type": "markdown",
      "metadata": {
        "id": "Wjfe3sByolyu"
      },
      "source": [
        "### c) Determine the period of the pendulum. How does period vary with $k$?\n",
        "\n",
        "O período $P$ para um pêndulo ideal é dado pela seguinte equação:\n",
        "\n",
        "Referência: https://www.math24.net/nonlinear-pendulum/"
      ]
    },
    {
      "cell_type": "code",
      "metadata": {
        "id": "6bKHjQaRollT",
        "colab": {
          "base_uri": "https://localhost:8080/",
          "height": 145
        },
        "outputId": "9488bb3b-f636-47f2-974e-c44d45be1344"
      },
      "source": [
        "g = 9.8 # m/s²\n",
        "solucao_b = 2*pi*sqrt(l/g)\n",
        "\n",
        "Math(f\"\"\"\n",
        "\\\\begin{{aligned}}\n",
        "\\\\text{{período}}\n",
        "    &= 2\\\\pi\\\\sqrt{{\\\\frac{{l}}{{g}}}} \\\\\\\\\n",
        "    &= 2\\\\pi\\\\sqrt{{\\\\frac{{{l}}}{{{g}}}}} \\\\\\\\\n",
        "    &= {N(solucao_b)} \\\\text{{ segundos}}\n",
        "\\\\end{{aligned}}\n",
        "\"\"\")"
      ],
      "execution_count": null,
      "outputs": [
        {
          "output_type": "execute_result",
          "data": {
            "text/latex": "$$\n\\begin{aligned}\n\\text{período}\n    &= 2\\pi\\sqrt{\\frac{l}{g}} \\\\\n    &= 2\\pi\\sqrt{\\frac{1.2}{9.8}} \\\\\n    &= 2.19865685170605 \\text{ segundos}\n\\end{aligned}\n$$",
            "text/plain": [
              "<IPython.core.display.Math object>"
            ]
          },
          "metadata": {
            "tags": []
          },
          "execution_count": 9
        }
      ]
    },
    {
      "cell_type": "markdown",
      "metadata": {
        "id": "wYyCuJ9-sYn8"
      },
      "source": [
        "Para o pêndulo não linear simulado na questão, esta equação serve como uma aproximação do período. Podemos calcular o período na simulação realizada:"
      ]
    },
    {
      "cell_type": "code",
      "metadata": {
        "id": "bWpNtbRV7phu",
        "colab": {
          "base_uri": "https://localhost:8080/",
          "height": 42
        },
        "outputId": "0a95039b-32e2-4672-9d3f-0cd80a371fea"
      },
      "source": [
        "periodo = simulacao_a['$\\\\theta$'][1:4].idxmax()\n",
        "\n",
        "Math(f\"\"\"\n",
        "\\\\begin{{aligned}}\n",
        "\\\\text{{período}}\n",
        "    &= {periodo} \\\\text{{ segundos}}\n",
        "\\\\end{{aligned}}\n",
        "\"\"\")"
      ],
      "execution_count": null,
      "outputs": [
        {
          "output_type": "execute_result",
          "data": {
            "text/latex": "$$\n\\begin{aligned}\n\\text{período}\n    &= 2.3400000000000016 \\text{ segundos}\n\\end{aligned}\n$$",
            "text/plain": [
              "<IPython.core.display.Math object>"
            ]
          },
          "metadata": {
            "tags": []
          },
          "execution_count": 10
        }
      ]
    },
    {
      "cell_type": "markdown",
      "metadata": {
        "id": "xRYN8aZCt001"
      },
      "source": [
        "Realizemos o experimento para outros valores de $k$. Nos experimentos abaixo, consideramos tamanho de passo $h=\\frac{T}{N}$ menor que nas simulações dos itens anteriores, para dar uma maior precisão. Nas simulações, $k$ variou de $5\\cdot10^{-6}$ kg/seg a $5\\cdot10^{-1}$ kg/seg."
      ]
    },
    {
      "cell_type": "code",
      "metadata": {
        "id": "eUjJd6Alt0pf",
        "colab": {
          "base_uri": "https://localhost:8080/",
          "height": 237
        },
        "outputId": "cbf930ae-6a6b-40e0-9008-94a102117bbc"
      },
      "source": [
        "ks = [5e-6, 5e-5, 5e-4, 5e-3, 5e-2, 5e-1]\n",
        "\n",
        "simulacoes_c = []\n",
        "for k_c in ks:\n",
        "    simulacoes_c.append(MetodoEuler(\n",
        "        funcoes=equacoes(theta, omega, k=k_c, l=l, m=m),\n",
        "        variaveis=(theta, omega),\n",
        "        valores_iniciais=(angulo_inicial_radiano, 0),\n",
        "        N=100_000,\n",
        "        T=2.5\n",
        "    ))\n",
        "\n",
        "pd.DataFrame({\n",
        "    'k (kg/seg)': ks,\n",
        "    'período (seg)': [\n",
        "        s['$\\\\theta$'][1:4].idxmax() for s in simulacoes_c\n",
        "    ]\n",
        "})"
      ],
      "execution_count": null,
      "outputs": [
        {
          "output_type": "execute_result",
          "data": {
            "text/html": [
              "<div>\n",
              "<style scoped>\n",
              "    .dataframe tbody tr th:only-of-type {\n",
              "        vertical-align: middle;\n",
              "    }\n",
              "\n",
              "    .dataframe tbody tr th {\n",
              "        vertical-align: top;\n",
              "    }\n",
              "\n",
              "    .dataframe thead th {\n",
              "        text-align: right;\n",
              "    }\n",
              "</style>\n",
              "<table border=\"1\" class=\"dataframe\">\n",
              "  <thead>\n",
              "    <tr style=\"text-align: right;\">\n",
              "      <th></th>\n",
              "      <th>k (kg/seg)</th>\n",
              "      <th>período (seg)</th>\n",
              "    </tr>\n",
              "  </thead>\n",
              "  <tbody>\n",
              "    <tr>\n",
              "      <th>0</th>\n",
              "      <td>0.000005</td>\n",
              "      <td>2.286550</td>\n",
              "    </tr>\n",
              "    <tr>\n",
              "      <th>1</th>\n",
              "      <td>0.000050</td>\n",
              "      <td>2.286500</td>\n",
              "    </tr>\n",
              "    <tr>\n",
              "      <th>2</th>\n",
              "      <td>0.000500</td>\n",
              "      <td>2.286100</td>\n",
              "    </tr>\n",
              "    <tr>\n",
              "      <th>3</th>\n",
              "      <td>0.005000</td>\n",
              "      <td>2.282325</td>\n",
              "    </tr>\n",
              "    <tr>\n",
              "      <th>4</th>\n",
              "      <td>0.050000</td>\n",
              "      <td>2.262600</td>\n",
              "    </tr>\n",
              "    <tr>\n",
              "      <th>5</th>\n",
              "      <td>0.500000</td>\n",
              "      <td>1.000000</td>\n",
              "    </tr>\n",
              "  </tbody>\n",
              "</table>\n",
              "</div>"
            ],
            "text/plain": [
              "   k (kg/seg)  período (seg)\n",
              "0    0.000005       2.286550\n",
              "1    0.000050       2.286500\n",
              "2    0.000500       2.286100\n",
              "3    0.005000       2.282325\n",
              "4    0.050000       2.262600\n",
              "5    0.500000       1.000000"
            ]
          },
          "metadata": {
            "tags": []
          },
          "execution_count": 11
        }
      ]
    },
    {
      "cell_type": "markdown",
      "metadata": {
        "id": "D-7OESd68hE6"
      },
      "source": [
        "É possível observar que os valores de $k$ no intervalo $[5\\cdot 10^{-6},5\\cdot 10^{-2}]$ não modificam tanto o período $P$ simulado já que fica no intervalo $[2.2626, 2.286550]$. Já quando $k \\in (5\\cdot 10^{-2}, 5\\cdot 10^{-1}]$ a mudança é drástica no valor do período $P$ simulado, pois $P \\in [1.0,2.2626)$. Vale ressaltar que $N = 100{,}000$ e $T = 2.5$."
      ]
    },
    {
      "cell_type": "markdown",
      "metadata": {
        "id": "WbUxpko3t3_F"
      },
      "source": [
        "### d) This size pendulum will be used as part of the mechanism for a grand-father clock. In order to maintain a certain amplitude of oscillation, a force is to be applied periodically. How much force should be applied, and how often, to produce an amplitude of $\\pm$300º? How does the answer depend on the amplitude desired? [Hint: Simulate one period of the pendulum oscillation. Vary the initial angular velocity\u0012 $\\theta′(0)$ to obtain periodic behavior.]"
      ]
    },
    {
      "cell_type": "code",
      "metadata": {
        "id": "Je0aPea4t3l2"
      },
      "source": [
        ""
      ],
      "execution_count": null,
      "outputs": []
    }
  ]
}