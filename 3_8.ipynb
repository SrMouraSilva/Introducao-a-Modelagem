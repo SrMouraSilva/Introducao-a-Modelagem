{
  "nbformat": 4,
  "nbformat_minor": 0,
  "metadata": {
    "colab": {
      "name": "3.8.ipynb",
      "provenance": [],
      "collapsed_sections": [],
      "toc_visible": true,
      "include_colab_link": true
    },
    "kernelspec": {
      "name": "python3",
      "display_name": "Python 3"
    }
  },
  "cells": [
    {
      "cell_type": "markdown",
      "metadata": {
        "id": "view-in-github",
        "colab_type": "text"
      },
      "source": [
        "<a href=\"https://colab.research.google.com/github/SrMouraSilva/Introducao-a-Modelagem/blob/main/3_8.ipynb\" target=\"_parent\"><img src=\"https://colab.research.google.com/assets/colab-badge.svg\" alt=\"Open In Colab\"/></a>"
      ]
    },
    {
      "cell_type": "code",
      "metadata": {
        "id": "r7FFD4Sr-IFq",
        "colab": {
          "base_uri": "https://localhost:8080/",
          "height": 17
        },
        "outputId": "f7819945-250a-49e7-aa1a-35167accbe1c"
      },
      "source": [
        "# Programação simbólica\n",
        "from sympy import *\n",
        "from sympy.plotting import plot, plot3d\n",
        " \n",
        "# Exibir símbolos nos plots\n",
        "from google.colab.output._publish import javascript\n",
        "url = \"https://cdnjs.cloudflare.com/ajax/libs/mathjax/3.1.2/latest.js?config=default\"\n",
        " \n",
        "javascript(url=url)\n",
        "from IPython.display import Math\n",
        " \n",
        "# Manipulação dos dados\n",
        "import numpy as np\n",
        "import pandas as pd\n",
        "\n",
        "# Gráficos\n",
        "import matplotlib as mpl\n",
        "import matplotlib.pyplot as plt\n",
        " \n",
        "import seaborn as sns\n",
        "sns.set_theme()"
      ],
      "execution_count": null,
      "outputs": [
        {
          "output_type": "display_data",
          "data": {
            "text/html": [
              "<script src='https://cdnjs.cloudflare.com/ajax/libs/mathjax/3.1.2/latest.js?config=default'></script>"
            ],
            "text/plain": [
              "<IPython.core.display.HTML object>"
            ]
          },
          "metadata": {
            "tags": []
          }
        }
      ]
    },
    {
      "cell_type": "code",
      "metadata": {
        "id": "ifCXr6ztqBYD"
      },
      "source": [
        "mpl.rcParams['figure.figsize'] = (12,8)\n",
        "mpl.rcParams['font.size'] = 14\n",
        "mpl.rcParams['legend.fontsize'] = 14"
      ],
      "execution_count": null,
      "outputs": []
    },
    {
      "cell_type": "markdown",
      "metadata": {
        "id": "mnTEZuBg6OHQ"
      },
      "source": [
        "## Questão 3.8\n",
        " \n",
        "Reconsider Exercise 6 in Chapter 2, but now suppose that management has been persuaded to lift the ceiling on advertising expenditures. The assumption that sales vary as a linear function of the advertising budget is probably not reasonable over the wider range of advertising budget figures we now wish to consider. Suppose instead that sales are increased by $1{,}000$ units each time the advertising budget is doubled.\n",
        " \n",
        "Relembrando o exercício 2.6\n",
        "> **Exercice 2.6** A manufacturer of personal computers currently sells $10{,}000$ units per month of a basic model. The cost of manufacture is $\\$700$/unit, and the whole sale price is $\\$950$. During the last quarter the manufacturer lowered the price $\\$100$ in a few test markets, and the result was a $50\\%$ increase in sales. The company has been advertising its product nation wide at a cost of $\\$50{,}000$ per month. The advertising agency claims that increasing the advertising budget by $\\$10{,}000$/month would result in a sales increase of $200$ units/month. Management has agreed to consider an increase in the advertising budget to no more than $\\$100{,}000$/month.\n",
        " \n",
        "> **a)** Determine the price and the advertising budget that will maximize profit. Use the five-step method. Model as a constrained optimization problem, and solve using the method of Lagrange multipliers.\n",
        " \n",
        "> **b)** Determine the sensitivity of the decision variables (price and advertising) to price elasticity (the 50\\% number).\n",
        " \n",
        "> **c)** Determine the sensitivity of the decision variables to the advertising agency's estimate of $200$ new sales each time the advertising budget is increased by $\\$10{,}000$ per month.\n",
        " \n",
        "> **d)** What is the value of the multiplier found in part (a)? What is the real–world significance of the multiplier?  How could you use this information to convince top management to lift the ceiling on advertising expenditures?\n"
      ]
    },
    {
      "cell_type": "markdown",
      "metadata": {
        "id": "1LORCIQ5OV6j"
      },
      "source": [
        "### a) Find the price and the advertising budget that will maximize profit. Use the five-step method, and model as an unconstrained optimization problem.\n"
      ]
    },
    {
      "cell_type": "markdown",
      "metadata": {
        "id": "3McxGFsWOV0L"
      },
      "source": [
        "#### Passo 1 - Variáveis\n",
        " \n",
        "* $s$ = total de unidades de computadores pessoais do modelo básico vendidos por mês (vendas/mês); \\\\\n",
        "* $s_{\\text{original}}$ = total original de unidades de computadores pessoais do modelo básico vendidos por mês (vendas/mês) (sem desconto no preço do computador ou aumento das despesas em publicidade) ($\\$$); \\\\\n",
        "* $s_{\\text{desconto}}$ = incremento das vendas de computadores pessoais pelo desconto dado ao valor original de venda (vendas/mês); \\\\\n",
        "* $s_{\\text{propaganda}}$ = incremento das vendas de computadores pessoais pelo incremento do aumento das despesas com publicidade; \\\\\n",
        " \n",
        " \n",
        "* $c$ = custo de produção do computador pessoal do modelo básico ($\\$$);\n",
        "* $p_{\\text{original}}$ = preço de venda original de um computador pessoal de modelo básico (preço sem desconto) ($\\$$); \\\\\n",
        "* $p$ = preço de venda de um computador pessoal do modelo básico ($\\$$); \\\\\n",
        " \n",
        " \n",
        "* $a_{\\text{original}}$ = custo original das despesas com propaganda (sem aumento de despesas) ($\\$$);\n",
        "* $a$ = custo total com propaganda ($\\$$);\n",
        "* $C$ = custo de manufatura para produzir $s$ aparelhos ($\\$$/mês);\n",
        "* $R$ = rendimento na venda dos aparelhos ($\\$$);\n",
        "* $L$ = lucro obtido pela venda de $s$ computadores pessoais ($\\$$);\n"
      ]
    },
    {
      "cell_type": "markdown",
      "metadata": {
        "id": "iDgaiitROdYe"
      },
      "source": [
        "#### Passo 1 - Suposições do problema"
      ]
    },
    {
      "cell_type": "code",
      "metadata": {
        "id": "v1-bfw2V8Flu"
      },
      "source": [
        "a = var('a', real=True)\n",
        "p = var('p', real=True)\n",
        " \n",
        "c = 700\n",
        "p_original = 950\n",
        "a_original = 50_000\n",
        "s_original = 10_000\n",
        " \n",
        "s_desconto = s_original * 0.5 * (p_original - p) / 100\n",
        "s_propaganda = 1_000 * log(a/a_original, 2)\n",
        " \n",
        "s = s_original + s_desconto + s_propaganda\n",
        " \n",
        "C = c*s\n",
        "R = p*s\n",
        "L = R - C - a"
      ],
      "execution_count": null,
      "outputs": []
    },
    {
      "cell_type": "markdown",
      "metadata": {
        "id": "D_bIycTHNDCt"
      },
      "source": [
        "Um gráfico 3D é apresentado a seguir para nos auxiliar no entendimento do comportamento da equação. O eixo $x$ representa os valores para o preço do produto $p$. Já o eixo $y$ representa $a$, o total gasto com publicidade. O intervalo definido para $p$ corresponde de 700 ( valor no qual  não há lucro algum sobre a venda) a 1200. O eixo $z$ corresponde ao lucro da venda dos computadores pessoais."
      ]
    },
    {
      "cell_type": "code",
      "metadata": {
        "id": "WJykII9MSi4n",
        "colab": {
          "base_uri": "https://localhost:8080/",
          "height": 483
        },
        "outputId": "4340dbc9-5073-483f-c0d4-dd1fbb932201"
      },
      "source": [
        "plot3d(L, (p, 700, 1200), (a, 50_000, 1_600_000), xlabel='$p$', ylabel='$a$', zlabel='Lucro')"
      ],
      "execution_count": null,
      "outputs": [
        {
          "output_type": "display_data",
          "data": {
            "image/png": "[encoded data removed]",
            "text/plain": [
              "<Figure size 864x576 with 1 Axes>"
            ]
          },
          "metadata": {
            "tags": [],
            "needs_background": "light"
          }
        },
        {
          "output_type": "execute_result",
          "data": {
            "text/plain": [
              "<sympy.plotting.plot.Plot at 0x7f0a4db169b0>"
            ]
          },
          "metadata": {
            "tags": []
          },
          "execution_count": 4
        }
      ]
    },
    {
      "cell_type": "markdown",
      "metadata": {
        "id": "PrfM10YIlQJn"
      },
      "source": [
        "#### Passo 2 - Abordagem de modelagem\n",
        " \n",
        "Problema de otimização multidimensional sem restrição cujo objetivo é maximizar o lucro obtido pela venda de computadores pessoais sem respeitar o orçamento máximo para publicidade, conforme o enuncado da questão.\n",
        " \n"
      ]
    },
    {
      "cell_type": "markdown",
      "metadata": {
        "id": "ZJrVmr9sOgNj"
      },
      "source": [
        "#### Passo 3 - Formulação do modelo\n",
        " \n",
        "$$\n",
        "\\begin{align}\n",
        "\\text{max} ~~& f(p, a) \\\\\n",
        "\\text{sujeito a} ~~& p, a \\in \\Omega \\\\\n",
        "\\end{align}\n",
        "$$\n",
        " \n",
        "Sendo:\n",
        "* $f(p, a)$: Função objetivo\n",
        "* $\\Omega$: Espaço viável das variáveis do problema.\n",
        " \n",
        "Dado que não é aplicado qualquer restrição, temos:\n",
        " \n",
        "$$\n",
        "\\begin{align}\n",
        "\\text{max} ~~& f(p, a) = R - C - a \\\\\n",
        "\\end{align}\n",
        "$$\n"
      ]
    },
    {
      "cell_type": "markdown",
      "metadata": {
        "id": "VdME-YSeOgEX"
      },
      "source": [
        "#### Passo 4 - Resolução do modelo\n",
        " \n",
        "Função a ser otimizada:"
      ]
    },
    {
      "cell_type": "code",
      "metadata": {
        "id": "1RGqQWdqlNOU",
        "colab": {
          "base_uri": "https://localhost:8080/",
          "height": 58
        },
        "outputId": "10c28887-ca7d-4199-9133-33e59369d41d"
      },
      "source": [
        "f_a = L\n",
        "Math(f\"f(p, a)={latex(f_a)}\")"
      ],
      "execution_count": null,
      "outputs": [
        {
          "output_type": "execute_result",
          "data": {
            "text/latex": "$$f(p, a)=- a + p \\left(- 50.0 p + \\frac{1000 \\log{\\left (\\frac{a}{50000} \\right )}}{\\log{\\left (2 \\right )}} + 57500.0\\right) + 35000.0 p - \\frac{700000 \\log{\\left (\\frac{a}{50000} \\right )}}{\\log{\\left (2 \\right )}} - 40250000.0$$",
            "text/plain": [
              "<IPython.core.display.Math object>"
            ]
          },
          "metadata": {
            "tags": []
          },
          "execution_count": 5
        }
      ]
    },
    {
      "cell_type": "markdown",
      "metadata": {
        "id": "CR9KhoX3yqcQ"
      },
      "source": [
        "O vetor gradiente\n",
        "$$\\nabla f(p, a) = \n",
        "\\left[\n",
        "\\begin{matrix}\n",
        "    \\frac{\\partial f(p, a)}{\\partial p} \\\\\n",
        "    \\frac{\\partial f(p, a)}{\\partial a}\n",
        "\\end{matrix}\n",
        "\\right]\n",
        "$$\n",
        "como"
      ]
    },
    {
      "cell_type": "code",
      "metadata": {
        "id": "yltctb3zxqpH",
        "colab": {
          "base_uri": "https://localhost:8080/",
          "height": 72
        },
        "outputId": "530c46bc-b0d4-455c-af6e-b5dcc665ca07"
      },
      "source": [
        "grad_f = Matrix(derive_by_array(f_a, (p, a)))\n",
        "\n",
        "display(Math(f\"\\\\nabla f(p, a) = {latex(grad_f)}.\"))"
      ],
      "execution_count": null,
      "outputs": [
        {
          "output_type": "display_data",
          "data": {
            "text/latex": "$$\\nabla f(p, a) = \\left[\\begin{matrix}- 100.0 p + \\frac{1000 \\log{\\left (\\frac{a}{50000} \\right )}}{\\log{\\left (2 \\right )}} + 92500.0\\\\-1 + \\frac{1000 p}{a \\log{\\left (2 \\right )}} - \\frac{700000}{a \\log{\\left (2 \\right )}}\\end{matrix}\\right].$$",
            "text/plain": [
              "<IPython.core.display.Math object>"
            ]
          },
          "metadata": {
            "tags": []
          }
        }
      ]
    },
    {
      "cell_type": "markdown",
      "metadata": {
        "id": "C-sCsZk3PPak"
      },
      "source": [
        "Calculando $\\nabla f(p, a) = \\mathbf{0}$, temos duas soluções"
      ]
    },
    {
      "cell_type": "code",
      "metadata": {
        "id": "DRffgHWVPZ3f",
        "colab": {
          "base_uri": "https://localhost:8080/",
          "height": 428
        },
        "outputId": "aba14691-610e-483b-8954-1c406e97f3f5"
      },
      "source": [
        "solucoes_a = solve(grad_f, [p, a], dict=True, rational=True)\n",
        "\n",
        "display(Math(f\"\"\"\n",
        "\\\\begin{{aligned}}\n",
        "\\mathbf{{0}} &= \\\\nabla f(p, a) \\\\\\\\\n",
        "\\mathbf{{0}} &= {latex(grad_f)}\n",
        "\\\\end{{aligned}}\n",
        "\"\"\"))\n",
        "for i, solucao in enumerate(solucoes_a):\n",
        "    display(Math(f\"\"\"\n",
        "\\\\begin{{aligned}}\n",
        "\\\\text{{\\\\textbf{{Solução {i+1}}}}} &  \\\\\\\\\n",
        "p &= {latex(solucao[p])} = {latex(N(solucao[p]))} \\\\\\\\\n",
        "a &= {latex(solucao[a])} = {latex(N(solucao[a]))} \\\\\\\\\n",
        "\\\\text{{Lucro: }} & {latex(N(L.subs(solucao)))} \\\\\\\\\n",
        "\\\\end{{aligned}}\n",
        "    \"\"\"))"
      ],
      "execution_count": null,
      "outputs": [
        {
          "output_type": "display_data",
          "data": {
            "text/latex": "$$\n\\begin{aligned}\n\\mathbf{0} &= \\nabla f(p, a) \\\\\n\\mathbf{0} &= \\left[\\begin{matrix}- 100.0 p + \\frac{1000 \\log{\\left (\\frac{a}{50000} \\right )}}{\\log{\\left (2 \\right )}} + 92500.0\\\\-1 + \\frac{1000 p}{a \\log{\\left (2 \\right )}} - \\frac{700000}{a \\log{\\left (2 \\right )}}\\end{matrix}\\right]\n\\end{aligned}\n$$",
            "text/plain": [
              "<IPython.core.display.Math object>"
            ]
          },
          "metadata": {
            "tags": []
          }
        },
        {
          "output_type": "display_data",
          "data": {
            "text/latex": "$$\n\\begin{aligned}\n\\text{\\textbf{Solução 1}} &  \\\\\np &= - \\frac{10}{\\log{\\left (2 \\right )}} \\operatorname{LambertW}{\\left (- \\frac{5 \\sqrt{2}}{8388608} \\log^{2}{\\left (2 \\right )} \\right )} + 700 = 700.000005842796 \\\\\na &= - \\frac{10000}{\\log^{2}{\\left (2 \\right )}} \\operatorname{LambertW}{\\left (- \\frac{5 \\sqrt{2}}{8388608} \\log^{2}{\\left (2 \\right )} \\right )} = 0.00842937311600487 \\\\\n\\text{Lucro: } & -0.00842937140909149 \\\\\n\\end{aligned}\n    $$",
            "text/plain": [
              "<IPython.core.display.Math object>"
            ]
          },
          "metadata": {
            "tags": []
          }
        },
        {
          "output_type": "display_data",
          "data": {
            "text/latex": "$$\n\\begin{aligned}\n\\text{\\textbf{Solução 2}} &  \\\\\np &= - \\frac{10}{\\log{\\left (2 \\right )}} \\operatorname{LambertW}{\\left (- \\frac{5 \\sqrt{2}}{8388608} \\log^{2}{\\left (2 \\right )},-1 \\right )} + 700 = 953.720038384914 \\\\\na &= - \\frac{10000}{\\log^{2}{\\left (2 \\right )}} \\operatorname{LambertW}{\\left (- \\frac{5 \\sqrt{2}}{8388608} \\log^{2}{\\left (2 \\right )},-1 \\right )} = 366040.641152074 \\\\\n\\text{Lucro: } & 2852652.25275005 \\\\\n\\end{aligned}\n    $$",
            "text/plain": [
              "<IPython.core.display.Math object>"
            ]
          },
          "metadata": {
            "tags": []
          }
        }
      ]
    },
    {
      "cell_type": "markdown",
      "metadata": {
        "id": "0KXGSA1xZKFS"
      },
      "source": [
        "Nota-se que a primeira solução trata o problema como um problema de minimização, enquanto que a segunda solução apresenta o valor para o caso de maximização."
      ]
    },
    {
      "cell_type": "markdown",
      "metadata": {
        "id": "Gf2wYLIs-nLk"
      },
      "source": [
        "#### Passo 5 - Resposta da pergunta\n",
        "\n",
        "A resposta obtida pelo modelo matemático proposto é que o lucro máximo obtido passará de $\\$2{,}450{,}000$ para $\\$2{,}852{,}652.25275005$ ao\n",
        "* aumentar de $\\$50{,}000$ para $\\$366{,}040.641152074$ de investimento em publicidade;\n",
        "* aumentar o valor do produto de $\\$950$ para aproximadamente $\\$953.72$."
      ]
    },
    {
      "cell_type": "markdown",
      "metadata": {
        "id": "e13aHA58_v6M"
      },
      "source": [
        "### b) determine the sensitivity of the decision variables (price and advertising budget) to price elasticity (the 50% number).\n",
        "\n",
        "Suponhamos que a elasticidade do preço não seja mais o valor fixo $0.5$, mas dependa de uma variável $r$.\n",
        "\n",
        "Assim, temos a função $f(p, a;r)$ sendo como:"
      ]
    },
    {
      "cell_type": "code",
      "metadata": {
        "id": "4ZyepjQC-mq1",
        "colab": {
          "base_uri": "https://localhost:8080/",
          "height": 58
        },
        "outputId": "bc410fe0-b7f3-45c4-ff45-e4f9abd47e26"
      },
      "source": [
        "p, a, r = var('p, a, r', real=True)\n",
        " \n",
        "c = 700\n",
        "p_original = 950\n",
        "a_original = 50_000\n",
        "s_original = 10_000\n",
        " \n",
        "s_desconto = s_original * r * (p_original - p) / 100\n",
        "s_propaganda = 1_000 * log(a/a_original, 2)\n",
        " \n",
        "s = s_original + s_desconto + s_propaganda\n",
        " \n",
        "C = c*s\n",
        "R = p*s\n",
        "L = R - C - a\n",
        " \n",
        "f_b = L\n",
        "Math(f\"f(p, a; r) = {latex(f_b)}\")"
      ],
      "execution_count": null,
      "outputs": [
        {
          "output_type": "execute_result",
          "data": {
            "text/latex": "$$f(p, a; r) = - a + p \\left(100 r \\left(- p + 950\\right) + \\frac{1000 \\log{\\left (\\frac{a}{50000} \\right )}}{\\log{\\left (2 \\right )}} + 10000\\right) - 70000 r \\left(- p + 950\\right) - \\frac{700000 \\log{\\left (\\frac{a}{50000} \\right )}}{\\log{\\left (2 \\right )}} - 7000000$$",
            "text/plain": [
              "<IPython.core.display.Math object>"
            ]
          },
          "metadata": {
            "tags": []
          },
          "execution_count": 8
        }
      ]
    },
    {
      "cell_type": "markdown",
      "metadata": {
        "id": "NAD6Oijdokza"
      },
      "source": [
        "As derivadas parciais primeiras como:"
      ]
    },
    {
      "cell_type": "code",
      "metadata": {
        "id": "5C0_vzMuoka3",
        "colab": {
          "base_uri": "https://localhost:8080/",
          "height": 109
        },
        "outputId": "9b18cc42-21a8-4241-82d8-ab15eb417f9d"
      },
      "source": [
        "dfdp = diff(f_b, p)\n",
        "dfda = diff(f_b, a)\n",
        "\n",
        "Math(f\"\"\"\n",
        "\\\\begin{{aligned}}\n",
        "\\\\frac{{\\\\partial}}{{\\\\partial p}} df(p,a;r) &= {latex(dfdp)} \\\\\\\\\n",
        "\\\\frac{{\\\\partial}}{{\\\\partial a}} df(p,a;r) &= {latex(dfda)}\n",
        "\\\\end{{aligned}}\n",
        "\"\"\")"
      ],
      "execution_count": null,
      "outputs": [
        {
          "output_type": "execute_result",
          "data": {
            "text/latex": "$$\n\\begin{aligned}\n\\frac{\\partial}{\\partial p} df(p,a;r) &= - 100 p r + 100 r \\left(- p + 950\\right) + 70000 r + \\frac{1000 \\log{\\left (\\frac{a}{50000} \\right )}}{\\log{\\left (2 \\right )}} + 10000 \\\\\n\\frac{\\partial}{\\partial a} df(p,a;r) &= -1 + \\frac{1000 p}{a \\log{\\left (2 \\right )}} - \\frac{700000}{a \\log{\\left (2 \\right )}}\n\\end{aligned}\n$$",
            "text/plain": [
              "<IPython.core.display.Math object>"
            ]
          },
          "metadata": {
            "tags": []
          },
          "execution_count": 9
        }
      ]
    },
    {
      "cell_type": "markdown",
      "metadata": {
        "id": "wWG3CAIgorHy"
      },
      "source": [
        "Igualando-as a zero, teremos:"
      ]
    },
    {
      "cell_type": "code",
      "metadata": {
        "id": "-ZNMNvD9oq-S"
      },
      "source": [
        "##Só achou uma solução, provavelmente a correlata a equação 1\n",
        "# s_b = solve([N(dfdp), N(dfda)], [p, a], dict=True, rational=True)[0]\n",
        "\n",
        "# Math(f\"\"\"\n",
        "# \\\\begin{{aligned}}\n",
        "# p &= {latex(N(s_b[p]))} \\\\\\\\\n",
        "# a &= {latex(s_b[a])}\n",
        "# \\\\end{{aligned}}\n",
        "# \"\"\")"
      ],
      "execution_count": null,
      "outputs": []
    },
    {
      "cell_type": "markdown",
      "metadata": {
        "id": "8S46FJs-FFru"
      },
      "source": [
        "Infelizmente, a ferramenta Sympy não conseguiu achar as duas soluções. \n",
        "Deste modo, faremos este item por meio de uma estimativa numérica da sensibilidade."
      ]
    },
    {
      "cell_type": "markdown",
      "metadata": {
        "id": "v3ZDw0JEHwyt"
      },
      "source": [
        "Assumamos que $r=0.505$, ou seja, com incremento de $1\\%$ em relação ao item a). Executemos o método de Newton, definindo explicitamente que $r=0.505$. Deste modo, teremos $f(p, a; r)$ como sendo:"
      ]
    },
    {
      "cell_type": "code",
      "metadata": {
        "id": "uwZF7rGvHvkm"
      },
      "source": [
        "def MetodoNewton(variaveis, valores_iniciais, funcao, numero_iteracoes=10):\n",
        "    num_variaveis = len(variaveis)\n",
        "    x_ = np.zeros((num_variaveis, numero_iteracoes+1))\n",
        "    \n",
        "    x_[:, 0] = valores_iniciais\n",
        "\n",
        "    f = lambdify(variaveis, funcao, 'numpy')\n",
        "\n",
        "    gradiente = Matrix(derive_by_array(funcao, variaveis))\n",
        "    gradiente_f_original = lambdify(variaveis, gradiente, 'numpy')\n",
        "    gradiente_f = lambda vetor: gradiente_f_original(*vetor.T.flatten())\n",
        "\n",
        "    hessiana = hessian(funcao, variaveis)\n",
        "\n",
        "    hessiana_inversa_f_original = lambdify(variaveis, hessiana.inv(), 'numpy')\n",
        "    hessiana_inversa_f = lambda vetor: hessiana_inversa_f_original(*vetor.T.flatten())\n",
        "    \n",
        "    for k in range(numero_iteracoes):\n",
        "        x_k = x_[:, [k]]\n",
        "\n",
        "        x_k_next = x_k - hessiana_inversa_f(x_k) @ gradiente_f(x_k)\n",
        "        x_[:, k+1] = x_k_next.T\n",
        "    \n",
        "    retorno = {f'{variavel}': x_[i] for i, variavel in enumerate(variaveis)}\n",
        "    retorno[f'f{Tuple(*variaveis)}'] = [f(*x_i) for x_i in x_.T]\n",
        "    \n",
        "    return pd.DataFrame(retorno)"
      ],
      "execution_count": null,
      "outputs": []
    },
    {
      "cell_type": "code",
      "metadata": {
        "id": "Ut-jvdZiIBe4",
        "colab": {
          "base_uri": "https://localhost:8080/",
          "height": 58
        },
        "outputId": "e5e1b411-d020-44b9-8736-71f3de2e386c"
      },
      "source": [
        "#@title Valor de `r` { vertical-output: true, display-mode: \"form\" }\n",
        " \n",
        "valor_r = 0.505 #@param {type:\"number\"}\n",
        "\n",
        "valores = {\n",
        "    r: valor_r\n",
        "}\n",
        " \n",
        "Math(f\"f(p, a) = f(p, a; r={valor_r}) = {latex(f_b.subs(valores))}\")"
      ],
      "execution_count": null,
      "outputs": [
        {
          "output_type": "execute_result",
          "data": {
            "text/latex": "$$f(p, a) = f(p, a; r=0.505) = - a + p \\left(- 50.5 p + \\frac{1000 \\log{\\left (\\frac{a}{50000} \\right )}}{\\log{\\left (2 \\right )}} + 57975.0\\right) + 35350.0 p - \\frac{700000 \\log{\\left (\\frac{a}{50000} \\right )}}{\\log{\\left (2 \\right )}} - 40582500.0$$",
            "text/plain": [
              "<IPython.core.display.Math object>"
            ]
          },
          "metadata": {
            "tags": []
          },
          "execution_count": 12
        }
      ]
    },
    {
      "cell_type": "markdown",
      "metadata": {
        "id": "bpXsgmxrIPLY"
      },
      "source": [
        "O resultado do método de Newton é apresentado na tabela abaixo. Os valores de $p$, de $a$ e de $f(p, a)$ são apresentados para cada $i$-ésima iteração ($i$-ésima linha)."
      ]
    },
    {
      "cell_type": "code",
      "metadata": {
        "id": "EwcGK0v0IO8B",
        "colab": {
          "base_uri": "https://localhost:8080/",
          "height": 865
        },
        "outputId": "572e44d0-bd0a-49fd-fc9b-3428dfb2e1ad"
      },
      "source": [
        "resultado_newton_b = MetodoNewton(\n",
        "    variaveis=(p, a,),\n",
        "    valores_iniciais=(1, 1),\n",
        "    funcao=f_b.subs(valores),\n",
        "    numero_iteracoes=25\n",
        ")\n",
        "resultado_newton_b"
      ],
      "execution_count": null,
      "outputs": [
        {
          "output_type": "execute_result",
          "data": {
            "text/html": [
              "<div>\n",
              "<style scoped>\n",
              "    .dataframe tbody tr th:only-of-type {\n",
              "        vertical-align: middle;\n",
              "    }\n",
              "\n",
              "    .dataframe tbody tr th {\n",
              "        vertical-align: top;\n",
              "    }\n",
              "\n",
              "    .dataframe thead th {\n",
              "        text-align: right;\n",
              "    }\n",
              "</style>\n",
              "<table border=\"1\" class=\"dataframe\">\n",
              "  <thead>\n",
              "    <tr style=\"text-align: right;\">\n",
              "      <th></th>\n",
              "      <th>p</th>\n",
              "      <th>a</th>\n",
              "      <th>f(p, a)</th>\n",
              "    </tr>\n",
              "  </thead>\n",
              "  <tbody>\n",
              "    <tr>\n",
              "      <th>0</th>\n",
              "      <td>1.000000</td>\n",
              "      <td>1.000000</td>\n",
              "      <td>-2.957809e+07</td>\n",
              "    </tr>\n",
              "    <tr>\n",
              "      <th>1</th>\n",
              "      <td>768.068045</td>\n",
              "      <td>0.902622</td>\n",
              "      <td>2.334804e+05</td>\n",
              "    </tr>\n",
              "    <tr>\n",
              "      <th>2</th>\n",
              "      <td>786.053891</td>\n",
              "      <td>2.043738</td>\n",
              "      <td>3.184704e+05</td>\n",
              "    </tr>\n",
              "    <tr>\n",
              "      <th>3</th>\n",
              "      <td>795.524994</td>\n",
              "      <td>4.312377</td>\n",
              "      <td>4.107370e+05</td>\n",
              "    </tr>\n",
              "    <tr>\n",
              "      <th>4</th>\n",
              "      <td>806.217639</td>\n",
              "      <td>9.107327</td>\n",
              "      <td>5.139139e+05</td>\n",
              "    </tr>\n",
              "    <tr>\n",
              "      <th>5</th>\n",
              "      <td>816.707693</td>\n",
              "      <td>19.113552</td>\n",
              "      <td>6.276518e+05</td>\n",
              "    </tr>\n",
              "    <tr>\n",
              "      <th>6</th>\n",
              "      <td>827.165214</td>\n",
              "      <td>39.937592</td>\n",
              "      <td>7.519123e+05</td>\n",
              "    </tr>\n",
              "    <tr>\n",
              "      <th>7</th>\n",
              "      <td>837.579913</td>\n",
              "      <td>83.137337</td>\n",
              "      <td>8.866192e+05</td>\n",
              "    </tr>\n",
              "    <tr>\n",
              "      <th>8</th>\n",
              "      <td>847.957381</td>\n",
              "      <td>172.510789</td>\n",
              "      <td>1.031690e+06</td>\n",
              "    </tr>\n",
              "    <tr>\n",
              "      <th>9</th>\n",
              "      <td>858.299777</td>\n",
              "      <td>356.940868</td>\n",
              "      <td>1.187012e+06</td>\n",
              "    </tr>\n",
              "    <tr>\n",
              "      <th>10</th>\n",
              "      <td>868.606683</td>\n",
              "      <td>736.564295</td>\n",
              "      <td>1.352398e+06</td>\n",
              "    </tr>\n",
              "    <tr>\n",
              "      <th>11</th>\n",
              "      <td>878.873272</td>\n",
              "      <td>1515.748208</td>\n",
              "      <td>1.527506e+06</td>\n",
              "    </tr>\n",
              "    <tr>\n",
              "      <th>12</th>\n",
              "      <td>889.086855</td>\n",
              "      <td>3109.141996</td>\n",
              "      <td>1.711677e+06</td>\n",
              "    </tr>\n",
              "    <tr>\n",
              "      <th>13</th>\n",
              "      <td>899.220068</td>\n",
              "      <td>6349.467660</td>\n",
              "      <td>1.903606e+06</td>\n",
              "    </tr>\n",
              "    <tr>\n",
              "      <th>14</th>\n",
              "      <td>909.217862</td>\n",
              "      <td>12877.310575</td>\n",
              "      <td>2.100725e+06</td>\n",
              "    </tr>\n",
              "    <tr>\n",
              "      <th>15</th>\n",
              "      <td>918.973463</td>\n",
              "      <td>25805.690838</td>\n",
              "      <td>2.298072e+06</td>\n",
              "    </tr>\n",
              "    <tr>\n",
              "      <th>16</th>\n",
              "      <td>928.286814</td>\n",
              "      <td>50600.973395</td>\n",
              "      <td>2.486522e+06</td>\n",
              "    </tr>\n",
              "    <tr>\n",
              "      <th>17</th>\n",
              "      <td>936.802928</td>\n",
              "      <td>95315.268966</td>\n",
              "      <td>2.650943e+06</td>\n",
              "    </tr>\n",
              "    <tr>\n",
              "      <th>18</th>\n",
              "      <td>943.955881</td>\n",
              "      <td>166916.908706</td>\n",
              "      <td>2.771375e+06</td>\n",
              "    </tr>\n",
              "    <tr>\n",
              "      <th>19</th>\n",
              "      <td>949.036235</td>\n",
              "      <td>258148.193549</td>\n",
              "      <td>2.834102e+06</td>\n",
              "    </tr>\n",
              "    <tr>\n",
              "      <th>20</th>\n",
              "      <td>951.626866</td>\n",
              "      <td>333500.092917</td>\n",
              "      <td>2.850971e+06</td>\n",
              "    </tr>\n",
              "    <tr>\n",
              "      <th>21</th>\n",
              "      <td>952.316439</td>\n",
              "      <td>361534.157423</td>\n",
              "      <td>2.852259e+06</td>\n",
              "    </tr>\n",
              "    <tr>\n",
              "      <th>22</th>\n",
              "      <td>952.368984</td>\n",
              "      <td>364074.047640</td>\n",
              "      <td>2.852267e+06</td>\n",
              "    </tr>\n",
              "    <tr>\n",
              "      <th>23</th>\n",
              "      <td>952.369337</td>\n",
              "      <td>364091.989605</td>\n",
              "      <td>2.852267e+06</td>\n",
              "    </tr>\n",
              "    <tr>\n",
              "      <th>24</th>\n",
              "      <td>952.369337</td>\n",
              "      <td>364091.990489</td>\n",
              "      <td>2.852267e+06</td>\n",
              "    </tr>\n",
              "    <tr>\n",
              "      <th>25</th>\n",
              "      <td>952.369337</td>\n",
              "      <td>364091.990489</td>\n",
              "      <td>2.852267e+06</td>\n",
              "    </tr>\n",
              "  </tbody>\n",
              "</table>\n",
              "</div>"
            ],
            "text/plain": [
              "             p              a       f(p, a)\n",
              "0     1.000000       1.000000 -2.957809e+07\n",
              "1   768.068045       0.902622  2.334804e+05\n",
              "2   786.053891       2.043738  3.184704e+05\n",
              "3   795.524994       4.312377  4.107370e+05\n",
              "4   806.217639       9.107327  5.139139e+05\n",
              "5   816.707693      19.113552  6.276518e+05\n",
              "6   827.165214      39.937592  7.519123e+05\n",
              "7   837.579913      83.137337  8.866192e+05\n",
              "8   847.957381     172.510789  1.031690e+06\n",
              "9   858.299777     356.940868  1.187012e+06\n",
              "10  868.606683     736.564295  1.352398e+06\n",
              "11  878.873272    1515.748208  1.527506e+06\n",
              "12  889.086855    3109.141996  1.711677e+06\n",
              "13  899.220068    6349.467660  1.903606e+06\n",
              "14  909.217862   12877.310575  2.100725e+06\n",
              "15  918.973463   25805.690838  2.298072e+06\n",
              "16  928.286814   50600.973395  2.486522e+06\n",
              "17  936.802928   95315.268966  2.650943e+06\n",
              "18  943.955881  166916.908706  2.771375e+06\n",
              "19  949.036235  258148.193549  2.834102e+06\n",
              "20  951.626866  333500.092917  2.850971e+06\n",
              "21  952.316439  361534.157423  2.852259e+06\n",
              "22  952.368984  364074.047640  2.852267e+06\n",
              "23  952.369337  364091.989605  2.852267e+06\n",
              "24  952.369337  364091.990489  2.852267e+06\n",
              "25  952.369337  364091.990489  2.852267e+06"
            ]
          },
          "metadata": {
            "tags": []
          },
          "execution_count": 13
        }
      ]
    },
    {
      "cell_type": "markdown",
      "metadata": {
        "id": "DSbgrmjzIaUN"
      },
      "source": [
        "Podemos obter uma estimativa das sensibilidades, comparando com os resultados do item a) com este item. Para calcular $S(p, r)$, a sensibilidade de $p$ em função de $r$, façamos\n",
        "$$\n",
        "S(p, r) = \\frac{p^{*_b}}{p^{*_a}} - 1,\n",
        "$$\n",
        "sendo $p^{*_n}$ a variável $p$ no ponto ótimo no item $n$ desta questão,\n",
        "$$\n",
        "S(a, r) = \\frac{a^{*_b}}{a^{*_a}} - 1,\n",
        "$$\n",
        "sendo $a^{*_n}$ a variável $a$ no ponto ótimo no item $n$ desta questão."
      ]
    },
    {
      "cell_type": "code",
      "metadata": {
        "id": "OYSnesT-IaL7",
        "colab": {
          "base_uri": "https://localhost:8080/",
          "height": 95
        },
        "outputId": "d1776cc2-e11d-4174-bb2e-11650d976286"
      },
      "source": [
        "valor_p_a, valor_a_a, valor_f_a = solucoes_a[1][p], solucoes_a[1][a], N(f_a.subs(solucoes_a[1]))\n",
        "valor_p_b, valor_a_b, valor_f_b = resultado_newton_b.iloc[-1]\n",
        "\n",
        "\n",
        "display(Math(f\"\"\"\n",
        "\\\\begin{{aligned}}\n",
        "S(p, r) &= \\\\frac{{{N(valor_p_b)}}}{{{N(valor_p_a)}}} -1 = {(N(valor_p_b)/N(valor_p_a) - 1) * 100}\\%\\\\\\\\\n",
        "S(a, r) &= \\\\frac{{{N(valor_a_b)}}}{{{N(valor_a_a)}}} -1 = {(N(valor_a_b)/N(valor_a_a) - 1) * 100}\\%\n",
        "\\\\end{{aligned}}\n",
        "\"\"\"))"
      ],
      "execution_count": null,
      "outputs": [
        {
          "output_type": "display_data",
          "data": {
            "text/latex": "$$\n\\begin{aligned}\nS(p, r) &= \\frac{952.369336672011}{953.720038384914} -1 = -0.141624550029473\\%\\\\\nS(a, r) &= \\frac{364091.990489147}{366040.641152074} -1 = -0.532359100014967\\%\n\\end{aligned}\n$$",
            "text/plain": [
              "<IPython.core.display.Math object>"
            ]
          },
          "metadata": {
            "tags": []
          }
        }
      ]
    },
    {
      "cell_type": "markdown",
      "metadata": {
        "id": "ZzReeE2tQofI"
      },
      "source": [
        "Podemos então concluir que para cada $1\\%$ de variação de crescimento de $r$, tem-se uma redução de aproximadamente $0.1416\\%$  no valor do produto ($p$) e uma redução de $0.5324\\%$ no total gasto em publicidade ($a$)."
      ]
    },
    {
      "cell_type": "markdown",
      "metadata": {
        "id": "OaCASp7y8cEu"
      },
      "source": [
        "### c) Determine the sensitivity of the decision variables to the advertising agency's estimate of $1{,}000$ new sales each time the advertising budget is doubled.\n",
        "\n",
        "Suponhamos que a quantidade de vendas que aumenta a cada vez que as despesas com publicidade dobra não seja mais o valor fixo de $\\$1{,}000$, mas dependa de uma variável $r$.\n",
        "\n",
        "Assim, temos a função $f(p, a;r)$ sendo como:\n"
      ]
    },
    {
      "cell_type": "code",
      "metadata": {
        "id": "ZxmFnPq6AQdG",
        "colab": {
          "base_uri": "https://localhost:8080/",
          "height": 58
        },
        "outputId": "db392604-6cf4-4b25-df6e-9e29f29875a4"
      },
      "source": [
        "p, a, r = var('p, a, r', real=True)\n",
        "\n",
        "c = 700\n",
        "p_original = 950\n",
        "a_original = 50_000\n",
        "s_original = 10_000\n",
        "\n",
        "s_desconto = s_original * 0.5 * (p_original - p) / 100\n",
        "s_propaganda = r * log(a/a_original, 2)\n",
        "\n",
        "s = s_original + s_desconto + s_propaganda\n",
        "\n",
        "C = c*s\n",
        "R = p*s\n",
        "L = R - C - a\n",
        "\n",
        "f_c = L\n",
        "Math(f\"f(p, a; r) = {latex(f_c)}\")"
      ],
      "execution_count": null,
      "outputs": [
        {
          "output_type": "execute_result",
          "data": {
            "text/latex": "$$f(p, a; r) = - a + p \\left(- 50.0 p + \\frac{r \\log{\\left (\\frac{a}{50000} \\right )}}{\\log{\\left (2 \\right )}} + 57500.0\\right) + 35000.0 p - \\frac{700 r \\log{\\left (\\frac{a}{50000} \\right )}}{\\log{\\left (2 \\right )}} - 40250000.0$$",
            "text/plain": [
              "<IPython.core.display.Math object>"
            ]
          },
          "metadata": {
            "tags": []
          },
          "execution_count": 15
        }
      ]
    },
    {
      "cell_type": "markdown",
      "metadata": {
        "id": "9R1LkRrXB10E"
      },
      "source": [
        "As derivadas parciais primeiras como:"
      ]
    },
    {
      "cell_type": "code",
      "metadata": {
        "id": "-0SIFRlMB5vT",
        "colab": {
          "base_uri": "https://localhost:8080/",
          "height": 109
        },
        "outputId": "558e3c37-8a46-45e5-99f9-593f6120be64"
      },
      "source": [
        "dfdp = diff(f_c, p)\n",
        "dfda = diff(f_c, a)\n",
        "\n",
        "Math(f\"\"\"\n",
        "\\\\begin{{aligned}}\n",
        "\\\\frac{{\\\\partial}}{{\\\\partial p}} df(p,a;r) &= {latex(dfdp)} \\\\\\\\\n",
        "\\\\frac{{\\\\partial}}{{\\\\partial a}} df(p,a;r) &= {latex(dfda)}\n",
        "\\\\end{{aligned}}\n",
        "\"\"\")"
      ],
      "execution_count": null,
      "outputs": [
        {
          "output_type": "execute_result",
          "data": {
            "text/latex": "$$\n\\begin{aligned}\n\\frac{\\partial}{\\partial p} df(p,a;r) &= - 100.0 p + \\frac{r \\log{\\left (\\frac{a}{50000} \\right )}}{\\log{\\left (2 \\right )}} + 92500.0 \\\\\n\\frac{\\partial}{\\partial a} df(p,a;r) &= -1 + \\frac{p r}{a \\log{\\left (2 \\right )}} - \\frac{700 r}{a \\log{\\left (2 \\right )}}\n\\end{aligned}\n$$",
            "text/plain": [
              "<IPython.core.display.Math object>"
            ]
          },
          "metadata": {
            "tags": []
          },
          "execution_count": 16
        }
      ]
    },
    {
      "cell_type": "markdown",
      "metadata": {
        "id": "4RI9iZ38YqO5"
      },
      "source": [
        "Igualando-as a zero, teremos:"
      ]
    },
    {
      "cell_type": "code",
      "metadata": {
        "id": "xLAlVy5vYq6I"
      },
      "source": [
        "##Só achou uma solução, provavelmente a correlata a equação 1\n",
        "# s_c = solve([dfdp, dfda], [p, a], dict=True, rational=True)[0]\n",
        "\n",
        "# Math(f\"\"\"\n",
        "# \\\\begin{{aligned}}\n",
        "# p &= {latex(N(s_c[p]))} \\\\\\\\\n",
        "# a &= {latex(s_c[a])}\n",
        "# \\\\end{{aligned}}\n",
        "# \"\"\")"
      ],
      "execution_count": null,
      "outputs": []
    },
    {
      "cell_type": "markdown",
      "metadata": {
        "id": "y7dBgpE_fy2M"
      },
      "source": [
        "Infelizmente, a ferramenta Sympy não conseguiu achar as duas soluções. \n",
        "Deste modo, faremos este item por meio de uma estimativa numérica da sensibilidade."
      ]
    },
    {
      "cell_type": "markdown",
      "metadata": {
        "id": "nWEQVZgbfzgy"
      },
      "source": [
        "Assumamos que $r=1{,}010$, ou seja, com incremento de $1\\%$ em relação ao item a). Executemos o método de Newton, definindo explicitamente que $r=1{,}010$. Deste modo, teremos $f(p, a; r)$ como sendo:"
      ]
    },
    {
      "cell_type": "code",
      "metadata": {
        "id": "ZGi9lZlrgKMN",
        "colab": {
          "base_uri": "https://localhost:8080/",
          "height": 58
        },
        "outputId": "d9bb5d4d-3118-4abe-d102-712341dff695"
      },
      "source": [
        "#@title Valor de `r` { vertical-output: true, display-mode: \"form\" }\n",
        " \n",
        "valor_r = 1010 #@param {type:\"number\"}\n",
        "\n",
        "valores = {\n",
        "    r: valor_r\n",
        "}\n",
        " \n",
        "Math(f\"f(p, a) = f(p, a; r={valor_r}) = {latex(f_b.subs(valores))}\")"
      ],
      "execution_count": null,
      "outputs": [
        {
          "output_type": "execute_result",
          "data": {
            "text/latex": "$$f(p, a) = f(p, a; r=1010) = - a + p \\left(- 101000 p + \\frac{1000 \\log{\\left (\\frac{a}{50000} \\right )}}{\\log{\\left (2 \\right )}} + 95960000\\right) + 70700000 p - \\frac{700000 \\log{\\left (\\frac{a}{50000} \\right )}}{\\log{\\left (2 \\right )}} - 67172000000$$",
            "text/plain": [
              "<IPython.core.display.Math object>"
            ]
          },
          "metadata": {
            "tags": []
          },
          "execution_count": 18
        }
      ]
    },
    {
      "cell_type": "markdown",
      "metadata": {
        "id": "fAbBYXulfQgD"
      },
      "source": [
        "O resultado do método de Newton é apresentado na tabela abaixo. Os valores de $p$, de $a$ e de $f(p, a)$ são apresentados para cada $i$-ésima iteração ($i$-ésima linha)."
      ]
    },
    {
      "cell_type": "code",
      "metadata": {
        "id": "-YwDgjkDfP_a",
        "colab": {
          "base_uri": "https://localhost:8080/",
          "height": 865
        },
        "outputId": "d24de8ff-7c88-400b-996a-e0de58bad0bc"
      },
      "source": [
        "resultado_newton_c = MetodoNewton(\n",
        "    variaveis=(p, a,),\n",
        "    valores_iniciais=(1, 1),\n",
        "    funcao=f_c.subs(valores),\n",
        "    numero_iteracoes=25\n",
        ")\n",
        "resultado_newton_c"
      ],
      "execution_count": null,
      "outputs": [
        {
          "output_type": "execute_result",
          "data": {
            "text/html": [
              "<div>\n",
              "<style scoped>\n",
              "    .dataframe tbody tr th:only-of-type {\n",
              "        vertical-align: middle;\n",
              "    }\n",
              "\n",
              "    .dataframe tbody tr th {\n",
              "        vertical-align: top;\n",
              "    }\n",
              "\n",
              "    .dataframe thead th {\n",
              "        text-align: right;\n",
              "    }\n",
              "</style>\n",
              "<table border=\"1\" class=\"dataframe\">\n",
              "  <thead>\n",
              "    <tr style=\"text-align: right;\">\n",
              "      <th></th>\n",
              "      <th>p</th>\n",
              "      <th>a</th>\n",
              "      <th>f(p, a)</th>\n",
              "    </tr>\n",
              "  </thead>\n",
              "  <tbody>\n",
              "    <tr>\n",
              "      <th>0</th>\n",
              "      <td>1.000000</td>\n",
              "      <td>1.000000</td>\n",
              "      <td>-2.913730e+07</td>\n",
              "    </tr>\n",
              "    <tr>\n",
              "      <th>1</th>\n",
              "      <td>765.967500</td>\n",
              "      <td>0.905627</td>\n",
              "      <td>2.171276e+05</td>\n",
              "    </tr>\n",
              "    <tr>\n",
              "      <th>2</th>\n",
              "      <td>784.580665</td>\n",
              "      <td>2.066774</td>\n",
              "      <td>3.013660e+05</td>\n",
              "    </tr>\n",
              "    <tr>\n",
              "      <th>3</th>\n",
              "      <td>794.138785</td>\n",
              "      <td>4.367071</td>\n",
              "      <td>3.930492e+05</td>\n",
              "    </tr>\n",
              "    <tr>\n",
              "      <th>4</th>\n",
              "      <td>805.087386</td>\n",
              "      <td>9.241905</td>\n",
              "      <td>4.960207e+05</td>\n",
              "    </tr>\n",
              "    <tr>\n",
              "      <th>5</th>\n",
              "      <td>815.801259</td>\n",
              "      <td>19.425483</td>\n",
              "      <td>6.098916e+05</td>\n",
              "    </tr>\n",
              "    <tr>\n",
              "      <th>6</th>\n",
              "      <td>826.483030</td>\n",
              "      <td>40.640580</td>\n",
              "      <td>7.346246e+05</td>\n",
              "    </tr>\n",
              "    <tr>\n",
              "      <th>7</th>\n",
              "      <td>837.118897</td>\n",
              "      <td>84.689636</td>\n",
              "      <td>8.701367e+05</td>\n",
              "    </tr>\n",
              "    <tr>\n",
              "      <th>8</th>\n",
              "      <td>847.715266</td>\n",
              "      <td>175.888079</td>\n",
              "      <td>1.016341e+06</td>\n",
              "    </tr>\n",
              "    <tr>\n",
              "      <th>9</th>\n",
              "      <td>858.274543</td>\n",
              "      <td>364.205609</td>\n",
              "      <td>1.173120e+06</td>\n",
              "    </tr>\n",
              "    <tr>\n",
              "      <th>10</th>\n",
              "      <td>868.796474</td>\n",
              "      <td>752.048080</td>\n",
              "      <td>1.340280e+06</td>\n",
              "    </tr>\n",
              "    <tr>\n",
              "      <th>11</th>\n",
              "      <td>879.276233</td>\n",
              "      <td>1548.487706</td>\n",
              "      <td>1.517470e+06</td>\n",
              "    </tr>\n",
              "    <tr>\n",
              "      <th>12</th>\n",
              "      <td>889.700878</td>\n",
              "      <td>3177.838621</td>\n",
              "      <td>1.704014e+06</td>\n",
              "    </tr>\n",
              "    <tr>\n",
              "      <th>13</th>\n",
              "      <td>900.042363</td>\n",
              "      <td>6492.382034</td>\n",
              "      <td>1.898576e+06</td>\n",
              "    </tr>\n",
              "    <tr>\n",
              "      <th>14</th>\n",
              "      <td>910.244183</td>\n",
              "      <td>13171.257205</td>\n",
              "      <td>2.098524e+06</td>\n",
              "    </tr>\n",
              "    <tr>\n",
              "      <th>15</th>\n",
              "      <td>920.196714</td>\n",
              "      <td>26399.730483</td>\n",
              "      <td>2.298777e+06</td>\n",
              "    </tr>\n",
              "    <tr>\n",
              "      <th>16</th>\n",
              "      <td>929.694626</td>\n",
              "      <td>51766.018523</td>\n",
              "      <td>2.490000e+06</td>\n",
              "    </tr>\n",
              "    <tr>\n",
              "      <th>17</th>\n",
              "      <td>938.373902</td>\n",
              "      <td>97481.574275</td>\n",
              "      <td>2.656723e+06</td>\n",
              "    </tr>\n",
              "    <tr>\n",
              "      <th>18</th>\n",
              "      <td>945.655203</td>\n",
              "      <td>170582.408305</td>\n",
              "      <td>2.778610e+06</td>\n",
              "    </tr>\n",
              "    <tr>\n",
              "      <th>19</th>\n",
              "      <td>950.815038</td>\n",
              "      <td>263456.019687</td>\n",
              "      <td>2.841831e+06</td>\n",
              "    </tr>\n",
              "    <tr>\n",
              "      <th>20</th>\n",
              "      <td>953.434798</td>\n",
              "      <td>339745.554099</td>\n",
              "      <td>2.858693e+06</td>\n",
              "    </tr>\n",
              "    <tr>\n",
              "      <th>21</th>\n",
              "      <td>954.126332</td>\n",
              "      <td>367849.512053</td>\n",
              "      <td>2.859959e+06</td>\n",
              "    </tr>\n",
              "    <tr>\n",
              "      <th>22</th>\n",
              "      <td>954.178197</td>\n",
              "      <td>370352.017390</td>\n",
              "      <td>2.859967e+06</td>\n",
              "    </tr>\n",
              "    <tr>\n",
              "      <th>23</th>\n",
              "      <td>954.178535</td>\n",
              "      <td>370369.132376</td>\n",
              "      <td>2.859967e+06</td>\n",
              "    </tr>\n",
              "    <tr>\n",
              "      <th>24</th>\n",
              "      <td>954.178535</td>\n",
              "      <td>370369.133167</td>\n",
              "      <td>2.859967e+06</td>\n",
              "    </tr>\n",
              "    <tr>\n",
              "      <th>25</th>\n",
              "      <td>954.178535</td>\n",
              "      <td>370369.133167</td>\n",
              "      <td>2.859967e+06</td>\n",
              "    </tr>\n",
              "  </tbody>\n",
              "</table>\n",
              "</div>"
            ],
            "text/plain": [
              "             p              a       f(p, a)\n",
              "0     1.000000       1.000000 -2.913730e+07\n",
              "1   765.967500       0.905627  2.171276e+05\n",
              "2   784.580665       2.066774  3.013660e+05\n",
              "3   794.138785       4.367071  3.930492e+05\n",
              "4   805.087386       9.241905  4.960207e+05\n",
              "5   815.801259      19.425483  6.098916e+05\n",
              "6   826.483030      40.640580  7.346246e+05\n",
              "7   837.118897      84.689636  8.701367e+05\n",
              "8   847.715266     175.888079  1.016341e+06\n",
              "9   858.274543     364.205609  1.173120e+06\n",
              "10  868.796474     752.048080  1.340280e+06\n",
              "11  879.276233    1548.487706  1.517470e+06\n",
              "12  889.700878    3177.838621  1.704014e+06\n",
              "13  900.042363    6492.382034  1.898576e+06\n",
              "14  910.244183   13171.257205  2.098524e+06\n",
              "15  920.196714   26399.730483  2.298777e+06\n",
              "16  929.694626   51766.018523  2.490000e+06\n",
              "17  938.373902   97481.574275  2.656723e+06\n",
              "18  945.655203  170582.408305  2.778610e+06\n",
              "19  950.815038  263456.019687  2.841831e+06\n",
              "20  953.434798  339745.554099  2.858693e+06\n",
              "21  954.126332  367849.512053  2.859959e+06\n",
              "22  954.178197  370352.017390  2.859967e+06\n",
              "23  954.178535  370369.132376  2.859967e+06\n",
              "24  954.178535  370369.133167  2.859967e+06\n",
              "25  954.178535  370369.133167  2.859967e+06"
            ]
          },
          "metadata": {
            "tags": []
          },
          "execution_count": 19
        }
      ]
    },
    {
      "cell_type": "markdown",
      "metadata": {
        "id": "aFhGto83gZj_"
      },
      "source": [
        "Podemos obter uma estimativa das sensibilidades, comparando com os resultados do item a) com este item. Para calcular $S(p, r)$, a sensibilidade de $p$ em função de $r$, façamos\n",
        "$$\n",
        "S(p, r) = \\frac{p^{*_c}}{p^{*_a}} - 1,\n",
        "$$\n",
        "sendo $p^{*_n}$ a variável $p$ no ponto ótimo no item $n$ desta questão,\n",
        "$$\n",
        "S(a, r) = \\frac{a^{*_c}}{a^{*_a}} - 1,\n",
        "$$\n",
        "sendo $a^{*_n}$ a variável $a$ no ponto ótimo no item $n$ desta questão."
      ]
    },
    {
      "cell_type": "code",
      "metadata": {
        "id": "1e9k4TuOgadh",
        "colab": {
          "base_uri": "https://localhost:8080/",
          "height": 95
        },
        "outputId": "2fb1f1b1-0899-4e52-fbbb-28180ca2b879"
      },
      "source": [
        "valor_p_a, valor_a_a, valor_f_a = solucoes_a[1][p], solucoes_a[1][a], N(f_a.subs(solucoes_a[1]))\n",
        "valor_p_c, valor_a_c, valor_f_c = resultado_newton_c.iloc[-1]\n",
        "\n",
        "\n",
        "display(Math(f\"\"\"\n",
        "\\\\begin{{aligned}}\n",
        "S(p, r) &= \\\\frac{{{N(valor_p_c)}}}{{{N(valor_p_a)}}} -1 = {(N(valor_p_c)/N(valor_p_a) - 1) * 100}\\%\\\\\\\\\n",
        "S(a, r) &= \\\\frac{{{N(valor_a_c)}}}{{{N(valor_a_a)}}} -1 = {(N(valor_a_c)/N(valor_a_a) - 1) * 100}\\%\n",
        "\\\\end{{aligned}}\n",
        "\"\"\"))"
      ],
      "execution_count": null,
      "outputs": [
        {
          "output_type": "display_data",
          "data": {
            "text/latex": "$$\n\\begin{aligned}\nS(p, r) &= \\frac{954.178535070370}{953.720038384914} -1 = 0.0480745572078334\\%\\\\\nS(a, r) &= \\frac{370369.133166909}{366040.641152074} -1 = 1.18251678316712\\%\n\\end{aligned}\n$$",
            "text/plain": [
              "<IPython.core.display.Math object>"
            ]
          },
          "metadata": {
            "tags": []
          }
        }
      ]
    },
    {
      "cell_type": "markdown",
      "metadata": {
        "id": "1O6J-RuGZe7k"
      },
      "source": [
        "Podemos então concluir que para cada $1\\%$ de variação de crescimento de $r$, tem-se aproximadamente $0.0481\\%$ de variação de crescimento no valor do produto ($p$) e $1.1825\\%$ no total gasto em publicidade ($a$)."
      ]
    },
    {
      "cell_type": "markdown",
      "metadata": {
        "id": "3QJcFjicAQxY"
      },
      "source": [
        "### d) What goes wrong in part (a) if we assume a linear relationship between advertising budget and sales?  Why wasn’t this an issue in Exercise 6 of Chapter 2?\n",
        " \n",
        "Considerando uma relação linear entre o orçamento de publicidade e as vendas no item a) desta questão, haveria um problema, pois o lucro tenderia ao infinito já que não existe um orçamento máximo que se possa gastar em publicidade. Ou seja, quanto mais se investe em publicidade mais se lucra o que é impossível na realidade, pois existe um limite para se gastar. Já na questão 6 do capítulo 2, não houve este problema, pois existia um limite máximo para o gasto em publicidade que era 100,000."
      ]
    }
  ]
}