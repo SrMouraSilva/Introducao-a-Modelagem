{
  "nbformat": 4,
  "nbformat_minor": 0,
  "metadata": {
    "colab": {
      "name": "3.7.ipynb",
      "provenance": [],
      "collapsed_sections": [],
      "toc_visible": true,
      "include_colab_link": true
    },
    "kernelspec": {
      "name": "python3",
      "display_name": "Python 3"
    }
  },
  "cells": [
    {
      "cell_type": "markdown",
      "metadata": {
        "id": "view-in-github",
        "colab_type": "text"
      },
      "source": [
        "<a href=\"https://colab.research.google.com/github/SrMouraSilva/Introducao-a-Modelagem/blob/main/3_7.ipynb\" target=\"_parent\"><img src=\"https://colab.research.google.com/assets/colab-badge.svg\" alt=\"Open In Colab\"/></a>"
      ]
    },
    {
      "cell_type": "code",
      "metadata": {
        "id": "r7FFD4Sr-IFq",
        "colab": {
          "base_uri": "https://localhost:8080/",
          "height": 17
        },
        "outputId": "ac98ac0d-fdc7-4f00-ac6a-e12da5075091"
      },
      "source": [
        "# Programação simbólica\n",
        "from sympy import *\n",
        "from sympy.plotting import plot, plot3d\n",
        " \n",
        "# Exibir símbolos nos plots\n",
        "from google.colab.output._publish import javascript\n",
        "url = \"https://cdnjs.cloudflare.com/ajax/libs/mathjax/3.1.2/latest.js?config=default\"\n",
        " \n",
        "javascript(url=url)\n",
        "from IPython.display import Math\n",
        " \n",
        "# Manipulação dos dados\n",
        "import numpy as np\n",
        "import pandas as pd\n",
        "\n",
        "# Gráficos\n",
        "import matplotlib as mpl\n",
        "import matplotlib.pyplot as plt\n",
        " \n",
        "import seaborn as sns\n",
        "sns.set_theme()\n",
        " \n",
        "mpl.rcParams['figure.figsize'] = (12,8)\n",
        "mpl.rcParams['font.size'] = 14\n",
        "mpl.rcParams['legend.fontsize'] = 14"
      ],
      "execution_count": null,
      "outputs": [
        {
          "output_type": "display_data",
          "data": {
            "text/html": [
              "<script src='https://cdnjs.cloudflare.com/ajax/libs/mathjax/3.1.2/latest.js?config=default'></script>"
            ],
            "text/plain": [
              "<IPython.core.display.HTML object>"
            ]
          },
          "metadata": {
            "tags": []
          }
        }
      ]
    },
    {
      "cell_type": "markdown",
      "metadata": {
        "id": "mnTEZuBg6OHQ"
      },
      "source": [
        "## Questão 3.7\n",
        " \n",
        "Reconsider the color TV problem of the Example 2.1, but now **use numerical methods** instead of the analytic methos we employed in Chapter 2.\n",
        " \n"
      ]
    },
    {
      "cell_type": "markdown",
      "metadata": {
        "id": "SoLmbhpaeIkr"
      },
      "source": [
        "### a) Determine the production levels $x_1$ and $x_2$ that maximize the objective function $y=f(x_1, x_2)$ in Eq. (2.2) of Chapter 2. Use the two–variable version of Newton’s method.\n",
        " \n",
        "Relembrando o exemplo 2.1\n",
        " \n",
        "> **Example 2.1.** A manufacturer of color TV sets is planning the introduction of two new products, a 19–inch LCD flat panel set with a manufacturer's suggested retail price (MSRP) of \\\\$339 and a 21–inch LCD flat panel set with an MSRP of \\\\$399. The cost to the company is $195 per 19–inch set and \\\\$225 per 21–inch set, plus an additional \\\\$400,000 in fixed costs. In the competitive market in which these sets will be sold, the number of sales per year will affect the average selling price. It is estimated that for each type of set, the average selling price drops by one cent for each additional unit sold. Furthermore, sales of the 19–inch set will affect sales of the 21–inch set, and vice–versa. It is estimated that the average selling price for the 19–inch set will be reduced by an additional 0.3 cents for each 21–inch set sold, and the price for the 21–inch set will decrease by 0.4 cents for each 19–inch set sold. How many units of each type of set should be manufactured?"
      ]
    },
    {
      "cell_type": "markdown",
      "metadata": {
        "id": "Q5wgCcg0OBA8"
      },
      "source": [
        "\n",
        " \n",
        "#### Passo 1 - Variáveis\n",
        " \n",
        "* $s$ = número de televisões de 19 polegadas vendidas (por ano)\n",
        "* $t$ = número de televisões de 21 polegadas vendidas (por ano)\n",
        "* $p$ = preço de venda de uma televisão de 19 polegadas (\\\\$)\n",
        "* $q$ = preço de venda de uma televisão de 21 polegadas (\\\\$)\n",
        "* $C$ = custo de manufatura das televisões (\\\\$)\n",
        "* $R$ = receita obtida com a venda das televisões (\\\\$)\n",
        "* $P$ = lucro com a venda das televisões (\\\\$)\n",
        " \n"
      ]
    },
    {
      "cell_type": "markdown",
      "metadata": {
        "id": "m_GHiI-eOA4u"
      },
      "source": [
        "#### Passo 1 - Suposições do problema"
      ]
    },
    {
      "cell_type": "code",
      "metadata": {
        "id": "dnhduJDq6N6l"
      },
      "source": [
        "s, t = var('s, t', real=True)\n",
        "\n",
        "p = 339 - 0.01*s - 0.003*t\n",
        "q = 399 - 0.004*s - 0.01*t\n",
        "R = p*s + q*t\n",
        "C = 400_000 + 195*s +225*t\n",
        "P = R-C\n",
        "\n",
        "#s >= 0\n",
        "#t >= 0"
      ],
      "execution_count": null,
      "outputs": []
    },
    {
      "cell_type": "markdown",
      "metadata": {
        "id": "PrfM10YIlQJn"
      },
      "source": [
        "#### Passo 2 - Abordagem de modelagem\n",
        "\n",
        "Problema de otimização multidimensional cujo objetivo é maximizar $s$ e $t$. A solução se dará pelo método numérico de Newton.\n"
      ]
    },
    {
      "cell_type": "markdown",
      "metadata": {
        "id": "EqdztitWOFbq"
      },
      "source": [
        "#### Passo 3 - Formulação do modelo\n",
        "\n",
        "$$\n",
        "\\begin{align}\n",
        "\\text{max} ~~& f(s, t) \\\\\n",
        "\\text{sujeito a} ~~& t \\in \\Omega \\\\\n",
        "\\end{align}\n",
        "$$\n",
        "\n",
        "Sendo:\n",
        "* $f(s, t)$: Função objetivo\n",
        "* $\\Omega$: Espaço viável das variáveis do problema.\n",
        "\n",
        "Desta forma, temos:\n",
        "\n",
        "$$\n",
        "\\begin{align}\n",
        "\\text{max} ~~& f(s, t) = R-C \\\\\n",
        "\\text{sujeito a} ~~ & s \\geq 0 \\\\\n",
        "                    & t \\geq 0\n",
        "\\end{align}\n",
        "$$\n"
      ]
    },
    {
      "cell_type": "markdown",
      "metadata": {
        "id": "kUiQ-IJFOFjW"
      },
      "source": [
        "\n",
        "#### Passo 4 - Resolução do modelo\n",
        "\n",
        "Para aplicar o método de Newton, necessitamos de sua derivada primeira, segunda e da inversa da segunda. Seja a função $f(s, t)$ sendo"
      ]
    },
    {
      "cell_type": "code",
      "metadata": {
        "id": "1RGqQWdqlNOU",
        "colab": {
          "base_uri": "https://localhost:8080/",
          "height": 38
        },
        "outputId": "47540f75-1895-45fb-c7c8-2c1496e2895c"
      },
      "source": [
        "f = P\n",
        "\n",
        "Math(f\"f(s, t) = {latex(f)}\")"
      ],
      "execution_count": null,
      "outputs": [
        {
          "output_type": "execute_result",
          "data": {
            "text/latex": "$$f(s, t) = s \\left(- 0.01 s - 0.003 t + 339\\right) - 195 s + t \\left(- 0.004 s - 0.01 t + 399\\right) - 225 t - 400000$$",
            "text/plain": [
              "<IPython.core.display.Math object>"
            ]
          },
          "metadata": {
            "tags": []
          },
          "execution_count": 3
        }
      ]
    },
    {
      "cell_type": "markdown",
      "metadata": {
        "id": "CR9KhoX3yqcQ"
      },
      "source": [
        "Temos o seu vetor gradiente \n",
        "$$\\nabla f(s, t) = \n",
        "\\left[\n",
        "\\begin{matrix}\n",
        "    \\frac{\\partial f(s, t)}{\\partial s} \\\\\n",
        "    \\frac{\\partial f(s, t)}{\\partial t}\n",
        "\\end{matrix}\n",
        "\\right]\n",
        "$$\n",
        "como"
      ]
    },
    {
      "cell_type": "code",
      "metadata": {
        "id": "yltctb3zxqpH",
        "colab": {
          "base_uri": "https://localhost:8080/",
          "height": 58
        },
        "outputId": "77a1c87c-cc50-4b9b-d83b-37b46b3d809f"
      },
      "source": [
        "grad_f = Matrix(derive_by_array(f, (s, t)))\n",
        "\n",
        "display(Math(f\"\\\\nabla f(s, t) = {latex(grad_f)}\"))"
      ],
      "execution_count": null,
      "outputs": [
        {
          "output_type": "display_data",
          "data": {
            "text/latex": "$$\\nabla f(s, t) = \\left[\\begin{matrix}- 0.02 s - 0.007 t + 144\\\\- 0.007 s - 0.02 t + 174\\end{matrix}\\right]$$",
            "text/plain": [
              "<IPython.core.display.Math object>"
            ]
          },
          "metadata": {
            "tags": []
          }
        }
      ]
    },
    {
      "cell_type": "markdown",
      "metadata": {
        "id": "wCoDuH6auc02"
      },
      "source": [
        "Sua hessiana $$H = \\nabla^2 f(s, t) = \n",
        "\\left[\n",
        "\\begin{matrix}\n",
        "    \\frac{\\partial^2 f(s, t)}{\\partial s^2} & \\frac{\\partial^2 f(s, t)}{\\partial s \\partial t} \\\\\n",
        "    \\frac{\\partial^2 f(s, t)}{\\partial t \\partial s} & \\frac{\\partial^2 f(s, t)}{\\partial t^2}\n",
        "\\end{matrix}\n",
        "\\right]\n",
        "$$\n",
        "como"
      ]
    },
    {
      "cell_type": "code",
      "metadata": {
        "id": "e6-i2Bu_ue3X",
        "colab": {
          "base_uri": "https://localhost:8080/",
          "height": 58
        },
        "outputId": "6c177a84-a9ce-41c9-e8ec-b912df27a792"
      },
      "source": [
        "hessian_f = hessian(f, [s, t])\n",
        "\n",
        "Math(f\"H = \\\\nabla^2 f(s, t) = {latex(hessian_f)}\")"
      ],
      "execution_count": null,
      "outputs": [
        {
          "output_type": "execute_result",
          "data": {
            "text/latex": "$$H = \\nabla^2 f(s, t) = \\left[\\begin{matrix}-0.02 & -0.007\\\\-0.007 & -0.02\\end{matrix}\\right]$$",
            "text/plain": [
              "<IPython.core.display.Math object>"
            ]
          },
          "metadata": {
            "tags": []
          },
          "execution_count": 5
        }
      ]
    },
    {
      "cell_type": "markdown",
      "metadata": {
        "id": "E4v5vOf-096r"
      },
      "source": [
        "E a matriz inversa da hessiana como"
      ]
    },
    {
      "cell_type": "code",
      "metadata": {
        "id": "dx7OWkO01JYH",
        "colab": {
          "base_uri": "https://localhost:8080/",
          "height": 58
        },
        "outputId": "8ccbf724-c59e-42c7-920f-0c4fa3a18bc4"
      },
      "source": [
        "Math(f\"H^{{-1}} = \\\\nabla^2 f(s, t) = {latex(hessian_f.inv())}\")"
      ],
      "execution_count": null,
      "outputs": [
        {
          "output_type": "execute_result",
          "data": {
            "text/latex": "$$H^{-1} = \\nabla^2 f(s, t) = \\left[\\begin{matrix}-56.980056980057 & 19.9430199430199\\\\19.9430199430199 & -56.980056980057\\end{matrix}\\right]$$",
            "text/plain": [
              "<IPython.core.display.Math object>"
            ]
          },
          "metadata": {
            "tags": []
          },
          "execution_count": 6
        }
      ]
    },
    {
      "cell_type": "markdown",
      "metadata": {
        "id": "mM0BjhQw1I4y"
      },
      "source": [
        "Agora podemos executar o método de Newton. Após o código, encontra-se uma tabela exibindo os valores de $s$, $t$ e de $f(s, t)$ para cada $i$-ésima iteração, sendo $i$ informado na primeira coluna."
      ]
    },
    {
      "cell_type": "code",
      "metadata": {
        "id": "q0bF463p0vzl",
        "colab": {
          "base_uri": "https://localhost:8080/",
          "height": 206
        },
        "outputId": "091d9593-af2e-492e-acd8-49867c5a1481"
      },
      "source": [
        "def MetodoNewton(variaveis, valores_iniciais, funcao, numero_iteracoes=10):\n",
        "    num_variaveis = len(variaveis)\n",
        "    x_ = np.zeros((num_variaveis, numero_iteracoes+1))\n",
        "    \n",
        "    x_[:, 0] = valores_iniciais\n",
        "\n",
        "    f = lambdify(variaveis, funcao, 'numpy')\n",
        "\n",
        "    gradiente = Matrix(derive_by_array(funcao, variaveis))\n",
        "    gradiente_f_original = lambdify(variaveis, gradiente, 'numpy')\n",
        "    gradiente_f = lambda vetor: gradiente_f_original(*vetor.T.flatten())\n",
        "\n",
        "    hessiana = hessian(funcao, variaveis)\n",
        "\n",
        "    hessiana_inversa_f_original = lambdify(variaveis, hessiana.inv(), 'numpy')\n",
        "    hessiana_inversa_f = lambda vetor: hessiana_inversa_f_original(*vetor.T.flatten())\n",
        "    \n",
        "    for k in range(numero_iteracoes):\n",
        "        x_k = x_[:, [k]]\n",
        "\n",
        "        x_k_next = x_k - hessiana_inversa_f(x_k) @ gradiente_f(x_k)\n",
        "        x_[:, k+1] = x_k_next.T\n",
        "    \n",
        "    retorno = {f'{variavel}': x_[i] for i, variavel in enumerate(variaveis)}\n",
        "    retorno[f'f{Tuple(*variaveis)}'] = [f(*x_i) for x_i in x_.T]\n",
        "    \n",
        "    return pd.DataFrame(retorno)\n",
        "\n",
        "resultado_newton_a = MetodoNewton(\n",
        "    variaveis=(s, t),\n",
        "    valores_iniciais=(0, 0),\n",
        "    funcao=f,\n",
        "    numero_iteracoes=4\n",
        ")\n",
        "\n",
        "resultado_newton_a"
      ],
      "execution_count": null,
      "outputs": [
        {
          "output_type": "execute_result",
          "data": {
            "text/html": [
              "<div>\n",
              "<style scoped>\n",
              "    .dataframe tbody tr th:only-of-type {\n",
              "        vertical-align: middle;\n",
              "    }\n",
              "\n",
              "    .dataframe tbody tr th {\n",
              "        vertical-align: top;\n",
              "    }\n",
              "\n",
              "    .dataframe thead th {\n",
              "        text-align: right;\n",
              "    }\n",
              "</style>\n",
              "<table border=\"1\" class=\"dataframe\">\n",
              "  <thead>\n",
              "    <tr style=\"text-align: right;\">\n",
              "      <th></th>\n",
              "      <th>s</th>\n",
              "      <th>t</th>\n",
              "      <th>f(s, t)</th>\n",
              "    </tr>\n",
              "  </thead>\n",
              "  <tbody>\n",
              "    <tr>\n",
              "      <th>0</th>\n",
              "      <td>0.000000</td>\n",
              "      <td>0.000000</td>\n",
              "      <td>-400000.000000</td>\n",
              "    </tr>\n",
              "    <tr>\n",
              "      <th>1</th>\n",
              "      <td>4735.042735</td>\n",
              "      <td>7042.735043</td>\n",
              "      <td>553641.025641</td>\n",
              "    </tr>\n",
              "    <tr>\n",
              "      <th>2</th>\n",
              "      <td>4735.042735</td>\n",
              "      <td>7042.735043</td>\n",
              "      <td>553641.025641</td>\n",
              "    </tr>\n",
              "    <tr>\n",
              "      <th>3</th>\n",
              "      <td>4735.042735</td>\n",
              "      <td>7042.735043</td>\n",
              "      <td>553641.025641</td>\n",
              "    </tr>\n",
              "    <tr>\n",
              "      <th>4</th>\n",
              "      <td>4735.042735</td>\n",
              "      <td>7042.735043</td>\n",
              "      <td>553641.025641</td>\n",
              "    </tr>\n",
              "  </tbody>\n",
              "</table>\n",
              "</div>"
            ],
            "text/plain": [
              "             s            t        f(s, t)\n",
              "0     0.000000     0.000000 -400000.000000\n",
              "1  4735.042735  7042.735043  553641.025641\n",
              "2  4735.042735  7042.735043  553641.025641\n",
              "3  4735.042735  7042.735043  553641.025641\n",
              "4  4735.042735  7042.735043  553641.025641"
            ]
          },
          "metadata": {
            "tags": []
          },
          "execution_count": 7
        }
      ]
    },
    {
      "cell_type": "markdown",
      "metadata": {
        "id": "Gf2wYLIs-nLk"
      },
      "source": [
        "#### Passo 5 - Resposta da pergunta\n",
        "\n",
        "A resposta obtida pelo modelo matemático proposto é que deve-se vender aproximadamente 4735 televisões de 19 polegadas e 7042 televisões de 21 polegadas, obtendo o lucro de \\$553,641."
      ]
    },
    {
      "cell_type": "markdown",
      "metadata": {
        "id": "e13aHA58_v6M"
      },
      "source": [
        "### b) As in Section 2.1, let $a$ denote the price elasticity for 19–inch sets. In part (a) we assumed $a= 0.01$. Now assume that $a$ increases by $10\\%$ to $a = 0.011$ and repeat the optimization problem in part (a). Use your results to obtain a numerical estimate of the sensitivities $S(x_1, a), S(x_2, a)$, and $S(y, a)$. Compare to the results obtained analytically in Section 2.1.\n",
        "\n",
        "Redefiniremos as variáveis, incluindo $a$ agora.\n"
      ]
    },
    {
      "cell_type": "code",
      "metadata": {
        "id": "4ZyepjQC-mq1"
      },
      "source": [
        "s, t, a = var('s, t, a', real=True)\n",
        "\n",
        "p = 339 - a*s - 0.003*t\n",
        "q = 399 - 0.004*s - 0.01*t\n",
        "R = p*s + q*t\n",
        "C = 400_000 + 195*s +225*t\n",
        "P = R-C\n",
        "\n",
        "#s >= 0\n",
        "#t >= 0"
      ],
      "execution_count": null,
      "outputs": []
    },
    {
      "cell_type": "markdown",
      "metadata": {
        "id": "afpTy5zs6Y_E"
      },
      "source": [
        "A função $f(s, t; a)$ será"
      ]
    },
    {
      "cell_type": "code",
      "metadata": {
        "id": "VdsdFvGK6gxy",
        "colab": {
          "base_uri": "https://localhost:8080/",
          "height": 38
        },
        "outputId": "c748858d-493e-4577-9f0f-006a00f0de23"
      },
      "source": [
        "f = P\n",
        "\n",
        "Math(f\"f(s, t; a) = {latex(f)}\")"
      ],
      "execution_count": null,
      "outputs": [
        {
          "output_type": "execute_result",
          "data": {
            "text/latex": "$$f(s, t; a) = s \\left(- a s - 0.003 t + 339\\right) - 195 s + t \\left(- 0.004 s - 0.01 t + 399\\right) - 225 t - 400000$$",
            "text/plain": [
              "<IPython.core.display.Math object>"
            ]
          },
          "metadata": {
            "tags": []
          },
          "execution_count": 9
        }
      ]
    },
    {
      "cell_type": "markdown",
      "metadata": {
        "id": "uNgMX3y46jcl"
      },
      "source": [
        "Para este item, $a=0.011$, então executaremos novamente o método de Newton, definindo explicitamente que $a=0.011$. Deste modo, teremos $f(s, t)$ como sendo:"
      ]
    },
    {
      "cell_type": "code",
      "metadata": {
        "id": "iWcJW-bH6-6V",
        "colab": {
          "base_uri": "https://localhost:8080/",
          "height": 38
        },
        "outputId": "93950706-6883-491e-996c-5c143f183e6c"
      },
      "source": [
        "#@title Valor de `a` { vertical-output: true, display-mode: \"form\" }\n",
        " \n",
        "valor_a = 0.011 #@param {type:\"number\"}\n",
        " \n",
        "variaveis = {\n",
        "    a: valor_a\n",
        "}\n",
        " \n",
        "Math(f\"f(s, t) = f(s, t; a={valor_a}) = {latex(f.subs(variaveis))}\")"
      ],
      "execution_count": null,
      "outputs": [
        {
          "output_type": "execute_result",
          "data": {
            "text/latex": "$$f(s, t) = f(s, t; a=0.011) = s \\left(- 0.011 s - 0.003 t + 339\\right) - 195 s + t \\left(- 0.004 s - 0.01 t + 399\\right) - 225 t - 400000$$",
            "text/plain": [
              "<IPython.core.display.Math object>"
            ]
          },
          "metadata": {
            "tags": []
          },
          "execution_count": 10
        }
      ]
    },
    {
      "cell_type": "markdown",
      "metadata": {
        "id": "hjLF7fdn8LuV"
      },
      "source": [
        "O resultado do método de Newton é apresentado na tabela abaixo. Os valores $s$, $t$ e $f(s, t)$ são apresentados para cada $i$-ésima iteração ($i$-ésima linha)."
      ]
    },
    {
      "cell_type": "code",
      "metadata": {
        "id": "e-EGRqPs6jHw",
        "colab": {
          "base_uri": "https://localhost:8080/",
          "height": 206
        },
        "outputId": "86443828-51ec-4c6e-a1cf-24cb22ffb263"
      },
      "source": [
        "resultado_newton_b = MetodoNewton(\n",
        "    variaveis=(s, t),\n",
        "    valores_iniciais=(0, 0),\n",
        "    funcao=f.subs(variaveis),\n",
        "    numero_iteracoes=4\n",
        ")\n",
        "resultado_newton_b"
      ],
      "execution_count": null,
      "outputs": [
        {
          "output_type": "execute_result",
          "data": {
            "text/html": [
              "<div>\n",
              "<style scoped>\n",
              "    .dataframe tbody tr th:only-of-type {\n",
              "        vertical-align: middle;\n",
              "    }\n",
              "\n",
              "    .dataframe tbody tr th {\n",
              "        vertical-align: top;\n",
              "    }\n",
              "\n",
              "    .dataframe thead th {\n",
              "        text-align: right;\n",
              "    }\n",
              "</style>\n",
              "<table border=\"1\" class=\"dataframe\">\n",
              "  <thead>\n",
              "    <tr style=\"text-align: right;\">\n",
              "      <th></th>\n",
              "      <th>s</th>\n",
              "      <th>t</th>\n",
              "      <th>f(s, t)</th>\n",
              "    </tr>\n",
              "  </thead>\n",
              "  <tbody>\n",
              "    <tr>\n",
              "      <th>0</th>\n",
              "      <td>0.000000</td>\n",
              "      <td>0.000000</td>\n",
              "      <td>-400000.000000</td>\n",
              "    </tr>\n",
              "    <tr>\n",
              "      <th>1</th>\n",
              "      <td>4250.639386</td>\n",
              "      <td>7212.276215</td>\n",
              "      <td>533514.066496</td>\n",
              "    </tr>\n",
              "    <tr>\n",
              "      <th>2</th>\n",
              "      <td>4250.639386</td>\n",
              "      <td>7212.276215</td>\n",
              "      <td>533514.066496</td>\n",
              "    </tr>\n",
              "    <tr>\n",
              "      <th>3</th>\n",
              "      <td>4250.639386</td>\n",
              "      <td>7212.276215</td>\n",
              "      <td>533514.066496</td>\n",
              "    </tr>\n",
              "    <tr>\n",
              "      <th>4</th>\n",
              "      <td>4250.639386</td>\n",
              "      <td>7212.276215</td>\n",
              "      <td>533514.066496</td>\n",
              "    </tr>\n",
              "  </tbody>\n",
              "</table>\n",
              "</div>"
            ],
            "text/plain": [
              "             s            t        f(s, t)\n",
              "0     0.000000     0.000000 -400000.000000\n",
              "1  4250.639386  7212.276215  533514.066496\n",
              "2  4250.639386  7212.276215  533514.066496\n",
              "3  4250.639386  7212.276215  533514.066496\n",
              "4  4250.639386  7212.276215  533514.066496"
            ]
          },
          "metadata": {
            "tags": []
          },
          "execution_count": 11
        }
      ]
    },
    {
      "cell_type": "markdown",
      "metadata": {
        "id": "3OK6uYM88mx2"
      },
      "source": [
        "Podemos obter uma estimativa das sensibilidades comparando o resulta do item a com este item. Para calcular $S(x_i, a)$, a sensibilidade de $x_i$ em função de $a$, façamos\n",
        "$$\n",
        "S(x_i, a) = \\frac{x_i^{*_b}}{x_i^{*_a}} - 1,\n",
        "$$\n",
        "sendo $x_i^{*_n}$ a $i$-ésima variável ótima no item $n$ desta questão e\n",
        "$$\n",
        "S(y, a) = \\frac{f(s, t; a=0.011)}{f(s, t; a=0.01)} - 1.\n",
        "$$"
      ]
    },
    {
      "cell_type": "code",
      "metadata": {
        "id": "vc1tiimZ8mOr",
        "colab": {
          "base_uri": "https://localhost:8080/",
          "height": 134
        },
        "outputId": "119d3b59-7598-4cec-d531-e2c1cbaa6223"
      },
      "source": [
        "valor_s_a, valor_t_a, valor_f_a = resultado_newton_a.iloc[-1]\n",
        "valor_s_b, valor_t_b, valor_f_b = resultado_newton_b.iloc[-1]\n",
        "\n",
        "\n",
        "Math(f\"\"\"\n",
        "\\\\begin{{aligned}}\n",
        "S(s, a) &= \\\\frac{{{valor_s_b}}}{{{valor_s_a}}} - 1 = {(valor_s_b/valor_s_a - 1) * 100}\\%\\\\\\\\\n",
        "S(t, a) &= \\\\frac{{{valor_t_b}}}{{{valor_t_a}}} - 1 = {(valor_t_b/valor_t_a - 1) * 100}\\%\\\\\\\\\n",
        "S(y, a)   &= \\\\frac{{{valor_f_b}}}{{{valor_f_a}}} - 1 = {(valor_f_b/valor_f_a - 1) * 100}\\%\n",
        "\\\\end{{aligned}}\n",
        "\"\"\")"
      ],
      "execution_count": null,
      "outputs": [
        {
          "output_type": "execute_result",
          "data": {
            "text/latex": "$$\n\\begin{aligned}\nS(s, a) &= \\frac{4250.639386189258}{4735.042735042735} - 1 = -10.23017902813299\\%\\\\\nS(t, a) &= \\frac{7212.27621483376}{7042.735042735043} - 1 = 2.4073200407220607\\%\\\\\nS(y, a)   &= \\frac{533514.0664961641}{553641.0256410257} - 1 = -3.63538072735089\\%\n\\end{aligned}\n$$",
            "text/plain": [
              "<IPython.core.display.Math object>"
            ]
          },
          "metadata": {
            "tags": []
          },
          "execution_count": 12
        }
      ]
    },
    {
      "cell_type": "markdown",
      "metadata": {
        "id": "kXVLacoq_HzH"
      },
      "source": [
        "Desta forma, temos que, a medida que $a$ aumenta $10\\%$, para o ponto ótimo\n",
        "* $x_1$, o número de vendas das televisões de 19 polegadas, cai $10.230\\%$\n",
        "* $x_2$, o número de vendas das televisões de 21 polegadas, aumenta $2.407\\%$\n",
        "* $y$, o lucro cai $3.635\\%$\n",
        "\n",
        "Já no exemplo 2.1, a medida que $a$ aumenta $10\\%$, para o ponto ótimo\n",
        "* $x_1$, o número de vendas das televisões de 19 polegadas, cai $11.0\\%$\n",
        "* $x_2$, o número de vendas das televisões de 21 polegadas, aumenta $2.7\\%$\n",
        "* $y$, o lucro, cai $4\\%$. \n",
        "\n",
        "Observe que a análise de sensibilidade numérica das variáveis $x_1$, $x_2$ e $y$ é promissora se comparada com a análise de sensibilidade analítica das variáveis $x_1$, $x_2$ e $y$ a medida que $a$ aumenta $10\\%$, porém vale ressaltar que o erro relativo de cada análise de sensibilidade numérica  para cada variável ainda está distante de zero. Veja logo abaixo\n",
        "* $r_{x_1} = \\frac{0.11 - 0.1023}{0.11} = 0.07$ \n",
        "* $r_{x_2} = \\frac{0.027 - 0.02407}{0.027} = 0.1085$\n",
        "* $r_{y} = \\frac{0.04 - 0.0365}{0.04} = 0.0875$\n",
        "\n",
        "\n"
      ]
    },
    {
      "cell_type": "markdown",
      "metadata": {
        "id": "OaCASp7y8cEu"
      },
      "source": [
        "### c) Let $b$ denote the price elasticity for 21–inch sets. Currently, $b= 0.01$. As in part (b), use numerical methods to estimate the sensitivities of $x_1,x_2$, and $y$ to the parameter $b$.\n",
        "\n",
        "Redefinamos as variáveis, incluindo $b$ agora.\n",
        "\n"
      ]
    },
    {
      "cell_type": "code",
      "metadata": {
        "id": "ZxmFnPq6AQdG"
      },
      "source": [
        "s, t, b = var('s, t, b', real=True)\n",
        "\n",
        "p = 339 - 0.01*s - 0.003*t\n",
        "q = 399 - 0.004*s - b*t\n",
        "R = p*s + q*t\n",
        "C = 400_000 + 195*s +225*t\n",
        "P = R-C\n",
        "\n",
        "#s >= 0\n",
        "#t >= 0"
      ],
      "execution_count": null,
      "outputs": []
    },
    {
      "cell_type": "markdown",
      "metadata": {
        "id": "9R1LkRrXB10E"
      },
      "source": [
        "A função $f(s, t; b)$ será"
      ]
    },
    {
      "cell_type": "code",
      "metadata": {
        "id": "-0SIFRlMB5vT",
        "colab": {
          "base_uri": "https://localhost:8080/",
          "height": 38
        },
        "outputId": "4a6bd85e-1428-4f82-a58e-ef32fa47a2d8"
      },
      "source": [
        "f = P\n",
        "\n",
        "Math(f\"f(s, t; b) = {latex(f)}\")"
      ],
      "execution_count": null,
      "outputs": [
        {
          "output_type": "execute_result",
          "data": {
            "text/latex": "$$f(s, t; b) = s \\left(- 0.01 s - 0.003 t + 339\\right) - 195 s + t \\left(- b t - 0.004 s + 399\\right) - 225 t - 400000$$",
            "text/plain": [
              "<IPython.core.display.Math object>"
            ]
          },
          "metadata": {
            "tags": []
          },
          "execution_count": 14
        }
      ]
    },
    {
      "cell_type": "markdown",
      "metadata": {
        "id": "tY9SZgRDB8f5"
      },
      "source": [
        "Para este item, $b=0.011$, então executaremos novamente o método de Newton, definindo explicitamente que $b=0.011$. Deste modo, teremos $f(s, t)$ como sendo:"
      ]
    },
    {
      "cell_type": "code",
      "metadata": {
        "id": "QmuC9PhoCPuV",
        "colab": {
          "base_uri": "https://localhost:8080/",
          "height": 38
        },
        "outputId": "b6bef719-87df-44d8-95fd-963bc89fec05"
      },
      "source": [
        "#@title Valor de `b` { vertical-output: true, display-mode: \"form\" }\n",
        "\n",
        "valor_b = 0.011 #@param {type:\"number\"}\n",
        "\n",
        "variaveis = {\n",
        "    b: valor_b\n",
        "}\n",
        "\n",
        "Math(f\"f(s, t) = f(s, t; b={valor_b}) = {latex(f.subs(variaveis))}\")"
      ],
      "execution_count": null,
      "outputs": [
        {
          "output_type": "execute_result",
          "data": {
            "text/latex": "$$f(s, t) = f(s, t; b=0.011) = s \\left(- 0.01 s - 0.003 t + 339\\right) - 195 s + t \\left(- 0.004 s - 0.011 t + 399\\right) - 225 t - 400000$$",
            "text/plain": [
              "<IPython.core.display.Math object>"
            ]
          },
          "metadata": {
            "tags": []
          },
          "execution_count": 15
        }
      ]
    },
    {
      "cell_type": "markdown",
      "metadata": {
        "id": "WATvwJyACc87"
      },
      "source": [
        "O resultado do método de Newton é apresentado na tabela abaixo. Os valores $s$, $t$ e $f(s, t)$ são apresentados para cada i-ésima iteração ($i$-ésima linha)."
      ]
    },
    {
      "cell_type": "code",
      "metadata": {
        "id": "E4QKJb3dCgBM",
        "colab": {
          "base_uri": "https://localhost:8080/",
          "height": 206
        },
        "outputId": "102c3cf3-22d3-434e-b9f2-7ba53137ef13"
      },
      "source": [
        "resultado_newton_c = MetodoNewton(\n",
        "    variaveis=(s, t),\n",
        "    valores_iniciais=(0, 0),\n",
        "    funcao=f.subs(variaveis),\n",
        "    numero_iteracoes=4\n",
        ")\n",
        "resultado_newton_c"
      ],
      "execution_count": null,
      "outputs": [
        {
          "output_type": "execute_result",
          "data": {
            "text/html": [
              "<div>\n",
              "<style scoped>\n",
              "    .dataframe tbody tr th:only-of-type {\n",
              "        vertical-align: middle;\n",
              "    }\n",
              "\n",
              "    .dataframe tbody tr th {\n",
              "        vertical-align: top;\n",
              "    }\n",
              "\n",
              "    .dataframe thead th {\n",
              "        text-align: right;\n",
              "    }\n",
              "</style>\n",
              "<table border=\"1\" class=\"dataframe\">\n",
              "  <thead>\n",
              "    <tr style=\"text-align: right;\">\n",
              "      <th></th>\n",
              "      <th>s</th>\n",
              "      <th>t</th>\n",
              "      <th>f(s, t)</th>\n",
              "    </tr>\n",
              "  </thead>\n",
              "  <tbody>\n",
              "    <tr>\n",
              "      <th>0</th>\n",
              "      <td>0.000000</td>\n",
              "      <td>0.000000</td>\n",
              "      <td>-400000.000000</td>\n",
              "    </tr>\n",
              "    <tr>\n",
              "      <th>1</th>\n",
              "      <td>4987.212276</td>\n",
              "      <td>6322.250639</td>\n",
              "      <td>509115.089514</td>\n",
              "    </tr>\n",
              "    <tr>\n",
              "      <th>2</th>\n",
              "      <td>4987.212276</td>\n",
              "      <td>6322.250639</td>\n",
              "      <td>509115.089514</td>\n",
              "    </tr>\n",
              "    <tr>\n",
              "      <th>3</th>\n",
              "      <td>4987.212276</td>\n",
              "      <td>6322.250639</td>\n",
              "      <td>509115.089514</td>\n",
              "    </tr>\n",
              "    <tr>\n",
              "      <th>4</th>\n",
              "      <td>4987.212276</td>\n",
              "      <td>6322.250639</td>\n",
              "      <td>509115.089514</td>\n",
              "    </tr>\n",
              "  </tbody>\n",
              "</table>\n",
              "</div>"
            ],
            "text/plain": [
              "             s            t        f(s, t)\n",
              "0     0.000000     0.000000 -400000.000000\n",
              "1  4987.212276  6322.250639  509115.089514\n",
              "2  4987.212276  6322.250639  509115.089514\n",
              "3  4987.212276  6322.250639  509115.089514\n",
              "4  4987.212276  6322.250639  509115.089514"
            ]
          },
          "metadata": {
            "tags": []
          },
          "execution_count": 16
        }
      ]
    },
    {
      "cell_type": "markdown",
      "metadata": {
        "id": "e5TH-9zxCnzc"
      },
      "source": [
        "Podemos obter uma estimativa das sensibilidades, comparando o resultado do item a com este item. Para calcular $S(x_1, b)$, a sensibilidade de $x_1$ em função de $b$, façamos\n",
        "$$\n",
        "S(x_1, b) = \\frac{x_1^{*_b}}{x_1^{*_a}} - 1,\n",
        "$$\n",
        "sendo $x_i^{*_n}$ a $i$-ésima variável ótima no item $n$ desta questão e\n",
        "$$\n",
        "S(y, b) = \\frac{f(s, t; b=0.011)}{f(s, t; b=0.01)} - 1.\n",
        "$$"
      ]
    },
    {
      "cell_type": "code",
      "metadata": {
        "id": "deOKFTjQC27o",
        "colab": {
          "base_uri": "https://localhost:8080/",
          "height": 134
        },
        "outputId": "cca8bf09-de55-4bb3-d964-5da104d646b7"
      },
      "source": [
        "valor_s_a, valor_t_a, valor_f_a = resultado_newton_a.iloc[-1]\n",
        "valor_s_c, valor_t_c, valor_f_c = resultado_newton_c.iloc[-1]\n",
        "\n",
        "\n",
        "Math(f\"\"\"\n",
        "\\\\begin{{aligned}}\n",
        "S(x_1, b) &= \\\\frac{{{valor_s_c}}}{{{valor_s_a}}} - 1 = {(valor_s_c/valor_s_a - 1) * 100}\\%\\\\\\\\\n",
        "S(x_2, b) &= \\\\frac{{{valor_t_c}}}{{{valor_t_a}}} - 1 = {(valor_t_c/valor_t_a - 1) * 100}\\%\\\\\\\\\n",
        "S(y, b)   &= \\\\frac{{{valor_f_c}}}{{{valor_f_a}}} - 1 = {(valor_f_c/valor_f_a - 1) * 100}\\%\n",
        "\\\\end{{aligned}}\n",
        "\"\"\")"
      ],
      "execution_count": null,
      "outputs": [
        {
          "output_type": "execute_result",
          "data": {
            "text/latex": "$$\n\\begin{aligned}\nS(x_1, b) &= \\frac{4987.212276214834}{4735.042735042735} - 1 = 5.325602223309667\\%\\\\\nS(x_2, b) &= \\frac{6322.2506393861895}{7042.735042735043} - 1 = -10.23017902813299\\%\\\\\nS(y, b)   &= \\frac{509115.08951406623}{553641.0256410257} - 1 = -8.04238379469906\\%\n\\end{aligned}\n$$",
            "text/plain": [
              "<IPython.core.display.Math object>"
            ]
          },
          "metadata": {
            "tags": []
          },
          "execution_count": 17
        }
      ]
    },
    {
      "cell_type": "markdown",
      "metadata": {
        "id": "pL95uV3SC9Jx"
      },
      "source": [
        "Desta forma, temos que a medida que $b$ aumenta $10\\%$, para o ponto ótimo\n",
        "* $x_1$, o número de vendas das televisões de 19 polegadas, aumenta $5.326\\%$\n",
        "* $x_2$, o número de vendas das televisões de 21 polegadas, cai $10.230\\%$\n",
        "* $y$, o lucro, cai $8.042\\%$"
      ]
    },
    {
      "cell_type": "markdown",
      "metadata": {
        "id": "3QJcFjicAQxY"
      },
      "source": [
        "### d) Compare the analytic methods of Section 2.1 to the numerical methods employed in this problem. Which do you prefer? Explain.\n",
        "\n",
        "Conforme foi visto no item b), a análise de sensibilidade numérica foi promisora se comparada com a análise de sensibilidade analítica, porém o erro relativo ainda estava distante de zero. Logo, preferimos utilizar métodos analíticos do que métodos numéricos caso seja possível utilizar recursos computacionais para a obtenção de resultados analíticos para não haver problemas de erro numérico como foi visto no item b) desta questão."
      ]
    }
  ]
}