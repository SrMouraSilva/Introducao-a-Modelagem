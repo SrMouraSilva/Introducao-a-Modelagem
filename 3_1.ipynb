{
  "nbformat": 4,
  "nbformat_minor": 0,
  "metadata": {
    "colab": {
      "name": "3.1.ipynb",
      "provenance": [],
      "collapsed_sections": [],
      "include_colab_link": true
    },
    "kernelspec": {
      "name": "python3",
      "display_name": "Python 3"
    }
  },
  "cells": [
    {
      "cell_type": "markdown",
      "metadata": {
        "id": "view-in-github",
        "colab_type": "text"
      },
      "source": [
        "<a href=\"https://colab.research.google.com/github/SrMouraSilva/Introducao-a-Modelagem/blob/main/3_1.ipynb\" target=\"_parent\"><img src=\"https://colab.research.google.com/assets/colab-badge.svg\" alt=\"Open In Colab\"/></a>"
      ]
    },
    {
      "cell_type": "code",
      "metadata": {
        "id": "r7FFD4Sr-IFq",
        "colab": {
          "base_uri": "https://localhost:8080/",
          "height": 17
        },
        "outputId": "f62fbfcf-df6e-4e3c-9b6b-2fbbb3f33025"
      },
      "source": [
        "# Programação simbólica\n",
        "from sympy import *\n",
        "from sympy.plotting import plot, plot3d\n",
        " \n",
        "# Exibir símbolos nos plots\n",
        "from google.colab.output._publish import javascript\n",
        "url = \"https://cdnjs.cloudflare.com/ajax/libs/mathjax/3.1.2/latest.js?config=default\"\n",
        " \n",
        "javascript(url=url)\n",
        "from IPython.display import Math\n",
        " \n",
        "# Manipulação dos dados\n",
        "import numpy as np\n",
        "import pandas as pd\n",
        " \n",
        "# Gráficos\n",
        "import matplotlib as mpl\n",
        "import matplotlib.pyplot as plt\n",
        " \n",
        "import seaborn as sns\n",
        "sns.set_theme()\n",
        " \n",
        "mpl.rcParams['figure.figsize'] = (12,8)\n",
        "mpl.rcParams['font.size'] = 14\n",
        "mpl.rcParams['legend.fontsize'] = 14"
      ],
      "execution_count": null,
      "outputs": [
        {
          "output_type": "display_data",
          "data": {
            "text/html": [
              "<script src='https://cdnjs.cloudflare.com/ajax/libs/mathjax/3.1.2/latest.js?config=default'></script>"
            ],
            "text/plain": [
              "<IPython.core.display.HTML object>"
            ]
          },
          "metadata": {
            "tags": []
          }
        }
      ]
    },
    {
      "cell_type": "markdown",
      "metadata": {
        "id": "mnTEZuBg6OHQ"
      },
      "source": [
        "## Questão 3.1\n",
        "Reconsider the pig problem of Example 1.1, but now suppose that the price for  pigs after $t$ days is $p=0.65e^{−\\frac{0.01}{0.65}t}$ dollars/pound.\n",
        "\n",
        "Descrição do Exemplo 1.1:\n",
        "\n",
        "> A pig weighing 200 pounds gains 5 pounds per day and costs 45 cents a day to keep. The market price for pigs is 65 cents per pound, but is falling 1 cent per day. When should the pig be sold?\n"
      ]
    },
    {
      "cell_type": "markdown",
      "metadata": {
        "id": "slzxBQLvJfBJ"
      },
      "source": [
        " \n",
        "### a) Show that the price for pigs is falling by one cent/day at time $t=0$. What happens as $t$ increases?\n",
        " \n",
        "Expresse a relação preço $p$ x tempo $t$ conforme abaixo\n",
        "$$p = 0.65e^{-\\frac{0.01}{0.65}t} \\text{ dólares por libra}$$\n",
        " \n",
        "Faça $t = 0$ e $p = p_0$\n",
        "    \n",
        "$$p_0 = 0.65e^{0} = 0.65 \\text{ dólares por libra} $$\n",
        "    \n",
        "Faça $t = 1$ e $p = p_1$\n",
        "    \n",
        "$$p_1 =0.65e^{-\\frac{0.01}{0.65}} \\approx 0.64 \\text{ dólares por libra} $$\n",
        "    \n",
        "Expresse $\\Delta_p$ como variação de preço por dia no tempo $t = 0$ conforme abaixo\n",
        "    \n",
        "$$\\Delta_p = p_1 - p_0 $$\n",
        "    \n",
        "    \n",
        "Faça $p_0 = 0.65$ e $p_1 = 0.64$\n",
        "    \n",
        "$$\\Delta_p = p_1 - p_0 = 0.64 - 0.65 = - 0.01 \\text{ dólares por libra} = - 1 \\text{ centavo por libra}$$  \n",
        "    \n",
        "Portanto, foi mostrado que o preço dos suínos está decaindo 1 centavo ao dia no tempo $t = 0$.\n",
        " \n",
        "Pelo gráfico abaixo, o comportamento da função preço $p$ está decaindo a medida que o tempo $t$ aumenta, e segue uma função exponencial conforme o tempo avança."
      ]
    },
    {
      "cell_type": "code",
      "metadata": {
        "id": "dnhduJDq6N6l",
        "colab": {
          "base_uri": "https://localhost:8080/",
          "height": 425
        },
        "outputId": "a1b1e753-fdd9-4a47-8f8e-75f2b65fcbdf"
      },
      "source": [
        "t = var('t', real=True)\n",
        "\n",
        "p = 0.65*E**(-(0.01/0.65)*t)\n",
        "\n",
        "plot(p, (t, 0, 200), ylim=[0, 1], title='Preço do quilo do porco no $t$-ésimo dia')"
      ],
      "execution_count": null,
      "outputs": [
        {
          "output_type": "stream",
          "text": [
            "/usr/local/lib/python3.6/dist-packages/sympy/plotting/plot.py:890: MatplotlibDeprecationWarning: \n",
            "The set_smart_bounds function was deprecated in Matplotlib 3.2 and will be removed two minor releases later.\n",
            "  self.ax.spines['left'].set_smart_bounds(True)\n",
            "/usr/local/lib/python3.6/dist-packages/sympy/plotting/plot.py:891: MatplotlibDeprecationWarning: \n",
            "The set_smart_bounds function was deprecated in Matplotlib 3.2 and will be removed two minor releases later.\n",
            "  self.ax.spines['bottom'].set_smart_bounds(False)\n"
          ],
          "name": "stderr"
        },
        {
          "output_type": "display_data",
          "data": {
            "image/png": "[encoded data removed]",
            "text/plain": [
              "<Figure size 432x288 with 1 Axes>"
            ]
          },
          "metadata": {
            "tags": [],
            "needs_background": "light"
          }
        },
        {
          "output_type": "execute_result",
          "data": {
            "text/plain": [
              "<sympy.plotting.plot.Plot at 0x7fe57353e978>"
            ]
          },
          "metadata": {
            "tags": []
          },
          "execution_count": 2
        }
      ]
    },
    {
      "cell_type": "markdown",
      "metadata": {
        "id": "8WAnYVSf7GWZ"
      },
      "source": [
        "### b) Find the optimal time to sell the pig. Use the five-step method, and model as a one–variable optimization problem.\n",
        "\n",
        "\n"
      ]
    },
    {
      "cell_type": "markdown",
      "metadata": {
        "id": "AX0Kvq63JlAs"
      },
      "source": [
        "\n",
        "#### Passo 1 - Variáveis\n",
        "\n",
        "* $t$ = tempo (dias)\n",
        "* $w$ = peso do porco (lbs)\n",
        "* $p$ = preço do porco (\\\\$/lb)\n",
        "* $C$ = custo de manutenção do porco em $t$ dias (\\\\$)\n",
        "* $R$ = receita obtida com a venda do porco (\\\\$)\n",
        "* $P$ = lucro com a venda do porco (\\\\$)"
      ]
    },
    {
      "cell_type": "markdown",
      "metadata": {
        "id": "pdgT7JAeJk3J"
      },
      "source": [
        "\n",
        "#### Passo 1 - Suposições do problema"
      ]
    },
    {
      "cell_type": "code",
      "metadata": {
        "id": "VSJQS2oz7LFE"
      },
      "source": [
        "t = var('t', real=True)\n",
        "\n",
        "w = 200 + 5*t\n",
        "p = 0.65*E**(-(0.01/0.65)*t)\n",
        "C = 0.45*t\n",
        "R = p*w\n",
        "P = R-C\n",
        "\n",
        "#t >= 0"
      ],
      "execution_count": null,
      "outputs": []
    },
    {
      "cell_type": "markdown",
      "metadata": {
        "id": "OHFVjl0E-Rm3"
      },
      "source": [
        "#### Passo 2 - Abordagem de modelagem\n",
        "\n",
        "Problema de otimização unidimensional cujo objetivo é maximizar $P$ lucro do proprietário do porco.\n"
      ]
    },
    {
      "cell_type": "markdown",
      "metadata": {
        "id": "3akvlk4gJq6s"
      },
      "source": [
        "#### Passo 3 - Formulação do modelo\n",
        "\n",
        "$$\n",
        "\\begin{align}\n",
        "\\text{max} ~~& f(t) \\\\\n",
        "\\text{sujeito a} ~~& t \\in \\Omega \\\\\n",
        "\\end{align}\n",
        "$$\n",
        "\n",
        "Sendo:\n",
        "* $f(t)$: Função objetivo\n",
        "* $\\Omega$: Espaço viável das variáveis do problema.\n",
        "\n",
        "Desta forma, temos:\n",
        "\n",
        "$$\n",
        "\\begin{align}\n",
        "\\text{max} ~~& f(t) = 0.65 \\left(5 t + 200\\right) e^{−\\frac{0.01}{0.65}t} - 0.45 t\\\\\n",
        "\\text{sujeito a} ~~& t \\geq 0 \\\\\n",
        "\\end{align}\n",
        "$$"
      ]
    },
    {
      "cell_type": "markdown",
      "metadata": {
        "id": "lHeP-nxkJqzT"
      },
      "source": [
        "#### Passo 4 - Resolução do modelo\n",
        "\n",
        "Função a ser otimizada:"
      ]
    },
    {
      "cell_type": "code",
      "metadata": {
        "id": "QhmnL_3lAr12",
        "colab": {
          "base_uri": "https://localhost:8080/",
          "height": 38
        },
        "outputId": "3007c02d-edb6-49fe-ba11-fff64b0878a9"
      },
      "source": [
        "f = P\n",
        "Math(f\"f(t)={latex(f)}\")"
      ],
      "execution_count": null,
      "outputs": [
        {
          "output_type": "execute_result",
          "data": {
            "text/latex": "$$f(t)=- 0.45 t + 0.65 \\left(5 t + 200\\right) e^{- 0.0153846153846154 t}$$",
            "text/plain": [
              "<IPython.core.display.Math object>"
            ]
          },
          "metadata": {
            "tags": []
          },
          "execution_count": 4
        }
      ]
    },
    {
      "cell_type": "markdown",
      "metadata": {
        "id": "0_UZ2AG7BbTS"
      },
      "source": [
        "Calculando $\\frac{df(t)}{dt}$,"
      ]
    },
    {
      "cell_type": "code",
      "metadata": {
        "id": "EPijJKGzBd_V",
        "colab": {
          "base_uri": "https://localhost:8080/",
          "height": 40
        },
        "outputId": "f6e4e760-a133-44f8-c70b-1a7ec76cb057"
      },
      "source": [
        "dfdt = diff(f, t)\n",
        "Math(\"\\\\frac{df(t)}{dt}=\" + latex(dfdt))"
      ],
      "execution_count": null,
      "outputs": [
        {
          "output_type": "execute_result",
          "data": {
            "text/latex": "$$\\frac{df(t)}{dt}=- 0.01 \\left(5 t + 200\\right) e^{- 0.0153846153846154 t} - 0.45 + 3.25 e^{- 0.0153846153846154 t}$$",
            "text/plain": [
              "<IPython.core.display.Math object>"
            ]
          },
          "metadata": {
            "tags": []
          },
          "execution_count": 5
        }
      ]
    },
    {
      "cell_type": "markdown",
      "metadata": {
        "id": "3tdDilDfCGOV"
      },
      "source": [
        "Calculando $\\frac{df(t)}{dt} = 0$,\n"
      ]
    },
    {
      "cell_type": "code",
      "metadata": {
        "id": "CYYC8kRsCE5n",
        "colab": {
          "base_uri": "https://localhost:8080/",
          "height": 109
        },
        "outputId": "866b665c-ad08-40c0-fb42-e4ad803a18c7"
      },
      "source": [
        "#s_b = solve(dfdt, [t], dict=True, rational=True)[0]\n",
        "s_b = solve(dfdt, [t], dict=True)[0]\n",
        " \n",
        "Math(f\"\"\"\n",
        "\\\\begin{{aligned}}\n",
        "0 &= \\\\frac{{df(t)}}{{dt}} \\\\\\\\\n",
        "0 &= {latex(dfdt)}  \\\\\\\\\n",
        "t&={latex(s_b[t])}\n",
        "\\\\end{{aligned}}\n",
        "\"\"\")"
      ],
      "execution_count": null,
      "outputs": [
        {
          "output_type": "execute_result",
          "data": {
            "text/latex": "$$\n\\begin{aligned}\n0 &= \\frac{df(t)}{dt} \\\\\n0 &= - 0.01 \\left(5 t + 200\\right) e^{- 0.0153846153846154 t} - 0.45 + 3.25 e^{- 0.0153846153846154 t}  \\\\\nt&=13.8608262878868\n\\end{aligned}\n$$",
            "text/plain": [
              "<IPython.core.display.Math object>"
            ]
          },
          "metadata": {
            "tags": []
          },
          "execution_count": 6
        }
      ]
    },
    {
      "cell_type": "markdown",
      "metadata": {
        "id": "xbyFlQHUFHWj"
      },
      "source": [
        "Calculando $\\frac{d^2f(t)}{dt^2}$,"
      ]
    },
    {
      "cell_type": "code",
      "metadata": {
        "id": "yoVaK1Z0FJ3r",
        "colab": {
          "base_uri": "https://localhost:8080/",
          "height": 42
        },
        "outputId": "782b1ea0-e8de-48d0-959b-6472b68e3a70"
      },
      "source": [
        "df2dt2 = diff(dfdt, t)\n",
        "df2dt2 = simplify(df2dt2)\n",
        "Math(f\"\\\\frac{{d^2f(t)}}{{dt^2}} = {latex(df2dt2)}\")"
      ],
      "execution_count": null,
      "outputs": [
        {
          "output_type": "execute_result",
          "data": {
            "text/latex": "$$\\frac{d^2f(t)}{dt^2} = \\left(0.000769230769230769 t - 0.0692307692307692\\right) e^{- 0.0153846153846154 t}$$",
            "text/plain": [
              "<IPython.core.display.Math object>"
            ]
          },
          "metadata": {
            "tags": []
          },
          "execution_count": 7
        }
      ]
    },
    {
      "cell_type": "markdown",
      "metadata": {
        "id": "hIFr0jczFJLT"
      },
      "source": [
        "No ponto informado na primeira derivada é um ponto de máximo, pois temos "
      ]
    },
    {
      "cell_type": "code",
      "metadata": {
        "id": "ruKR-DijHv3d",
        "colab": {
          "base_uri": "https://localhost:8080/",
          "height": 42
        },
        "outputId": "9d1f1e66-ce18-4c53-8ecd-d0a4bbc15cba"
      },
      "source": [
        "Math(f\"\\\\frac{{d^2f(t={s_b[t]})}}{{dt^2}} = {df2dt2.subs(s_b)}.\")"
      ],
      "execution_count": null,
      "outputs": [
        {
          "output_type": "execute_result",
          "data": {
            "text/latex": "$$\\frac{d^2f(t=13.8608262878868)}{dt^2} = -0.0473210464341055.$$",
            "text/plain": [
              "<IPython.core.display.Math object>"
            ]
          },
          "metadata": {
            "tags": []
          },
          "execution_count": 8
        }
      ]
    },
    {
      "cell_type": "markdown",
      "metadata": {
        "id": "X2ElnNzqAriv"
      },
      "source": [
        "#### Passo 5 - Resposta da pergunta\n",
        "\n",
        "A resposta obtida pelo modelo matemático proposto é vender o porco depois de $13,86$ dias, obtendo um lucro de aproximadamente:"
      ]
    },
    {
      "cell_type": "code",
      "metadata": {
        "id": "aHs13OXB7UPR",
        "colab": {
          "base_uri": "https://localhost:8080/",
          "height": 37
        },
        "outputId": "93f2d2a4-d9fd-45a0-8396-a01be08a8020"
      },
      "source": [
        "Math(f\"\\${latex(f.subs(s_b))}.\")"
      ],
      "execution_count": null,
      "outputs": [
        {
          "output_type": "execute_result",
          "data": {
            "text/latex": "$$\\$135.194049354547.$$",
            "text/plain": [
              "<IPython.core.display.Math object>"
            ]
          },
          "metadata": {
            "tags": []
          },
          "execution_count": 9
        }
      ]
    },
    {
      "cell_type": "markdown",
      "metadata": {
        "id": "7-2SRNnw7Lo2"
      },
      "source": [
        "### c) The parameter $0.01$ represents the rate at which price is falling at time $t=0$. Perform a sensitivity analysis on this parameter. Consider both the best time to sell and the resulting net profit.\n",
        "\n",
        "Suponhamos que a depreciação da carne não seja mais o valor fixo de $\\$0.01$, mas dependa de uma variável $r$ agora:\n",
        "$$p = 0.65e^{−\\frac{r}{0.65}t}$$\n",
        "\n",
        "Assim, temos a função $f(t;r)$ sendo como:"
      ]
    },
    {
      "cell_type": "code",
      "metadata": {
        "id": "5EF8EsRxJ2iK",
        "colab": {
          "base_uri": "https://localhost:8080/",
          "height": 38
        },
        "outputId": "9686ec5f-d6d9-4187-ce42-8eaff437ff98"
      },
      "source": [
        "r = var('r', real=True)\n",
        "\n",
        "p = 0.65*E**(-(r/0.65)*t)\n",
        "R = p*w\n",
        "P = R-C\n",
        "\n",
        "f = P\n",
        "Math(f\"f(t; r)={latex(f)}.\")"
      ],
      "execution_count": null,
      "outputs": [
        {
          "output_type": "execute_result",
          "data": {
            "text/latex": "$$f(t; r)=- 0.45 t + 0.65 \\left(5 t + 200\\right) e^{- 1.53846153846154 r t}.$$",
            "text/plain": [
              "<IPython.core.display.Math object>"
            ]
          },
          "metadata": {
            "tags": []
          },
          "execution_count": 10
        }
      ]
    },
    {
      "cell_type": "markdown",
      "metadata": {
        "id": "sIp8EAlaYSNK"
      },
      "source": [
        "Calculando $\\frac{df(t;r)}{dt}$,"
      ]
    },
    {
      "cell_type": "code",
      "metadata": {
        "id": "ZBV-GNbAYU8W",
        "colab": {
          "base_uri": "https://localhost:8080/",
          "height": 40
        },
        "outputId": "7266e332-8ea1-4cf4-ed23-d599a058c920"
      },
      "source": [
        "dfdt = diff(f, t)\n",
        "Math(\"\\\\frac{df(t;r)}{dt}=\" + latex(dfdt))"
      ],
      "execution_count": null,
      "outputs": [
        {
          "output_type": "execute_result",
          "data": {
            "text/latex": "$$\\frac{df(t;r)}{dt}=- 1.0 r \\left(5 t + 200\\right) e^{- 1.53846153846154 r t} - 0.45 + 3.25 e^{- 1.53846153846154 r t}$$",
            "text/plain": [
              "<IPython.core.display.Math object>"
            ]
          },
          "metadata": {
            "tags": []
          },
          "execution_count": 11
        }
      ]
    },
    {
      "cell_type": "markdown",
      "metadata": {
        "id": "u_OBU7VTYdLP"
      },
      "source": [
        "Calculando $\\frac{df(t;r)}{dt}$ = 0,"
      ]
    },
    {
      "cell_type": "code",
      "metadata": {
        "id": "aBmpIj8OYjo8",
        "colab": {
          "base_uri": "https://localhost:8080/",
          "height": 129
        },
        "outputId": "499ed9cb-f5e7-4497-c798-a311abff4f91"
      },
      "source": [
        "s_c = solve(dfdt, [t], dict=True, rational=True)[0]\n",
        " \n",
        "Math(f\"\"\"\n",
        "\\\\begin{{aligned}}\n",
        "0 &= \\\\frac{{df(t;r)}}{{dt}} \\\\\\\\\n",
        "0 &= {latex(dfdt)}  \\\\\\\\\n",
        "t&={latex(s_c[t])}\n",
        "\\\\end{{aligned}}\n",
        "\"\"\")"
      ],
      "execution_count": null,
      "outputs": [
        {
          "output_type": "execute_result",
          "data": {
            "text/latex": "$$\n\\begin{aligned}\n0 &= \\frac{df(t;r)}{dt} \\\\\n0 &= - 1.0 r \\left(5 t + 200\\right) e^{- 1.53846153846154 r t} - 0.45 + 3.25 e^{- 1.53846153846154 r t}  \\\\\nt&=\\frac{1}{20 r} \\left(- 800 r - 13 \\operatorname{LambertW}{\\left (\\frac{9}{65} e^{- \\frac{800 r}{13} + 1} \\right )} + 13\\right)\n\\end{aligned}\n$$",
            "text/plain": [
              "<IPython.core.display.Math object>"
            ]
          },
          "metadata": {
            "tags": []
          },
          "execution_count": 12
        }
      ]
    },
    {
      "cell_type": "markdown",
      "metadata": {
        "id": "bCgPGAGDYvch"
      },
      "source": [
        "É mais natural e mais útil interpretar dados de sensibilidade em termos de mudança relativa ou mudança percentual (em $t$ é $100\\cdot\\frac{\\Delta}{t}$) do que em termos absolutos.\n",
        "\n",
        "* A mudança relativa em $t$ é $\\frac{\\Delta t}{t}$;\n",
        "* A mudança absoluta em $t$ é $100\\cdot\\frac{\\Delta t}{t}$.\n",
        "\n",
        "Se $r$ varia em $\\Delta r$, resultando numa variação $\\Delta t$ em $t$, então a razão entre as variações relativas é $\\frac{\\Delta t}{t}$ dividido por $\\frac{\\Delta r}{r}$. Assim, analisando quando $\\Delta r \\rightarrow 0$ e usando a definição de derivada, temos\n",
        "$$\\frac{\\Delta t/t}{\\Delta r/r} \\rightarrow \\frac{dt}{dr} \\cdot \\frac{r}{t}.$$\n",
        "\n",
        "Calculando $\\frac{dt}{dr}$,\n"
      ]
    },
    {
      "cell_type": "code",
      "metadata": {
        "id": "JdK1gil4Yu4f",
        "colab": {
          "base_uri": "https://localhost:8080/",
          "height": 204
        },
        "outputId": "645553bb-96dc-4cc9-fc51-45db26873277"
      },
      "source": [
        "dtdr = diff(s_c[t])\n",
        "\n",
        "Math(f\"\"\"\n",
        "\\\\begin{{aligned}}\n",
        "t    &= {latex(s_c[t])}; \\\\\\\\\n",
        "\\\\frac{{dt}}{{dr}} &= {latex(dtdr)} \\\\\\\\\n",
        "     &= {latex(simplify(dtdr))}.\n",
        "\\\\end{{aligned}}\n",
        "\"\"\")"
      ],
      "execution_count": null,
      "outputs": [
        {
          "output_type": "execute_result",
          "data": {
            "text/latex": "$$\n\\begin{aligned}\nt    &= \\frac{1}{20 r} \\left(- 800 r - 13 \\operatorname{LambertW}{\\left (\\frac{9}{65} e^{- \\frac{800 r}{13} + 1} \\right )} + 13\\right); \\\\\n\\frac{dt}{dr} &= \\frac{1}{20 r} \\left(-800 + \\frac{800 e^{- \\frac{800 r}{13} + 1} e^{\\frac{800 r}{13} - 1} \\operatorname{LambertW}{\\left (\\frac{9}{65} e^{- \\frac{800 r}{13} + 1} \\right )}}{\\operatorname{LambertW}{\\left (\\frac{9}{65} e^{- \\frac{800 r}{13} + 1} \\right )} + 1}\\right) - \\frac{1}{20 r^{2}} \\left(- 800 r - 13 \\operatorname{LambertW}{\\left (\\frac{9}{65} e^{- \\frac{800 r}{13} + 1} \\right )} + 13\\right) \\\\\n     &= \\frac{800 r \\operatorname{LambertW}{\\left (\\frac{9}{65} e^{- \\frac{800 r}{13} + 1} \\right )} + 13 \\operatorname{LambertW}^{2}{\\left (\\frac{9}{65} e^{- \\frac{800 r}{13} + 1} \\right )} - 13}{20 r^{2} \\left(\\operatorname{LambertW}{\\left (\\frac{9}{65} e^{- \\frac{800 r}{13} + 1} \\right )} + 1\\right)}.\n\\end{aligned}\n$$",
            "text/plain": [
              "<IPython.core.display.Math object>"
            ]
          },
          "metadata": {
            "tags": []
          },
          "execution_count": 13
        }
      ]
    },
    {
      "cell_type": "markdown",
      "metadata": {
        "id": "RV9w6cKkZ0Mr"
      },
      "source": [
        "Agora, podemos calcular a variação para $r=0.01$ (valor assumido no enunciado) e para $t=13.86...$ (ponto de máximo):\n"
      ]
    },
    {
      "cell_type": "code",
      "metadata": {
        "id": "ULEJvNFYZy_s",
        "colab": {
          "base_uri": "https://localhost:8080/",
          "height": 113
        },
        "outputId": "1276be9e-45dd-4b2c-ab05-2bdd0920adac"
      },
      "source": [
        "valores = {\n",
        "    r: 0.01,\n",
        "    t: s_b[t]\n",
        "}\n",
        "\n",
        "Math(f\"\"\"\n",
        "\\\\begin{{aligned}}\n",
        "\\\\frac{{dt}}{{dr}} \\\\cdot \\\\frac{{r}}{{t}} &= {latex(dtdr*r/t)} \\\\\\\\\n",
        "&= {latex((dtdr*r/t).subs(valores))}.\n",
        "\\\\end{{aligned}}\n",
        "\"\"\")"
      ],
      "execution_count": null,
      "outputs": [
        {
          "output_type": "execute_result",
          "data": {
            "text/latex": "$$\n\\begin{aligned}\n\\frac{dt}{dr} \\cdot \\frac{r}{t} &= \\frac{r}{t} \\left(\\frac{1}{20 r} \\left(-800 + \\frac{800 e^{- \\frac{800 r}{13} + 1} e^{\\frac{800 r}{13} - 1} \\operatorname{LambertW}{\\left (\\frac{9}{65} e^{- \\frac{800 r}{13} + 1} \\right )}}{\\operatorname{LambertW}{\\left (\\frac{9}{65} e^{- \\frac{800 r}{13} + 1} \\right )} + 1}\\right) - \\frac{1}{20 r^{2}} \\left(- 800 r - 13 \\operatorname{LambertW}{\\left (\\frac{9}{65} e^{- \\frac{800 r}{13} + 1} \\right )} + 13\\right)\\right) \\\\\n&= -3.46363331249737.\n\\end{aligned}\n$$",
            "text/plain": [
              "<IPython.core.display.Math object>"
            ]
          },
          "metadata": {
            "tags": []
          },
          "execution_count": 14
        }
      ]
    },
    {
      "cell_type": "markdown",
      "metadata": {
        "id": "86U-tFQqdPy_"
      },
      "source": [
        "Podemos então concluir que para cada $1\\%$ que se aumenta em $r$, diminui-se aproximadamente $3.46\\%$ em $t$.\n",
        " \n",
        "Queremos também saber a taxa de variação para a função objetivo, isto é, para o lucro:\n",
        "\\begin{align*}\n",
        "\\frac{\\Delta f(r)/r}{\\Delta r/r} \\rightarrow \\frac{df(r)}{dr} \\cdot \\frac{r}{f(r)},\n",
        "\\end{align*}\n",
        "sendo"
      ]
    },
    {
      "cell_type": "code",
      "metadata": {
        "id": "KQI7XvfJVBBD",
        "colab": {
          "base_uri": "https://localhost:8080/",
          "height": 162
        },
        "outputId": "8a9fe607-9e88-406d-b425-a99aac86ab39"
      },
      "source": [
        "f_r = f.subs(s_c)\n",
        "\n",
        "Math(f\"\"\"\n",
        "\\\\begin{{aligned}}\n",
        "t &= {latex(s_c[t])}; \\\\\\\\\n",
        "f(r) &= f(t; r); \\\\\\\\\n",
        "     &= {latex(f_r)}.\n",
        "\\\\end{{aligned}}\n",
        "\"\"\")"
      ],
      "execution_count": null,
      "outputs": [
        {
          "output_type": "execute_result",
          "data": {
            "text/latex": "$$\n\\begin{aligned}\nt &= \\frac{1}{20 r} \\left(- 800 r - 13 \\operatorname{LambertW}{\\left (\\frac{9}{65} e^{- \\frac{800 r}{13} + 1} \\right )} + 13\\right); \\\\\nf(r) &= f(t; r); \\\\\n     &= 0.239121636761438 \\left(200 + \\frac{1}{4 r} \\left(- 800 r - 13 \\operatorname{LambertW}{\\left (\\frac{9}{65} e^{- \\frac{800 r}{13} + 1} \\right )} + 13\\right)\\right) e^{61.5384615384615 r + 1.0 \\operatorname{LambertW}{\\left (\\frac{9}{65} e^{- \\frac{800 r}{13} + 1} \\right )}} - \\frac{0.0225}{r} \\left(- 800 r - 13 \\operatorname{LambertW}{\\left (\\frac{9}{65} e^{- \\frac{800 r}{13} + 1} \\right )} + 13\\right).\n\\end{aligned}\n$$",
            "text/plain": [
              "<IPython.core.display.Math object>"
            ]
          },
          "metadata": {
            "tags": []
          },
          "execution_count": 15
        }
      ]
    },
    {
      "cell_type": "markdown",
      "metadata": {
        "id": "hXJZCa_Yixqy"
      },
      "source": [
        "Derivando a função lucro $f(r)$, teremos $\\frac{{df(r)}}{{dr}}=$"
      ]
    },
    {
      "cell_type": "code",
      "metadata": {
        "id": "p_yIugcqaVKJ",
        "colab": {
          "base_uri": "https://localhost:8080/",
          "height": 226
        },
        "outputId": "1573038e-65a9-4dcc-8229-71a84af6aac6"
      },
      "source": [
        "dfdr = diff(f_r, r)\n",
        "\n",
        "Math(latex(dfdr))"
      ],
      "execution_count": null,
      "outputs": [
        {
          "output_type": "execute_result",
          "data": {
            "text/latex": "$$0.239121636761438 \\left(61.5384615384615 - \\frac{61.5384615384615 e^{- \\frac{800 r}{13} + 1} e^{\\frac{800 r}{13} - 1} \\operatorname{LambertW}{\\left (\\frac{9}{65} e^{- \\frac{800 r}{13} + 1} \\right )}}{\\operatorname{LambertW}{\\left (\\frac{9}{65} e^{- \\frac{800 r}{13} + 1} \\right )} + 1}\\right) \\left(200 + \\frac{1}{4 r} \\left(- 800 r - 13 \\operatorname{LambertW}{\\left (\\frac{9}{65} e^{- \\frac{800 r}{13} + 1} \\right )} + 13\\right)\\right) e^{61.5384615384615 r + 1.0 \\operatorname{LambertW}{\\left (\\frac{9}{65} e^{- \\frac{800 r}{13} + 1} \\right )}} + 0.239121636761438 \\left(\\frac{1}{4 r} \\left(-800 + \\frac{800 e^{- \\frac{800 r}{13} + 1} e^{\\frac{800 r}{13} - 1} \\operatorname{LambertW}{\\left (\\frac{9}{65} e^{- \\frac{800 r}{13} + 1} \\right )}}{\\operatorname{LambertW}{\\left (\\frac{9}{65} e^{- \\frac{800 r}{13} + 1} \\right )} + 1}\\right) - \\frac{1}{4 r^{2}} \\left(- 800 r - 13 \\operatorname{LambertW}{\\left (\\frac{9}{65} e^{- \\frac{800 r}{13} + 1} \\right )} + 13\\right)\\right) e^{61.5384615384615 r + 1.0 \\operatorname{LambertW}{\\left (\\frac{9}{65} e^{- \\frac{800 r}{13} + 1} \\right )}} - \\frac{0.0225}{r} \\left(-800 + \\frac{800 e^{- \\frac{800 r}{13} + 1} e^{\\frac{800 r}{13} - 1} \\operatorname{LambertW}{\\left (\\frac{9}{65} e^{- \\frac{800 r}{13} + 1} \\right )}}{\\operatorname{LambertW}{\\left (\\frac{9}{65} e^{- \\frac{800 r}{13} + 1} \\right )} + 1}\\right) + \\frac{0.0225}{r^{2}} \\left(- 800 r - 13 \\operatorname{LambertW}{\\left (\\frac{9}{65} e^{- \\frac{800 r}{13} + 1} \\right )} + 13\\right)$$",
            "text/plain": [
              "<IPython.core.display.Math object>"
            ]
          },
          "metadata": {
            "tags": []
          },
          "execution_count": 16
        }
      ]
    },
    {
      "cell_type": "markdown",
      "metadata": {
        "id": "dpTrguNblo7I"
      },
      "source": [
        "Agora, podemos obter a variação para $r=0.01$ e $ f(r) = f(0.01) = 135.194... $ para a função lucro:"
      ]
    },
    {
      "cell_type": "code",
      "metadata": {
        "id": "gNs3HUHgalKJ",
        "colab": {
          "base_uri": "https://localhost:8080/",
          "height": 43
        },
        "outputId": "bffa7d20-b04b-4b33-b9b3-e96d303bdbdd"
      },
      "source": [
        "valores = {\n",
        "    r: 0.01\n",
        "}\n",
        "\n",
        "Math(f\"\\\\frac{{df(r)}}{{dr}} \\\\cdot \\\\frac{{r}}{{f(r)}} = {latex((dfdr*r/f_r).subs(valores))}.\")"
      ],
      "execution_count": null,
      "outputs": [
        {
          "output_type": "execute_result",
          "data": {
            "text/latex": "$$\\frac{df(r)}{dr} \\cdot \\frac{r}{f(r)} = -0.223081775935119.$$",
            "text/plain": [
              "<IPython.core.display.Math object>"
            ]
          },
          "metadata": {
            "tags": []
          },
          "execution_count": 17
        }
      ]
    },
    {
      "cell_type": "markdown",
      "metadata": {
        "id": "gXrt41OflqEp"
      },
      "source": [
        "Podemos então concluir que para cada $1\\%$ que se aumenta em $r$, ocorrerá uma redução de aproximadamente $0.223\\%$ de lucro, caso o porco seja vendido na data que maximize o lucro."
      ]
    },
    {
      "cell_type": "markdown",
      "metadata": {
        "id": "O9DfeCrF7U8_"
      },
      "source": [
        "### d) Compare the results of (b) to what was done in Section 1.1, and comment on the robustness of our model.\n",
        "\n",
        "Na seção 1.1, a relação preço x tempo é linear. Além disso, o melhor momento para vender o porco é em 8 dias, com lucro líquido igual a 133.20 dólares. Já nesta questão, o melhor momento para vender o porco aumentou para 13.86 dias, com lucro líquido igual a 135.19 dólares com o uso da função exponencial para a relação preço x tempo. Portanto, o nosso modelo não é robusto com relação à suposição de linearidade."
      ]
    }
  ]
}